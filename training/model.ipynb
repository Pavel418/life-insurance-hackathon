{
 "cells": [
  {
   "cell_type": "markdown",
   "id": "367ceca0",
   "metadata": {
    "id": "iMVHEIeIPIWO",
    "papermill": {
     "duration": 0.016797,
     "end_time": "2022-12-28T17:14:42.534075",
     "exception": false,
     "start_time": "2022-12-28T17:14:42.517278",
     "status": "completed"
    },
    "tags": []
   },
   "source": [
    "# **Importing the data and explore it and preprocess it as needed**"
   ]
  },
  {
   "cell_type": "code",
   "execution_count": 3,
   "id": "0909d1fe",
   "metadata": {
    "execution": {
     "iopub.execute_input": "2022-12-28T17:14:42.568348Z",
     "iopub.status.busy": "2022-12-28T17:14:42.567633Z",
     "iopub.status.idle": "2022-12-28T17:14:42.576387Z",
     "shell.execute_reply": "2022-12-28T17:14:42.575408Z"
    },
    "id": "xlkWpy8dj70q",
    "papermill": {
     "duration": 0.028618,
     "end_time": "2022-12-28T17:14:42.578812",
     "exception": false,
     "start_time": "2022-12-28T17:14:42.550194",
     "status": "completed"
    },
    "tags": []
   },
   "outputs": [],
   "source": [
    "import pandas as pd\n"
   ]
  },
  {
   "cell_type": "code",
   "execution_count": 4,
   "id": "e81ca813",
   "metadata": {
    "execution": {
     "iopub.execute_input": "2022-12-28T17:14:42.612762Z",
     "iopub.status.busy": "2022-12-28T17:14:42.612356Z",
     "iopub.status.idle": "2022-12-28T17:14:43.272513Z",
     "shell.execute_reply": "2022-12-28T17:14:43.271078Z"
    },
    "id": "8161Rj0_kNGu",
    "papermill": {
     "duration": 0.680237,
     "end_time": "2022-12-28T17:14:43.275043",
     "exception": false,
     "start_time": "2022-12-28T17:14:42.594806",
     "status": "completed"
    },
    "tags": []
   },
   "outputs": [],
   "source": [
    "data1 = pd.read_csv('Train_Data/Train.csv')\n",
    "data2 = pd.read_csv('Train_Data/Train_Vehicletravellingdata.csv')\n",
    "data3 = pd.read_csv('Train_Data/Train_WeatherData.csv')"
   ]
  },
  {
   "cell_type": "code",
   "execution_count": 5,
   "id": "e7f5565a",
   "metadata": {
    "execution": {
     "iopub.execute_input": "2022-12-28T17:14:43.308720Z",
     "iopub.status.busy": "2022-12-28T17:14:43.308349Z",
     "iopub.status.idle": "2022-12-28T17:14:43.316983Z",
     "shell.execute_reply": "2022-12-28T17:14:43.315936Z"
    },
    "id": "BkT6H8uykmNr",
    "outputId": "a56556f9-5320-4ebf-e683-a80d4080957e",
    "papermill": {
     "duration": 0.027468,
     "end_time": "2022-12-28T17:14:43.318730",
     "exception": false,
     "start_time": "2022-12-28T17:14:43.291262",
     "status": "completed"
    },
    "tags": []
   },
   "outputs": [
    {
     "data": {
      "text/plain": [
       "(12994, 5)"
      ]
     },
     "execution_count": 5,
     "metadata": {},
     "output_type": "execute_result"
    }
   ],
   "source": [
    "data1.shape"
   ]
  },
  {
   "cell_type": "code",
   "execution_count": 6,
   "id": "5ac2dbc8",
   "metadata": {
    "execution": {
     "iopub.execute_input": "2022-12-28T17:14:43.352963Z",
     "iopub.status.busy": "2022-12-28T17:14:43.352330Z",
     "iopub.status.idle": "2022-12-28T17:14:43.358315Z",
     "shell.execute_reply": "2022-12-28T17:14:43.357392Z"
    },
    "id": "1Cvopko6kvwT",
    "outputId": "fc371987-38b3-4440-e4f2-e60ae6fdd826",
    "papermill": {
     "duration": 0.025702,
     "end_time": "2022-12-28T17:14:43.360715",
     "exception": false,
     "start_time": "2022-12-28T17:14:43.335013",
     "status": "completed"
    },
    "tags": []
   },
   "outputs": [
    {
     "data": {
      "text/plain": [
       "(162566, 10)"
      ]
     },
     "execution_count": 6,
     "metadata": {},
     "output_type": "execute_result"
    }
   ],
   "source": [
    "data2.shape"
   ]
  },
  {
   "cell_type": "code",
   "execution_count": 7,
   "id": "e0088871",
   "metadata": {
    "execution": {
     "iopub.execute_input": "2022-12-28T17:14:43.395776Z",
     "iopub.status.busy": "2022-12-28T17:14:43.395365Z",
     "iopub.status.idle": "2022-12-28T17:14:43.401756Z",
     "shell.execute_reply": "2022-12-28T17:14:43.400706Z"
    },
    "id": "RofdDEupky8p",
    "outputId": "f548ca67-caa2-4a0b-c666-fd2bc77b0183",
    "papermill": {
     "duration": 0.027121,
     "end_time": "2022-12-28T17:14:43.404078",
     "exception": false,
     "start_time": "2022-12-28T17:14:43.376957",
     "status": "completed"
    },
    "tags": []
   },
   "outputs": [
    {
     "data": {
      "text/plain": [
       "(162566, 9)"
      ]
     },
     "execution_count": 7,
     "metadata": {},
     "output_type": "execute_result"
    }
   ],
   "source": [
    "data3.shape"
   ]
  },
  {
   "cell_type": "code",
   "execution_count": 8,
   "id": "257edf2d",
   "metadata": {
    "execution": {
     "iopub.execute_input": "2022-12-28T17:14:43.438756Z",
     "iopub.status.busy": "2022-12-28T17:14:43.438351Z",
     "iopub.status.idle": "2022-12-28T17:14:43.444934Z",
     "shell.execute_reply": "2022-12-28T17:14:43.443585Z"
    },
    "id": "_WjBD-gYmCCb",
    "outputId": "56276b85-b497-4b84-964c-1ae9e8b064c5",
    "papermill": {
     "duration": 0.026661,
     "end_time": "2022-12-28T17:14:43.447223",
     "exception": false,
     "start_time": "2022-12-28T17:14:43.420562",
     "status": "completed"
    },
    "tags": []
   },
   "outputs": [
    {
     "name": "stdout",
     "output_type": "stream",
     "text": [
      "Index(['ID', 'V2', 'V5', 'V6', 'DrivingStyle'], dtype='object')\n",
      "Index(['ID', 'V1', 'V3', 'V4', 'V7', 'V8', 'V9', 'V10', 'V11', 'V18'], dtype='object')\n",
      "Index(['ID', 'V1', 'V12', 'V13', 'V14', 'V15', 'V16', 'V17', 'V19'], dtype='object')\n"
     ]
    }
   ],
   "source": [
    "print(data1.columns)\n",
    "print(data2.columns)\n",
    "print(data3.columns)"
   ]
  },
  {
   "cell_type": "code",
   "execution_count": 9,
   "id": "d88134a5",
   "metadata": {
    "execution": {
     "iopub.execute_input": "2022-12-28T17:14:43.482206Z",
     "iopub.status.busy": "2022-12-28T17:14:43.481822Z",
     "iopub.status.idle": "2022-12-28T17:14:43.493848Z",
     "shell.execute_reply": "2022-12-28T17:14:43.492964Z"
    },
    "id": "6pL-mjsNl9x1",
    "papermill": {
     "duration": 0.032254,
     "end_time": "2022-12-28T17:14:43.496080",
     "exception": false,
     "start_time": "2022-12-28T17:14:43.463826",
     "status": "completed"
    },
    "tags": []
   },
   "outputs": [],
   "source": [
    "data1 = data1.rename(columns = {'V2':'veincle length' ,\n",
    "                        'V5':'veincle weight' ,\n",
    "                        'V6':'axles number'})"
   ]
  },
  {
   "cell_type": "code",
   "execution_count": 10,
   "id": "f2a679be",
   "metadata": {
    "execution": {
     "iopub.execute_input": "2022-12-28T17:14:43.531737Z",
     "iopub.status.busy": "2022-12-28T17:14:43.531325Z",
     "iopub.status.idle": "2022-12-28T17:14:43.547609Z",
     "shell.execute_reply": "2022-12-28T17:14:43.546854Z"
    },
    "id": "hHaF4EhrpRCu",
    "papermill": {
     "duration": 0.037234,
     "end_time": "2022-12-28T17:14:43.549719",
     "exception": false,
     "start_time": "2022-12-28T17:14:43.512485",
     "status": "completed"
    },
    "tags": []
   },
   "outputs": [],
   "source": [
    "data2 = data2.rename(columns = {'V1':'time of collection' ,\n",
    "                        'V3':'Lane of the road' ,\n",
    "                        'V4':'veincle speed',\n",
    "                        'V7':'perceding Veincle ID',\n",
    "                        'V8':'perceding veincle speed',\n",
    "                        'V9':'perceding veincle weight',\n",
    "                        'V10':'perceding veincle length',\n",
    "                        'V11':'perceding veincle time-gap',\n",
    "                        'V18':'road condition'})"
   ]
  },
  {
   "cell_type": "code",
   "execution_count": null,
   "id": "306a3c4d",
   "metadata": {},
   "outputs": [],
   "source": [
    "data2.drop(['Lane of the road', \n",
    "            'perceding Veincle ID',\n",
    "            'perceding veincle speed',\n",
    "            'perceding veincle weight',\n",
    "            'perceding veincle length',\n",
    "            'perceding veincle time-gap',],\n",
    "            axis=1, inplace=True)"
   ]
  },
  {
   "cell_type": "code",
   "execution_count": 11,
   "id": "112b2264",
   "metadata": {
    "execution": {
     "iopub.execute_input": "2022-12-28T17:14:43.583256Z",
     "iopub.status.busy": "2022-12-28T17:14:43.582876Z",
     "iopub.status.idle": "2022-12-28T17:14:43.597429Z",
     "shell.execute_reply": "2022-12-28T17:14:43.596748Z"
    },
    "id": "19CuTMvBnX8i",
    "papermill": {
     "duration": 0.033704,
     "end_time": "2022-12-28T17:14:43.599465",
     "exception": false,
     "start_time": "2022-12-28T17:14:43.565761",
     "status": "completed"
    },
    "tags": []
   },
   "outputs": [],
   "source": [
    "data3 = data3.rename(columns = {'V1':'time of collection' ,\n",
    "                        'V12':'Air temprture' ,\n",
    "                        'V13':'perciption type',\n",
    "                        'V14':'perciption intensity',\n",
    "                        'V15':'relatve humadity',\n",
    "                        'V16':'wind direction',\n",
    "                        'V17':'wind speed',\n",
    "                        'V19':'Lighting condition'})"
   ]
  },
  {
   "cell_type": "code",
   "execution_count": 12,
   "id": "0f945ece",
   "metadata": {
    "execution": {
     "iopub.execute_input": "2022-12-28T17:14:43.632961Z",
     "iopub.status.busy": "2022-12-28T17:14:43.632371Z",
     "iopub.status.idle": "2022-12-28T17:14:43.639010Z",
     "shell.execute_reply": "2022-12-28T17:14:43.638008Z"
    },
    "id": "5n5tv-W7mZhP",
    "outputId": "d57fd906-3b25-4a50-a4ef-2dc28ccb7463",
    "papermill": {
     "duration": 0.025785,
     "end_time": "2022-12-28T17:14:43.641327",
     "exception": false,
     "start_time": "2022-12-28T17:14:43.615542",
     "status": "completed"
    },
    "tags": []
   },
   "outputs": [
    {
     "name": "stdout",
     "output_type": "stream",
     "text": [
      "Index(['ID', 'veincle length', 'veincle weight', 'axles number',\n",
      "       'DrivingStyle'],\n",
      "      dtype='object')\n",
      "Index(['ID', 'time of collection', 'Lane of the road', 'veincle speed',\n",
      "       'perceding Veincle ID', 'perceding veincle speed',\n",
      "       'perceding veincle weight', 'perceding veincle length',\n",
      "       'perceding veincle time-gap', 'road condition'],\n",
      "      dtype='object')\n",
      "Index(['ID', 'time of collection', 'Air temprture', 'perciption type',\n",
      "       'perciption intensity', 'relatve humadity', 'wind direction',\n",
      "       'wind speed', 'Lighting condition'],\n",
      "      dtype='object')\n"
     ]
    }
   ],
   "source": [
    "print(data1.columns)\n",
    "print(data2.columns)\n",
    "print(data3.columns)"
   ]
  },
  {
   "cell_type": "code",
   "execution_count": 13,
   "id": "f747fe29",
   "metadata": {
    "execution": {
     "iopub.execute_input": "2022-12-28T17:14:43.675569Z",
     "iopub.status.busy": "2022-12-28T17:14:43.674604Z",
     "iopub.status.idle": "2022-12-28T17:14:43.685620Z",
     "shell.execute_reply": "2022-12-28T17:14:43.684789Z"
    },
    "id": "2WkK8rLfk0sN",
    "outputId": "dfa57cac-ae8e-4143-cc1f-5123dac3f79f",
    "papermill": {
     "duration": 0.030146,
     "end_time": "2022-12-28T17:14:43.687690",
     "exception": false,
     "start_time": "2022-12-28T17:14:43.657544",
     "status": "completed"
    },
    "tags": []
   },
   "outputs": [
    {
     "data": {
      "text/plain": [
       "ID                0\n",
       "veincle length    0\n",
       "veincle weight    0\n",
       "axles number      0\n",
       "DrivingStyle      0\n",
       "dtype: int64"
      ]
     },
     "execution_count": 13,
     "metadata": {},
     "output_type": "execute_result"
    }
   ],
   "source": [
    "data1.isnull().sum()"
   ]
  },
  {
   "cell_type": "code",
   "execution_count": 14,
   "id": "39dba35f",
   "metadata": {
    "execution": {
     "iopub.execute_input": "2022-12-28T17:14:43.722258Z",
     "iopub.status.busy": "2022-12-28T17:14:43.721606Z",
     "iopub.status.idle": "2022-12-28T17:14:43.748386Z",
     "shell.execute_reply": "2022-12-28T17:14:43.747091Z"
    },
    "id": "5UuhkdmJk5qF",
    "outputId": "f16d9c4a-3caf-4cae-e1c0-04d490d017f9",
    "papermill": {
     "duration": 0.046697,
     "end_time": "2022-12-28T17:14:43.750733",
     "exception": false,
     "start_time": "2022-12-28T17:14:43.704036",
     "status": "completed"
    },
    "tags": []
   },
   "outputs": [
    {
     "data": {
      "text/plain": [
       "ID                               0\n",
       "time of collection               0\n",
       "Lane of the road                 0\n",
       "veincle speed                    0\n",
       "perceding Veincle ID             0\n",
       "perceding veincle speed          0\n",
       "perceding veincle weight         0\n",
       "perceding veincle length         0\n",
       "perceding veincle time-gap    2455\n",
       "road condition                   0\n",
       "dtype: int64"
      ]
     },
     "execution_count": 14,
     "metadata": {},
     "output_type": "execute_result"
    }
   ],
   "source": [
    "data2.isnull().sum()"
   ]
  },
  {
   "cell_type": "code",
   "execution_count": 15,
   "id": "2bc70643",
   "metadata": {
    "execution": {
     "iopub.execute_input": "2022-12-28T17:14:43.785652Z",
     "iopub.status.busy": "2022-12-28T17:14:43.784404Z",
     "iopub.status.idle": "2022-12-28T17:14:43.821973Z",
     "shell.execute_reply": "2022-12-28T17:14:43.820966Z"
    },
    "id": "7mHc546kk83L",
    "outputId": "6340488e-dec2-41a8-eea7-07afc4c56c4a",
    "papermill": {
     "duration": 0.05685,
     "end_time": "2022-12-28T17:14:43.823809",
     "exception": false,
     "start_time": "2022-12-28T17:14:43.766959",
     "status": "completed"
    },
    "tags": []
   },
   "outputs": [
    {
     "data": {
      "text/plain": [
       "ID                         0\n",
       "time of collection         0\n",
       "Air temprture           2057\n",
       "perciption type            0\n",
       "perciption intensity       0\n",
       "relatve humadity        2105\n",
       "wind direction          2114\n",
       "wind speed              2464\n",
       "Lighting condition         0\n",
       "dtype: int64"
      ]
     },
     "execution_count": 15,
     "metadata": {},
     "output_type": "execute_result"
    }
   ],
   "source": [
    "data3.isnull().sum()"
   ]
  },
  {
   "cell_type": "code",
   "execution_count": 16,
   "id": "d817e4e1",
   "metadata": {
    "execution": {
     "iopub.execute_input": "2022-12-28T17:14:43.859152Z",
     "iopub.status.busy": "2022-12-28T17:14:43.857896Z",
     "iopub.status.idle": "2022-12-28T17:14:43.866805Z",
     "shell.execute_reply": "2022-12-28T17:14:43.865894Z"
    },
    "id": "VpEduulzlAAA",
    "outputId": "b0d952a6-9bf7-4b6a-ae37-84dc366f783f",
    "papermill": {
     "duration": 0.028573,
     "end_time": "2022-12-28T17:14:43.868992",
     "exception": false,
     "start_time": "2022-12-28T17:14:43.840419",
     "status": "completed"
    },
    "tags": []
   },
   "outputs": [
    {
     "data": {
      "text/plain": [
       "ID                0\n",
       "veincle length    0\n",
       "veincle weight    0\n",
       "axles number      0\n",
       "DrivingStyle      0\n",
       "dtype: int64"
      ]
     },
     "execution_count": 16,
     "metadata": {},
     "output_type": "execute_result"
    }
   ],
   "source": [
    "data1.isna().sum()\n"
   ]
  },
  {
   "cell_type": "code",
   "execution_count": 17,
   "id": "94179c73",
   "metadata": {
    "execution": {
     "iopub.execute_input": "2022-12-28T17:14:43.903191Z",
     "iopub.status.busy": "2022-12-28T17:14:43.902793Z",
     "iopub.status.idle": "2022-12-28T17:14:43.929593Z",
     "shell.execute_reply": "2022-12-28T17:14:43.928696Z"
    },
    "id": "Ad9sO_HPlCiZ",
    "outputId": "dc6548e2-7993-4986-e1fb-53073c5294de",
    "papermill": {
     "duration": 0.045987,
     "end_time": "2022-12-28T17:14:43.931299",
     "exception": false,
     "start_time": "2022-12-28T17:14:43.885312",
     "status": "completed"
    },
    "tags": []
   },
   "outputs": [
    {
     "data": {
      "text/plain": [
       "ID                               0\n",
       "time of collection               0\n",
       "Lane of the road                 0\n",
       "veincle speed                    0\n",
       "perceding Veincle ID             0\n",
       "perceding veincle speed          0\n",
       "perceding veincle weight         0\n",
       "perceding veincle length         0\n",
       "perceding veincle time-gap    2455\n",
       "road condition                   0\n",
       "dtype: int64"
      ]
     },
     "execution_count": 17,
     "metadata": {},
     "output_type": "execute_result"
    }
   ],
   "source": [
    "data2.isna().sum()\n"
   ]
  },
  {
   "cell_type": "code",
   "execution_count": 18,
   "id": "e297f38e",
   "metadata": {
    "execution": {
     "iopub.execute_input": "2022-12-28T17:14:43.965986Z",
     "iopub.status.busy": "2022-12-28T17:14:43.965608Z",
     "iopub.status.idle": "2022-12-28T17:14:44.002149Z",
     "shell.execute_reply": "2022-12-28T17:14:44.000825Z"
    },
    "id": "QgGeh0eRlI5Q",
    "outputId": "7d606205-32f1-490a-89b1-08ad4d0d3d65",
    "papermill": {
     "duration": 0.056164,
     "end_time": "2022-12-28T17:14:44.004052",
     "exception": false,
     "start_time": "2022-12-28T17:14:43.947888",
     "status": "completed"
    },
    "tags": []
   },
   "outputs": [
    {
     "data": {
      "text/plain": [
       "ID                         0\n",
       "time of collection         0\n",
       "Air temprture           2057\n",
       "perciption type            0\n",
       "perciption intensity       0\n",
       "relatve humadity        2105\n",
       "wind direction          2114\n",
       "wind speed              2464\n",
       "Lighting condition         0\n",
       "dtype: int64"
      ]
     },
     "execution_count": 18,
     "metadata": {},
     "output_type": "execute_result"
    }
   ],
   "source": [
    "data3.isna().sum()"
   ]
  },
  {
   "cell_type": "code",
   "execution_count": 19,
   "id": "358bf12c",
   "metadata": {
    "execution": {
     "iopub.execute_input": "2022-12-28T17:14:44.039935Z",
     "iopub.status.busy": "2022-12-28T17:14:44.039570Z",
     "iopub.status.idle": "2022-12-28T17:14:44.081340Z",
     "shell.execute_reply": "2022-12-28T17:14:44.080163Z"
    },
    "id": "tMXoGgnUtFb0",
    "outputId": "13bf4fc3-7832-4944-ae10-b7033658fff9",
    "papermill": {
     "duration": 0.062941,
     "end_time": "2022-12-28T17:14:44.083947",
     "exception": false,
     "start_time": "2022-12-28T17:14:44.021006",
     "status": "completed"
    },
    "tags": []
   },
   "outputs": [
    {
     "name": "stdout",
     "output_type": "stream",
     "text": [
      "105\n",
      "43\n"
     ]
    },
    {
     "data": {
      "text/plain": [
       "ID                            0\n",
       "time of collection            0\n",
       "Lane of the road              0\n",
       "veincle speed                 0\n",
       "perceding Veincle ID          0\n",
       "perceding veincle speed       0\n",
       "perceding veincle weight      0\n",
       "perceding veincle length      0\n",
       "perceding veincle time-gap    0\n",
       "road condition                0\n",
       "dtype: int64"
      ]
     },
     "execution_count": 19,
     "metadata": {},
     "output_type": "execute_result"
    }
   ],
   "source": [
    "print(int(data2['perceding veincle time-gap'].mean()))\n",
    "print(int(data2['perceding veincle time-gap'].median()))\n",
    "data2['perceding veincle time-gap'].fillna( value = int(data2['perceding veincle time-gap'].median()),inplace= True)\n",
    "#data2['perceding veincle time-gap'].skew()\n",
    "data2.isnull().sum()"
   ]
  },
  {
   "cell_type": "code",
   "execution_count": 20,
   "id": "3f32d3c5",
   "metadata": {
    "execution": {
     "iopub.execute_input": "2022-12-28T17:14:44.120371Z",
     "iopub.status.busy": "2022-12-28T17:14:44.119616Z",
     "iopub.status.idle": "2022-12-28T17:14:44.132328Z",
     "shell.execute_reply": "2022-12-28T17:14:44.130659Z"
    },
    "id": "5-mvMdQOxM7V",
    "outputId": "147c37f3-d0aa-41f4-dd1c-a4dea31c1974",
    "papermill": {
     "duration": 0.033603,
     "end_time": "2022-12-28T17:14:44.134820",
     "exception": false,
     "start_time": "2022-12-28T17:14:44.101217",
     "status": "completed"
    },
    "tags": []
   },
   "outputs": [
    {
     "name": "stdout",
     "output_type": "stream",
     "text": [
      "4\n",
      "5\n"
     ]
    }
   ],
   "source": [
    "print(int(data3['Air temprture'].mean()))\n",
    "print(int(data3['Air temprture'].median()))\n",
    "data3['Air temprture'].fillna( value = int(data3['Air temprture'].median()),inplace= True)\n",
    "\n",
    "#data3.isnull().sum()"
   ]
  },
  {
   "cell_type": "code",
   "execution_count": 21,
   "id": "faa10cd6",
   "metadata": {
    "execution": {
     "iopub.execute_input": "2022-12-28T17:14:44.171351Z",
     "iopub.status.busy": "2022-12-28T17:14:44.171021Z",
     "iopub.status.idle": "2022-12-28T17:14:44.192174Z",
     "shell.execute_reply": "2022-12-28T17:14:44.190796Z"
    },
    "id": "xFV3-lu5KUOO",
    "papermill": {
     "duration": 0.041247,
     "end_time": "2022-12-28T17:14:44.194316",
     "exception": false,
     "start_time": "2022-12-28T17:14:44.153069",
     "status": "completed"
    },
    "tags": []
   },
   "outputs": [],
   "source": [
    "data2['road condition'] = pd.factorize(data2['road condition'])[0]"
   ]
  },
  {
   "cell_type": "code",
   "execution_count": 22,
   "id": "886876fd",
   "metadata": {
    "execution": {
     "iopub.execute_input": "2022-12-28T17:14:44.231291Z",
     "iopub.status.busy": "2022-12-28T17:14:44.230917Z",
     "iopub.status.idle": "2022-12-28T17:14:44.261301Z",
     "shell.execute_reply": "2022-12-28T17:14:44.260563Z"
    },
    "id": "-FkQ-TnumX2w",
    "outputId": "225b8643-fabc-4f69-eea1-ade34aab645b",
    "papermill": {
     "duration": 0.051692,
     "end_time": "2022-12-28T17:14:44.263539",
     "exception": false,
     "start_time": "2022-12-28T17:14:44.211847",
     "status": "completed"
    },
    "tags": []
   },
   "outputs": [
    {
     "name": "stdout",
     "output_type": "stream",
     "text": [
      "<class 'pandas.core.frame.DataFrame'>\n",
      "RangeIndex: 162566 entries, 0 to 162565\n",
      "Data columns (total 10 columns):\n",
      " #   Column                      Non-Null Count   Dtype  \n",
      "---  ------                      --------------   -----  \n",
      " 0   ID                          162566 non-null  object \n",
      " 1   time of collection          162566 non-null  object \n",
      " 2   Lane of the road            162566 non-null  int64  \n",
      " 3   veincle speed               162566 non-null  int64  \n",
      " 4   perceding Veincle ID        162566 non-null  int64  \n",
      " 5   perceding veincle speed     162566 non-null  int64  \n",
      " 6   perceding veincle weight    162566 non-null  int64  \n",
      " 7   perceding veincle length    162566 non-null  int64  \n",
      " 8   perceding veincle time-gap  162566 non-null  float64\n",
      " 9   road condition              162566 non-null  int64  \n",
      "dtypes: float64(1), int64(7), object(2)\n",
      "memory usage: 12.4+ MB\n"
     ]
    }
   ],
   "source": [
    "data2.info()"
   ]
  },
  {
   "cell_type": "code",
   "execution_count": 23,
   "id": "0f2a3139",
   "metadata": {
    "execution": {
     "iopub.execute_input": "2022-12-28T17:14:44.303356Z",
     "iopub.status.busy": "2022-12-28T17:14:44.303012Z",
     "iopub.status.idle": "2022-12-28T17:14:44.356040Z",
     "shell.execute_reply": "2022-12-28T17:14:44.354689Z"
    },
    "id": "yjMgjA2IGry9",
    "papermill": {
     "duration": 0.075273,
     "end_time": "2022-12-28T17:14:44.358873",
     "exception": false,
     "start_time": "2022-12-28T17:14:44.283600",
     "status": "completed"
    },
    "tags": []
   },
   "outputs": [],
   "source": [
    "data2_gropued = data2.groupby('ID')[['perceding veincle time-gap','Lane of the road','veincle speed','perceding veincle speed','perceding veincle weight','perceding veincle length','road condition']].mean()"
   ]
  },
  {
   "cell_type": "code",
   "execution_count": 24,
   "id": "37ffddaa",
   "metadata": {
    "execution": {
     "iopub.execute_input": "2022-12-28T17:14:44.395330Z",
     "iopub.status.busy": "2022-12-28T17:14:44.394911Z",
     "iopub.status.idle": "2022-12-28T17:14:44.408739Z",
     "shell.execute_reply": "2022-12-28T17:14:44.406753Z"
    },
    "id": "WTvvqR0amc-E",
    "outputId": "028c4e30-6050-4b30-edd9-608270f5a9f4",
    "papermill": {
     "duration": 0.036057,
     "end_time": "2022-12-28T17:14:44.412023",
     "exception": false,
     "start_time": "2022-12-28T17:14:44.375966",
     "status": "completed"
    },
    "tags": []
   },
   "outputs": [
    {
     "name": "stdout",
     "output_type": "stream",
     "text": [
      "<class 'pandas.core.frame.DataFrame'>\n",
      "Index: 12994 entries, DR_10002 to DR_75253\n",
      "Data columns (total 7 columns):\n",
      " #   Column                      Non-Null Count  Dtype  \n",
      "---  ------                      --------------  -----  \n",
      " 0   perceding veincle time-gap  12994 non-null  float64\n",
      " 1   Lane of the road            12994 non-null  float64\n",
      " 2   veincle speed               12994 non-null  float64\n",
      " 3   perceding veincle speed     12994 non-null  float64\n",
      " 4   perceding veincle weight    12994 non-null  float64\n",
      " 5   perceding veincle length    12994 non-null  float64\n",
      " 6   road condition              12994 non-null  float64\n",
      "dtypes: float64(7)\n",
      "memory usage: 812.1+ KB\n"
     ]
    }
   ],
   "source": [
    "data2_gropued.info()"
   ]
  },
  {
   "cell_type": "code",
   "execution_count": 25,
   "id": "a1755c9b",
   "metadata": {
    "execution": {
     "iopub.execute_input": "2022-12-28T17:14:44.449630Z",
     "iopub.status.busy": "2022-12-28T17:14:44.449216Z",
     "iopub.status.idle": "2022-12-28T17:14:44.456965Z",
     "shell.execute_reply": "2022-12-28T17:14:44.455843Z"
    },
    "id": "Hid8qP9Imwqd",
    "papermill": {
     "duration": 0.02934,
     "end_time": "2022-12-28T17:14:44.459144",
     "exception": false,
     "start_time": "2022-12-28T17:14:44.429804",
     "status": "completed"
    },
    "tags": []
   },
   "outputs": [],
   "source": [
    "data2_gropued = data2_gropued.astype({'Lane of the road':int})"
   ]
  },
  {
   "cell_type": "code",
   "execution_count": 26,
   "id": "d03ad765",
   "metadata": {
    "execution": {
     "iopub.execute_input": "2022-12-28T17:14:44.495298Z",
     "iopub.status.busy": "2022-12-28T17:14:44.494922Z",
     "iopub.status.idle": "2022-12-28T17:14:44.507770Z",
     "shell.execute_reply": "2022-12-28T17:14:44.507061Z"
    },
    "id": "6c7VedF3nFrZ",
    "outputId": "254d9d29-5db5-4e39-aab7-d062f662deec",
    "papermill": {
     "duration": 0.033273,
     "end_time": "2022-12-28T17:14:44.509737",
     "exception": false,
     "start_time": "2022-12-28T17:14:44.476464",
     "status": "completed"
    },
    "tags": []
   },
   "outputs": [
    {
     "name": "stdout",
     "output_type": "stream",
     "text": [
      "<class 'pandas.core.frame.DataFrame'>\n",
      "Index: 12994 entries, DR_10002 to DR_75253\n",
      "Data columns (total 7 columns):\n",
      " #   Column                      Non-Null Count  Dtype  \n",
      "---  ------                      --------------  -----  \n",
      " 0   perceding veincle time-gap  12994 non-null  float64\n",
      " 1   Lane of the road            12994 non-null  int64  \n",
      " 2   veincle speed               12994 non-null  float64\n",
      " 3   perceding veincle speed     12994 non-null  float64\n",
      " 4   perceding veincle weight    12994 non-null  float64\n",
      " 5   perceding veincle length    12994 non-null  float64\n",
      " 6   road condition              12994 non-null  float64\n",
      "dtypes: float64(6), int64(1)\n",
      "memory usage: 812.1+ KB\n"
     ]
    }
   ],
   "source": [
    "data2_gropued.info()"
   ]
  },
  {
   "cell_type": "code",
   "execution_count": 27,
   "id": "533c90bb",
   "metadata": {
    "execution": {
     "iopub.execute_input": "2022-12-28T17:14:44.547762Z",
     "iopub.status.busy": "2022-12-28T17:14:44.546757Z",
     "iopub.status.idle": "2022-12-28T17:14:44.558514Z",
     "shell.execute_reply": "2022-12-28T17:14:44.557380Z"
    },
    "id": "FymiVIphszDc",
    "outputId": "d3b17312-82e8-42e7-c611-f1037d669462",
    "papermill": {
     "duration": 0.032889,
     "end_time": "2022-12-28T17:14:44.560795",
     "exception": false,
     "start_time": "2022-12-28T17:14:44.527906",
     "status": "completed"
    },
    "tags": []
   },
   "outputs": [
    {
     "name": "stdout",
     "output_type": "stream",
     "text": [
      "<class 'pandas.core.frame.DataFrame'>\n",
      "RangeIndex: 12994 entries, 0 to 12993\n",
      "Data columns (total 5 columns):\n",
      " #   Column          Non-Null Count  Dtype \n",
      "---  ------          --------------  ----- \n",
      " 0   ID              12994 non-null  object\n",
      " 1   veincle length  12994 non-null  int64 \n",
      " 2   veincle weight  12994 non-null  int64 \n",
      " 3   axles number    12994 non-null  int64 \n",
      " 4   DrivingStyle    12994 non-null  int64 \n",
      "dtypes: int64(4), object(1)\n",
      "memory usage: 507.7+ KB\n"
     ]
    }
   ],
   "source": [
    "data1.info()"
   ]
  },
  {
   "cell_type": "code",
   "execution_count": 28,
   "id": "05d06311",
   "metadata": {
    "execution": {
     "iopub.execute_input": "2022-12-28T17:14:44.596905Z",
     "iopub.status.busy": "2022-12-28T17:14:44.596562Z",
     "iopub.status.idle": "2022-12-28T17:14:44.622705Z",
     "shell.execute_reply": "2022-12-28T17:14:44.620829Z"
    },
    "id": "DWV1AZWLs2_N",
    "outputId": "74823bb7-243a-400e-d1c5-91bab5a4326a",
    "papermill": {
     "duration": 0.046768,
     "end_time": "2022-12-28T17:14:44.624711",
     "exception": false,
     "start_time": "2022-12-28T17:14:44.577943",
     "status": "completed"
    },
    "tags": []
   },
   "outputs": [
    {
     "name": "stdout",
     "output_type": "stream",
     "text": [
      "<class 'pandas.core.frame.DataFrame'>\n",
      "RangeIndex: 162566 entries, 0 to 162565\n",
      "Data columns (total 10 columns):\n",
      " #   Column                      Non-Null Count   Dtype  \n",
      "---  ------                      --------------   -----  \n",
      " 0   ID                          162566 non-null  object \n",
      " 1   time of collection          162566 non-null  object \n",
      " 2   Lane of the road            162566 non-null  int64  \n",
      " 3   veincle speed               162566 non-null  int64  \n",
      " 4   perceding Veincle ID        162566 non-null  int64  \n",
      " 5   perceding veincle speed     162566 non-null  int64  \n",
      " 6   perceding veincle weight    162566 non-null  int64  \n",
      " 7   perceding veincle length    162566 non-null  int64  \n",
      " 8   perceding veincle time-gap  162566 non-null  float64\n",
      " 9   road condition              162566 non-null  int64  \n",
      "dtypes: float64(1), int64(7), object(2)\n",
      "memory usage: 12.4+ MB\n"
     ]
    }
   ],
   "source": [
    "data2.info()"
   ]
  },
  {
   "cell_type": "code",
   "execution_count": 29,
   "id": "f90d06b3",
   "metadata": {
    "execution": {
     "iopub.execute_input": "2022-12-28T17:14:44.660780Z",
     "iopub.status.busy": "2022-12-28T17:14:44.659879Z",
     "iopub.status.idle": "2022-12-28T17:14:44.700793Z",
     "shell.execute_reply": "2022-12-28T17:14:44.699098Z"
    },
    "id": "sD-NORsQs6-c",
    "outputId": "d2bd710b-0b09-463d-8f47-a2b12d160ddb",
    "papermill": {
     "duration": 0.061402,
     "end_time": "2022-12-28T17:14:44.703280",
     "exception": false,
     "start_time": "2022-12-28T17:14:44.641878",
     "status": "completed"
    },
    "tags": []
   },
   "outputs": [
    {
     "name": "stdout",
     "output_type": "stream",
     "text": [
      "<class 'pandas.core.frame.DataFrame'>\n",
      "RangeIndex: 162566 entries, 0 to 162565\n",
      "Data columns (total 9 columns):\n",
      " #   Column                Non-Null Count   Dtype  \n",
      "---  ------                --------------   -----  \n",
      " 0   ID                    162566 non-null  object \n",
      " 1   time of collection    162566 non-null  object \n",
      " 2   Air temprture         162566 non-null  float64\n",
      " 3   perciption type       162566 non-null  object \n",
      " 4   perciption intensity  162566 non-null  object \n",
      " 5   relatve humadity      160461 non-null  float64\n",
      " 6   wind direction        160452 non-null  float64\n",
      " 7   wind speed            160102 non-null  float64\n",
      " 8   Lighting condition    162566 non-null  object \n",
      "dtypes: float64(4), object(5)\n",
      "memory usage: 11.2+ MB\n"
     ]
    }
   ],
   "source": [
    "data3.info()"
   ]
  },
  {
   "cell_type": "code",
   "execution_count": 30,
   "id": "a2744242",
   "metadata": {
    "execution": {
     "iopub.execute_input": "2022-12-28T17:14:44.740792Z",
     "iopub.status.busy": "2022-12-28T17:14:44.740172Z",
     "iopub.status.idle": "2022-12-28T17:14:44.776443Z",
     "shell.execute_reply": "2022-12-28T17:14:44.775141Z"
    },
    "id": "6860rNqiM2Q4",
    "outputId": "c879aaa1-8e33-43d8-bd1b-68f744afa8b0",
    "papermill": {
     "duration": 0.05768,
     "end_time": "2022-12-28T17:14:44.779143",
     "exception": false,
     "start_time": "2022-12-28T17:14:44.721463",
     "status": "completed"
    },
    "tags": []
   },
   "outputs": [
    {
     "data": {
      "text/plain": [
       "ID                         0\n",
       "time of collection         0\n",
       "Air temprture              0\n",
       "perciption type            0\n",
       "perciption intensity       0\n",
       "relatve humadity        2105\n",
       "wind direction          2114\n",
       "wind speed              2464\n",
       "Lighting condition         0\n",
       "dtype: int64"
      ]
     },
     "execution_count": 30,
     "metadata": {},
     "output_type": "execute_result"
    }
   ],
   "source": [
    "data3.isnull().sum()"
   ]
  },
  {
   "cell_type": "code",
   "execution_count": 31,
   "id": "8a8c62ad",
   "metadata": {
    "execution": {
     "iopub.execute_input": "2022-12-28T17:14:44.816458Z",
     "iopub.status.busy": "2022-12-28T17:14:44.816111Z",
     "iopub.status.idle": "2022-12-28T17:14:44.826392Z",
     "shell.execute_reply": "2022-12-28T17:14:44.825136Z"
    },
    "id": "6qbExu4QM696",
    "outputId": "50597fce-437d-4726-e59c-d5724df743cc",
    "papermill": {
     "duration": 0.031051,
     "end_time": "2022-12-28T17:14:44.828297",
     "exception": false,
     "start_time": "2022-12-28T17:14:44.797246",
     "status": "completed"
    },
    "tags": []
   },
   "outputs": [
    {
     "name": "stdout",
     "output_type": "stream",
     "text": [
      "60\n",
      "58\n"
     ]
    }
   ],
   "source": [
    "print(int(data3['relatve humadity'].mean()))\n",
    "print(int(data3['relatve humadity'].median()))"
   ]
  },
  {
   "cell_type": "code",
   "execution_count": 32,
   "id": "2147cd0f",
   "metadata": {
    "execution": {
     "iopub.execute_input": "2022-12-28T17:14:44.865555Z",
     "iopub.status.busy": "2022-12-28T17:14:44.864981Z",
     "iopub.status.idle": "2022-12-28T17:14:44.912012Z",
     "shell.execute_reply": "2022-12-28T17:14:44.911018Z"
    },
    "id": "px4BKI-kNbon",
    "outputId": "86119ab1-75f4-43cf-e2ae-83cbeff99eec",
    "papermill": {
     "duration": 0.067191,
     "end_time": "2022-12-28T17:14:44.913789",
     "exception": false,
     "start_time": "2022-12-28T17:14:44.846598",
     "status": "completed"
    },
    "tags": []
   },
   "outputs": [
    {
     "data": {
      "text/plain": [
       "ID                         0\n",
       "time of collection         0\n",
       "Air temprture              0\n",
       "perciption type            0\n",
       "perciption intensity       0\n",
       "relatve humadity        2105\n",
       "wind direction          2114\n",
       "wind speed              2464\n",
       "Lighting condition         0\n",
       "dtype: int64"
      ]
     },
     "execution_count": 32,
     "metadata": {},
     "output_type": "execute_result"
    }
   ],
   "source": [
    "data3['relatve humadity'].fillna( value = data3['relatve humadity'].median)\n",
    "data3.isnull().sum()"
   ]
  },
  {
   "cell_type": "code",
   "execution_count": 33,
   "id": "710b443b",
   "metadata": {
    "execution": {
     "iopub.execute_input": "2022-12-28T17:14:44.950283Z",
     "iopub.status.busy": "2022-12-28T17:14:44.949933Z",
     "iopub.status.idle": "2022-12-28T17:14:44.957346Z",
     "shell.execute_reply": "2022-12-28T17:14:44.956277Z"
    },
    "id": "lLl1zBDDQB_D",
    "outputId": "549ef4cb-c265-40ea-c27b-6c5d80935293",
    "papermill": {
     "duration": 0.028017,
     "end_time": "2022-12-28T17:14:44.959277",
     "exception": false,
     "start_time": "2022-12-28T17:14:44.931260",
     "status": "completed"
    },
    "tags": []
   },
   "outputs": [
    {
     "name": "stdout",
     "output_type": "stream",
     "text": [
      "182\n",
      "180\n"
     ]
    }
   ],
   "source": [
    "print(int(data3['wind direction'].mean()))\n",
    "print(int(data3['wind direction'].median()))"
   ]
  },
  {
   "cell_type": "code",
   "execution_count": 34,
   "id": "3ac955db",
   "metadata": {
    "execution": {
     "iopub.execute_input": "2022-12-28T17:14:44.996191Z",
     "iopub.status.busy": "2022-12-28T17:14:44.995858Z",
     "iopub.status.idle": "2022-12-28T17:14:45.034416Z",
     "shell.execute_reply": "2022-12-28T17:14:45.033665Z"
    },
    "id": "xWjsHRV8RqnP",
    "outputId": "c279219a-5c6f-4459-926c-e155b738beeb",
    "papermill": {
     "duration": 0.059318,
     "end_time": "2022-12-28T17:14:45.036188",
     "exception": false,
     "start_time": "2022-12-28T17:14:44.976870",
     "status": "completed"
    },
    "tags": []
   },
   "outputs": [
    {
     "data": {
      "text/plain": [
       "ID                         0\n",
       "time of collection         0\n",
       "Air temprture              0\n",
       "perciption type            0\n",
       "perciption intensity       0\n",
       "relatve humadity        2105\n",
       "wind direction             0\n",
       "wind speed              2464\n",
       "Lighting condition         0\n",
       "dtype: int64"
      ]
     },
     "execution_count": 34,
     "metadata": {},
     "output_type": "execute_result"
    }
   ],
   "source": [
    "data3['wind direction'].fillna( value = int(data3['wind direction'].median()),inplace= True)\n",
    "data3.isnull().sum()"
   ]
  },
  {
   "cell_type": "code",
   "execution_count": 35,
   "id": "f7e20370",
   "metadata": {
    "execution": {
     "iopub.execute_input": "2022-12-28T17:14:45.073049Z",
     "iopub.status.busy": "2022-12-28T17:14:45.072720Z",
     "iopub.status.idle": "2022-12-28T17:14:45.081065Z",
     "shell.execute_reply": "2022-12-28T17:14:45.079958Z"
    },
    "id": "RsQAeTg7So4I",
    "outputId": "d59548f2-6ae3-40c9-9f51-8cbfaaa4d512",
    "papermill": {
     "duration": 0.028842,
     "end_time": "2022-12-28T17:14:45.082984",
     "exception": false,
     "start_time": "2022-12-28T17:14:45.054142",
     "status": "completed"
    },
    "tags": []
   },
   "outputs": [
    {
     "name": "stdout",
     "output_type": "stream",
     "text": [
      "4\n",
      "4\n"
     ]
    }
   ],
   "source": [
    "print(int(data3['wind speed'].mean()))\n",
    "print(int(data3['wind speed'].median()))"
   ]
  },
  {
   "cell_type": "code",
   "execution_count": 36,
   "id": "041d0693",
   "metadata": {
    "execution": {
     "iopub.execute_input": "2022-12-28T17:14:45.123194Z",
     "iopub.status.busy": "2022-12-28T17:14:45.122812Z",
     "iopub.status.idle": "2022-12-28T17:14:45.163107Z",
     "shell.execute_reply": "2022-12-28T17:14:45.162071Z"
    },
    "id": "fkLRoWsCSx5u",
    "outputId": "a39dde17-1f2f-495e-cb1b-7f61f2a753c5",
    "papermill": {
     "duration": 0.063549,
     "end_time": "2022-12-28T17:14:45.165308",
     "exception": false,
     "start_time": "2022-12-28T17:14:45.101759",
     "status": "completed"
    },
    "tags": []
   },
   "outputs": [
    {
     "data": {
      "text/plain": [
       "ID                         0\n",
       "time of collection         0\n",
       "Air temprture              0\n",
       "perciption type            0\n",
       "perciption intensity       0\n",
       "relatve humadity        2105\n",
       "wind direction             0\n",
       "wind speed                 0\n",
       "Lighting condition         0\n",
       "dtype: int64"
      ]
     },
     "execution_count": 36,
     "metadata": {},
     "output_type": "execute_result"
    }
   ],
   "source": [
    "data3['wind speed'].fillna( value = int(data3['wind speed'].median()),inplace= True)\n",
    "data3.isnull().sum()"
   ]
  },
  {
   "cell_type": "code",
   "execution_count": 37,
   "id": "2dfcae93",
   "metadata": {
    "execution": {
     "iopub.execute_input": "2022-12-28T17:14:45.203388Z",
     "iopub.status.busy": "2022-12-28T17:14:45.203029Z",
     "iopub.status.idle": "2022-12-28T17:14:45.253989Z",
     "shell.execute_reply": "2022-12-28T17:14:45.253201Z"
    },
    "id": "FH1nA9IdS3uK",
    "papermill": {
     "duration": 0.072848,
     "end_time": "2022-12-28T17:14:45.256332",
     "exception": false,
     "start_time": "2022-12-28T17:14:45.183484",
     "status": "completed"
    },
    "tags": []
   },
   "outputs": [],
   "source": [
    "data3['perciption type'] = pd.factorize(data3['perciption type'])[0]\n",
    "data3['perciption intensity'] = pd.factorize(data3['perciption intensity'])[0]\n",
    "data3['Lighting condition'] = pd.factorize(data3['Lighting condition'])[0]"
   ]
  },
  {
   "cell_type": "code",
   "execution_count": 38,
   "id": "9d9e61df",
   "metadata": {
    "execution": {
     "iopub.execute_input": "2022-12-28T17:14:45.296376Z",
     "iopub.status.busy": "2022-12-28T17:14:45.295180Z",
     "iopub.status.idle": "2022-12-28T17:14:45.320899Z",
     "shell.execute_reply": "2022-12-28T17:14:45.319562Z"
    },
    "id": "H5IY4bK4TuSn",
    "outputId": "bf0b2f93-4134-422b-f97a-be91d87a89f9",
    "papermill": {
     "duration": 0.047859,
     "end_time": "2022-12-28T17:14:45.323383",
     "exception": false,
     "start_time": "2022-12-28T17:14:45.275524",
     "status": "completed"
    },
    "tags": []
   },
   "outputs": [
    {
     "name": "stdout",
     "output_type": "stream",
     "text": [
      "<class 'pandas.core.frame.DataFrame'>\n",
      "RangeIndex: 162566 entries, 0 to 162565\n",
      "Data columns (total 9 columns):\n",
      " #   Column                Non-Null Count   Dtype  \n",
      "---  ------                --------------   -----  \n",
      " 0   ID                    162566 non-null  object \n",
      " 1   time of collection    162566 non-null  object \n",
      " 2   Air temprture         162566 non-null  float64\n",
      " 3   perciption type       162566 non-null  int64  \n",
      " 4   perciption intensity  162566 non-null  int64  \n",
      " 5   relatve humadity      160461 non-null  float64\n",
      " 6   wind direction        162566 non-null  float64\n",
      " 7   wind speed            162566 non-null  float64\n",
      " 8   Lighting condition    162566 non-null  int64  \n",
      "dtypes: float64(4), int64(3), object(2)\n",
      "memory usage: 11.2+ MB\n"
     ]
    }
   ],
   "source": [
    "data3.info()"
   ]
  },
  {
   "cell_type": "code",
   "execution_count": 39,
   "id": "8aed0616",
   "metadata": {
    "execution": {
     "iopub.execute_input": "2022-12-28T17:14:45.363394Z",
     "iopub.status.busy": "2022-12-28T17:14:45.363028Z",
     "iopub.status.idle": "2022-12-28T17:14:45.400327Z",
     "shell.execute_reply": "2022-12-28T17:14:45.399038Z"
    },
    "id": "VxPyZf56UBd3",
    "papermill": {
     "duration": 0.060019,
     "end_time": "2022-12-28T17:14:45.402955",
     "exception": false,
     "start_time": "2022-12-28T17:14:45.342936",
     "status": "completed"
    },
    "tags": []
   },
   "outputs": [],
   "source": [
    "data3_gropued = data3.groupby('ID')[['Air temprture','perciption type','perciption intensity','relatve humadity','wind direction','wind speed','Lighting condition']].mean()"
   ]
  },
  {
   "cell_type": "code",
   "execution_count": 40,
   "id": "f15f89b6",
   "metadata": {
    "execution": {
     "iopub.execute_input": "2022-12-28T17:14:45.446509Z",
     "iopub.status.busy": "2022-12-28T17:14:45.446111Z",
     "iopub.status.idle": "2022-12-28T17:14:45.463854Z",
     "shell.execute_reply": "2022-12-28T17:14:45.462900Z"
    },
    "id": "1oQVzdHeUdYx",
    "outputId": "4c096b47-b448-4161-fea7-ad345e218fec",
    "papermill": {
     "duration": 0.043565,
     "end_time": "2022-12-28T17:14:45.466341",
     "exception": false,
     "start_time": "2022-12-28T17:14:45.422776",
     "status": "completed"
    },
    "tags": []
   },
   "outputs": [
    {
     "data": {
      "text/html": [
       "<div>\n",
       "<style scoped>\n",
       "    .dataframe tbody tr th:only-of-type {\n",
       "        vertical-align: middle;\n",
       "    }\n",
       "\n",
       "    .dataframe tbody tr th {\n",
       "        vertical-align: top;\n",
       "    }\n",
       "\n",
       "    .dataframe thead th {\n",
       "        text-align: right;\n",
       "    }\n",
       "</style>\n",
       "<table border=\"1\" class=\"dataframe\">\n",
       "  <thead>\n",
       "    <tr style=\"text-align: right;\">\n",
       "      <th></th>\n",
       "      <th>perceding veincle time-gap</th>\n",
       "      <th>Lane of the road</th>\n",
       "      <th>veincle speed</th>\n",
       "      <th>perceding veincle speed</th>\n",
       "      <th>perceding veincle weight</th>\n",
       "      <th>perceding veincle length</th>\n",
       "      <th>road condition</th>\n",
       "    </tr>\n",
       "    <tr>\n",
       "      <th>ID</th>\n",
       "      <th></th>\n",
       "      <th></th>\n",
       "      <th></th>\n",
       "      <th></th>\n",
       "      <th></th>\n",
       "      <th></th>\n",
       "      <th></th>\n",
       "    </tr>\n",
       "  </thead>\n",
       "  <tbody>\n",
       "    <tr>\n",
       "      <th>DR_10002</th>\n",
       "      <td>234.800000</td>\n",
       "      <td>1</td>\n",
       "      <td>84.400000</td>\n",
       "      <td>77.000000</td>\n",
       "      <td>4200.400000</td>\n",
       "      <td>762.000000</td>\n",
       "      <td>0.0</td>\n",
       "    </tr>\n",
       "    <tr>\n",
       "      <th>DR_10013</th>\n",
       "      <td>173.111111</td>\n",
       "      <td>1</td>\n",
       "      <td>86.555556</td>\n",
       "      <td>85.777778</td>\n",
       "      <td>9517.888889</td>\n",
       "      <td>1184.888889</td>\n",
       "      <td>0.0</td>\n",
       "    </tr>\n",
       "    <tr>\n",
       "      <th>DR_10023</th>\n",
       "      <td>66.812500</td>\n",
       "      <td>1</td>\n",
       "      <td>83.125000</td>\n",
       "      <td>81.625000</td>\n",
       "      <td>10180.187500</td>\n",
       "      <td>1022.312500</td>\n",
       "      <td>0.0</td>\n",
       "    </tr>\n",
       "    <tr>\n",
       "      <th>DR_10024</th>\n",
       "      <td>194.166667</td>\n",
       "      <td>1</td>\n",
       "      <td>86.666667</td>\n",
       "      <td>81.500000</td>\n",
       "      <td>6366.333333</td>\n",
       "      <td>1069.666667</td>\n",
       "      <td>0.0</td>\n",
       "    </tr>\n",
       "    <tr>\n",
       "      <th>DR_10025</th>\n",
       "      <td>156.125000</td>\n",
       "      <td>1</td>\n",
       "      <td>81.500000</td>\n",
       "      <td>82.500000</td>\n",
       "      <td>10157.875000</td>\n",
       "      <td>1113.625000</td>\n",
       "      <td>1.0</td>\n",
       "    </tr>\n",
       "  </tbody>\n",
       "</table>\n",
       "</div>"
      ],
      "text/plain": [
       "          perceding veincle time-gap  Lane of the road  veincle speed  \\\n",
       "ID                                                                      \n",
       "DR_10002                  234.800000                 1      84.400000   \n",
       "DR_10013                  173.111111                 1      86.555556   \n",
       "DR_10023                   66.812500                 1      83.125000   \n",
       "DR_10024                  194.166667                 1      86.666667   \n",
       "DR_10025                  156.125000                 1      81.500000   \n",
       "\n",
       "          perceding veincle speed  perceding veincle weight  \\\n",
       "ID                                                            \n",
       "DR_10002                77.000000               4200.400000   \n",
       "DR_10013                85.777778               9517.888889   \n",
       "DR_10023                81.625000              10180.187500   \n",
       "DR_10024                81.500000               6366.333333   \n",
       "DR_10025                82.500000              10157.875000   \n",
       "\n",
       "          perceding veincle length  road condition  \n",
       "ID                                                  \n",
       "DR_10002                762.000000             0.0  \n",
       "DR_10013               1184.888889             0.0  \n",
       "DR_10023               1022.312500             0.0  \n",
       "DR_10024               1069.666667             0.0  \n",
       "DR_10025               1113.625000             1.0  "
      ]
     },
     "execution_count": 40,
     "metadata": {},
     "output_type": "execute_result"
    }
   ],
   "source": [
    "data2_gropued.head()"
   ]
  },
  {
   "cell_type": "code",
   "execution_count": 41,
   "id": "3342c2c9",
   "metadata": {
    "execution": {
     "iopub.execute_input": "2022-12-28T17:14:45.508677Z",
     "iopub.status.busy": "2022-12-28T17:14:45.508287Z",
     "iopub.status.idle": "2022-12-28T17:14:45.522551Z",
     "shell.execute_reply": "2022-12-28T17:14:45.521385Z"
    },
    "id": "2BUzR2GpU1ly",
    "outputId": "0360c13b-4027-4dec-a7b0-65d0dd45a514",
    "papermill": {
     "duration": 0.036206,
     "end_time": "2022-12-28T17:14:45.524548",
     "exception": false,
     "start_time": "2022-12-28T17:14:45.488342",
     "status": "completed"
    },
    "tags": []
   },
   "outputs": [
    {
     "data": {
      "text/html": [
       "<div>\n",
       "<style scoped>\n",
       "    .dataframe tbody tr th:only-of-type {\n",
       "        vertical-align: middle;\n",
       "    }\n",
       "\n",
       "    .dataframe tbody tr th {\n",
       "        vertical-align: top;\n",
       "    }\n",
       "\n",
       "    .dataframe thead th {\n",
       "        text-align: right;\n",
       "    }\n",
       "</style>\n",
       "<table border=\"1\" class=\"dataframe\">\n",
       "  <thead>\n",
       "    <tr style=\"text-align: right;\">\n",
       "      <th></th>\n",
       "      <th>Air temprture</th>\n",
       "      <th>perciption type</th>\n",
       "      <th>perciption intensity</th>\n",
       "      <th>relatve humadity</th>\n",
       "      <th>wind direction</th>\n",
       "      <th>wind speed</th>\n",
       "      <th>Lighting condition</th>\n",
       "    </tr>\n",
       "    <tr>\n",
       "      <th>ID</th>\n",
       "      <th></th>\n",
       "      <th></th>\n",
       "      <th></th>\n",
       "      <th></th>\n",
       "      <th></th>\n",
       "      <th></th>\n",
       "      <th></th>\n",
       "    </tr>\n",
       "  </thead>\n",
       "  <tbody>\n",
       "    <tr>\n",
       "      <th>DR_10002</th>\n",
       "      <td>2.2000</td>\n",
       "      <td>0.0</td>\n",
       "      <td>0.0</td>\n",
       "      <td>66.6000</td>\n",
       "      <td>173.200</td>\n",
       "      <td>5.8000</td>\n",
       "      <td>0.0</td>\n",
       "    </tr>\n",
       "    <tr>\n",
       "      <th>DR_10013</th>\n",
       "      <td>4.0000</td>\n",
       "      <td>0.0</td>\n",
       "      <td>0.0</td>\n",
       "      <td>58.0000</td>\n",
       "      <td>163.000</td>\n",
       "      <td>8.0000</td>\n",
       "      <td>2.0</td>\n",
       "    </tr>\n",
       "    <tr>\n",
       "      <th>DR_10023</th>\n",
       "      <td>6.0625</td>\n",
       "      <td>0.0</td>\n",
       "      <td>0.0</td>\n",
       "      <td>34.0625</td>\n",
       "      <td>205.875</td>\n",
       "      <td>3.0625</td>\n",
       "      <td>2.0</td>\n",
       "    </tr>\n",
       "    <tr>\n",
       "      <th>DR_10024</th>\n",
       "      <td>5.0000</td>\n",
       "      <td>2.0</td>\n",
       "      <td>2.0</td>\n",
       "      <td>NaN</td>\n",
       "      <td>180.000</td>\n",
       "      <td>4.0000</td>\n",
       "      <td>1.0</td>\n",
       "    </tr>\n",
       "    <tr>\n",
       "      <th>DR_10025</th>\n",
       "      <td>1.0000</td>\n",
       "      <td>0.0</td>\n",
       "      <td>0.0</td>\n",
       "      <td>87.0000</td>\n",
       "      <td>11.000</td>\n",
       "      <td>3.0000</td>\n",
       "      <td>2.0</td>\n",
       "    </tr>\n",
       "  </tbody>\n",
       "</table>\n",
       "</div>"
      ],
      "text/plain": [
       "          Air temprture  perciption type  perciption intensity  \\\n",
       "ID                                                               \n",
       "DR_10002         2.2000              0.0                   0.0   \n",
       "DR_10013         4.0000              0.0                   0.0   \n",
       "DR_10023         6.0625              0.0                   0.0   \n",
       "DR_10024         5.0000              2.0                   2.0   \n",
       "DR_10025         1.0000              0.0                   0.0   \n",
       "\n",
       "          relatve humadity  wind direction  wind speed  Lighting condition  \n",
       "ID                                                                          \n",
       "DR_10002           66.6000         173.200      5.8000                 0.0  \n",
       "DR_10013           58.0000         163.000      8.0000                 2.0  \n",
       "DR_10023           34.0625         205.875      3.0625                 2.0  \n",
       "DR_10024               NaN         180.000      4.0000                 1.0  \n",
       "DR_10025           87.0000          11.000      3.0000                 2.0  "
      ]
     },
     "execution_count": 41,
     "metadata": {},
     "output_type": "execute_result"
    }
   ],
   "source": [
    "data3_gropued.head()"
   ]
  },
  {
   "cell_type": "code",
   "execution_count": 42,
   "id": "00a2ecaa",
   "metadata": {
    "execution": {
     "iopub.execute_input": "2022-12-28T17:14:45.564759Z",
     "iopub.status.busy": "2022-12-28T17:14:45.563753Z",
     "iopub.status.idle": "2022-12-28T17:14:45.573230Z",
     "shell.execute_reply": "2022-12-28T17:14:45.572539Z"
    },
    "id": "AAX4GM2bU4XZ",
    "outputId": "2523aaae-ddf4-4654-92af-bff7c8484940",
    "papermill": {
     "duration": 0.032006,
     "end_time": "2022-12-28T17:14:45.575034",
     "exception": false,
     "start_time": "2022-12-28T17:14:45.543028",
     "status": "completed"
    },
    "tags": []
   },
   "outputs": [
    {
     "data": {
      "text/html": [
       "<div>\n",
       "<style scoped>\n",
       "    .dataframe tbody tr th:only-of-type {\n",
       "        vertical-align: middle;\n",
       "    }\n",
       "\n",
       "    .dataframe tbody tr th {\n",
       "        vertical-align: top;\n",
       "    }\n",
       "\n",
       "    .dataframe thead th {\n",
       "        text-align: right;\n",
       "    }\n",
       "</style>\n",
       "<table border=\"1\" class=\"dataframe\">\n",
       "  <thead>\n",
       "    <tr style=\"text-align: right;\">\n",
       "      <th></th>\n",
       "      <th>ID</th>\n",
       "      <th>veincle length</th>\n",
       "      <th>veincle weight</th>\n",
       "      <th>axles number</th>\n",
       "      <th>DrivingStyle</th>\n",
       "    </tr>\n",
       "  </thead>\n",
       "  <tbody>\n",
       "    <tr>\n",
       "      <th>0</th>\n",
       "      <td>DR_24526</td>\n",
       "      <td>1265</td>\n",
       "      <td>10243</td>\n",
       "      <td>2</td>\n",
       "      <td>2</td>\n",
       "    </tr>\n",
       "    <tr>\n",
       "      <th>1</th>\n",
       "      <td>DR_30052</td>\n",
       "      <td>1680</td>\n",
       "      <td>30871</td>\n",
       "      <td>6</td>\n",
       "      <td>2</td>\n",
       "    </tr>\n",
       "    <tr>\n",
       "      <th>2</th>\n",
       "      <td>DR_40928</td>\n",
       "      <td>936</td>\n",
       "      <td>3224</td>\n",
       "      <td>4</td>\n",
       "      <td>2</td>\n",
       "    </tr>\n",
       "    <tr>\n",
       "      <th>3</th>\n",
       "      <td>DR_66033</td>\n",
       "      <td>1503</td>\n",
       "      <td>3315</td>\n",
       "      <td>4</td>\n",
       "      <td>2</td>\n",
       "    </tr>\n",
       "    <tr>\n",
       "      <th>4</th>\n",
       "      <td>DR_45266</td>\n",
       "      <td>929</td>\n",
       "      <td>3022</td>\n",
       "      <td>4</td>\n",
       "      <td>2</td>\n",
       "    </tr>\n",
       "  </tbody>\n",
       "</table>\n",
       "</div>"
      ],
      "text/plain": [
       "         ID  veincle length  veincle weight  axles number  DrivingStyle\n",
       "0  DR_24526            1265           10243             2             2\n",
       "1  DR_30052            1680           30871             6             2\n",
       "2  DR_40928             936            3224             4             2\n",
       "3  DR_66033            1503            3315             4             2\n",
       "4  DR_45266             929            3022             4             2"
      ]
     },
     "execution_count": 42,
     "metadata": {},
     "output_type": "execute_result"
    }
   ],
   "source": [
    "data1.head()"
   ]
  },
  {
   "cell_type": "code",
   "execution_count": 43,
   "id": "d3a4809d",
   "metadata": {
    "execution": {
     "iopub.execute_input": "2022-12-28T17:14:45.613928Z",
     "iopub.status.busy": "2022-12-28T17:14:45.613037Z",
     "iopub.status.idle": "2022-12-28T17:14:45.619332Z",
     "shell.execute_reply": "2022-12-28T17:14:45.617860Z"
    },
    "id": "iGdiwhhdVAmb",
    "outputId": "459a0b06-270a-49a5-dd92-8ca8b15c597d",
    "papermill": {
     "duration": 0.027525,
     "end_time": "2022-12-28T17:14:45.621419",
     "exception": false,
     "start_time": "2022-12-28T17:14:45.593894",
     "status": "completed"
    },
    "tags": []
   },
   "outputs": [
    {
     "name": "stdout",
     "output_type": "stream",
     "text": [
      "(12994, 5)\n",
      "(12994, 7)\n",
      "(12994, 7)\n"
     ]
    }
   ],
   "source": [
    "print(data1.shape)\n",
    "print(data2_gropued.shape)\n",
    "print(data3_gropued.shape)"
   ]
  },
  {
   "cell_type": "code",
   "execution_count": 44,
   "id": "dc866fc2",
   "metadata": {
    "execution": {
     "iopub.execute_input": "2022-12-28T17:14:45.661547Z",
     "iopub.status.busy": "2022-12-28T17:14:45.660191Z",
     "iopub.status.idle": "2022-12-28T17:14:45.669271Z",
     "shell.execute_reply": "2022-12-28T17:14:45.667880Z"
    },
    "id": "qtu6WJnlmNYx",
    "outputId": "daa7f7ff-fc0f-49e1-83f9-f50d126a7d3a",
    "papermill": {
     "duration": 0.03139,
     "end_time": "2022-12-28T17:14:45.671905",
     "exception": false,
     "start_time": "2022-12-28T17:14:45.640515",
     "status": "completed"
    },
    "tags": []
   },
   "outputs": [
    {
     "data": {
      "text/plain": [
       "<bound method Series.drop_duplicates of 0        DR_24526\n",
       "1        DR_30052\n",
       "2        DR_40928\n",
       "3        DR_66033\n",
       "4        DR_45266\n",
       "           ...   \n",
       "12989    DR_61322\n",
       "12990    DR_35712\n",
       "12991    DR_61590\n",
       "12992    DR_69505\n",
       "12993    DR_56117\n",
       "Name: ID, Length: 12994, dtype: object>"
      ]
     },
     "execution_count": 44,
     "metadata": {},
     "output_type": "execute_result"
    }
   ],
   "source": [
    "data1['ID'].drop_duplicates"
   ]
  },
  {
   "cell_type": "code",
   "execution_count": 45,
   "id": "605a4077",
   "metadata": {
    "execution": {
     "iopub.execute_input": "2022-12-28T17:14:45.712902Z",
     "iopub.status.busy": "2022-12-28T17:14:45.711707Z",
     "iopub.status.idle": "2022-12-28T17:14:45.732014Z",
     "shell.execute_reply": "2022-12-28T17:14:45.730910Z"
    },
    "id": "5Eq-_Yw5lMeA",
    "papermill": {
     "duration": 0.042993,
     "end_time": "2022-12-28T17:14:45.734349",
     "exception": false,
     "start_time": "2022-12-28T17:14:45.691356",
     "status": "completed"
    },
    "tags": []
   },
   "outputs": [],
   "source": [
    "merged_data = pd.merge(data2_gropued,data3_gropued, on ='ID')"
   ]
  },
  {
   "cell_type": "code",
   "execution_count": 46,
   "id": "68adaac2",
   "metadata": {
    "execution": {
     "iopub.execute_input": "2022-12-28T17:14:45.781046Z",
     "iopub.status.busy": "2022-12-28T17:14:45.780715Z",
     "iopub.status.idle": "2022-12-28T17:14:45.795801Z",
     "shell.execute_reply": "2022-12-28T17:14:45.795062Z"
    },
    "id": "0uZI4JnhnZsN",
    "papermill": {
     "duration": 0.040901,
     "end_time": "2022-12-28T17:14:45.798648",
     "exception": false,
     "start_time": "2022-12-28T17:14:45.757747",
     "status": "completed"
    },
    "tags": []
   },
   "outputs": [],
   "source": [
    "merged_data2 = pd.merge(data1,merged_data, on='ID')"
   ]
  },
  {
   "cell_type": "code",
   "execution_count": 47,
   "id": "6e572f4a",
   "metadata": {
    "execution": {
     "iopub.execute_input": "2022-12-28T17:14:45.845176Z",
     "iopub.status.busy": "2022-12-28T17:14:45.844797Z",
     "iopub.status.idle": "2022-12-28T17:14:45.865165Z",
     "shell.execute_reply": "2022-12-28T17:14:45.864205Z"
    },
    "id": "xPQi3XBnngxu",
    "outputId": "2b243e93-35ac-4041-d10c-896cc1ea7961",
    "papermill": {
     "duration": 0.045063,
     "end_time": "2022-12-28T17:14:45.866943",
     "exception": false,
     "start_time": "2022-12-28T17:14:45.821880",
     "status": "completed"
    },
    "tags": []
   },
   "outputs": [
    {
     "data": {
      "text/html": [
       "<div>\n",
       "<style scoped>\n",
       "    .dataframe tbody tr th:only-of-type {\n",
       "        vertical-align: middle;\n",
       "    }\n",
       "\n",
       "    .dataframe tbody tr th {\n",
       "        vertical-align: top;\n",
       "    }\n",
       "\n",
       "    .dataframe thead th {\n",
       "        text-align: right;\n",
       "    }\n",
       "</style>\n",
       "<table border=\"1\" class=\"dataframe\">\n",
       "  <thead>\n",
       "    <tr style=\"text-align: right;\">\n",
       "      <th></th>\n",
       "      <th>ID</th>\n",
       "      <th>veincle length</th>\n",
       "      <th>veincle weight</th>\n",
       "      <th>axles number</th>\n",
       "      <th>DrivingStyle</th>\n",
       "      <th>perceding veincle time-gap</th>\n",
       "      <th>Lane of the road</th>\n",
       "      <th>veincle speed</th>\n",
       "      <th>perceding veincle speed</th>\n",
       "      <th>perceding veincle weight</th>\n",
       "      <th>perceding veincle length</th>\n",
       "      <th>road condition</th>\n",
       "      <th>Air temprture</th>\n",
       "      <th>perciption type</th>\n",
       "      <th>perciption intensity</th>\n",
       "      <th>relatve humadity</th>\n",
       "      <th>wind direction</th>\n",
       "      <th>wind speed</th>\n",
       "      <th>Lighting condition</th>\n",
       "    </tr>\n",
       "  </thead>\n",
       "  <tbody>\n",
       "    <tr>\n",
       "      <th>0</th>\n",
       "      <td>DR_24526</td>\n",
       "      <td>1265</td>\n",
       "      <td>10243</td>\n",
       "      <td>2</td>\n",
       "      <td>2</td>\n",
       "      <td>67.842105</td>\n",
       "      <td>1</td>\n",
       "      <td>87.473684</td>\n",
       "      <td>87.052632</td>\n",
       "      <td>8443.789474</td>\n",
       "      <td>965.473684</td>\n",
       "      <td>0.0</td>\n",
       "      <td>7.000000</td>\n",
       "      <td>0.0</td>\n",
       "      <td>0.0</td>\n",
       "      <td>95.000000</td>\n",
       "      <td>125.157895</td>\n",
       "      <td>0.052632</td>\n",
       "      <td>0.0</td>\n",
       "    </tr>\n",
       "    <tr>\n",
       "      <th>1</th>\n",
       "      <td>DR_30052</td>\n",
       "      <td>1680</td>\n",
       "      <td>30871</td>\n",
       "      <td>6</td>\n",
       "      <td>2</td>\n",
       "      <td>138.363636</td>\n",
       "      <td>1</td>\n",
       "      <td>82.272727</td>\n",
       "      <td>86.090909</td>\n",
       "      <td>6887.000000</td>\n",
       "      <td>920.636364</td>\n",
       "      <td>0.0</td>\n",
       "      <td>4.636364</td>\n",
       "      <td>0.0</td>\n",
       "      <td>0.0</td>\n",
       "      <td>95.545455</td>\n",
       "      <td>157.818182</td>\n",
       "      <td>6.000000</td>\n",
       "      <td>0.0</td>\n",
       "    </tr>\n",
       "    <tr>\n",
       "      <th>2</th>\n",
       "      <td>DR_40928</td>\n",
       "      <td>936</td>\n",
       "      <td>3224</td>\n",
       "      <td>4</td>\n",
       "      <td>2</td>\n",
       "      <td>159.545455</td>\n",
       "      <td>1</td>\n",
       "      <td>85.090909</td>\n",
       "      <td>82.454545</td>\n",
       "      <td>4624.363636</td>\n",
       "      <td>773.909091</td>\n",
       "      <td>0.0</td>\n",
       "      <td>1.545455</td>\n",
       "      <td>1.0</td>\n",
       "      <td>1.0</td>\n",
       "      <td>95.000000</td>\n",
       "      <td>64.454545</td>\n",
       "      <td>0.000000</td>\n",
       "      <td>0.0</td>\n",
       "    </tr>\n",
       "    <tr>\n",
       "      <th>3</th>\n",
       "      <td>DR_66033</td>\n",
       "      <td>1503</td>\n",
       "      <td>3315</td>\n",
       "      <td>4</td>\n",
       "      <td>2</td>\n",
       "      <td>118.454545</td>\n",
       "      <td>1</td>\n",
       "      <td>82.818182</td>\n",
       "      <td>83.727273</td>\n",
       "      <td>9229.909091</td>\n",
       "      <td>1210.545455</td>\n",
       "      <td>0.0</td>\n",
       "      <td>3.545455</td>\n",
       "      <td>0.0</td>\n",
       "      <td>0.0</td>\n",
       "      <td>95.000000</td>\n",
       "      <td>169.727273</td>\n",
       "      <td>1.363636</td>\n",
       "      <td>0.0</td>\n",
       "    </tr>\n",
       "    <tr>\n",
       "      <th>4</th>\n",
       "      <td>DR_45266</td>\n",
       "      <td>929</td>\n",
       "      <td>3022</td>\n",
       "      <td>4</td>\n",
       "      <td>2</td>\n",
       "      <td>109.500000</td>\n",
       "      <td>1</td>\n",
       "      <td>82.750000</td>\n",
       "      <td>82.916667</td>\n",
       "      <td>3058.416667</td>\n",
       "      <td>723.583333</td>\n",
       "      <td>0.0</td>\n",
       "      <td>3.000000</td>\n",
       "      <td>0.0</td>\n",
       "      <td>0.0</td>\n",
       "      <td>95.000000</td>\n",
       "      <td>191.000000</td>\n",
       "      <td>3.000000</td>\n",
       "      <td>0.0</td>\n",
       "    </tr>\n",
       "  </tbody>\n",
       "</table>\n",
       "</div>"
      ],
      "text/plain": [
       "         ID  veincle length  veincle weight  axles number  DrivingStyle  \\\n",
       "0  DR_24526            1265           10243             2             2   \n",
       "1  DR_30052            1680           30871             6             2   \n",
       "2  DR_40928             936            3224             4             2   \n",
       "3  DR_66033            1503            3315             4             2   \n",
       "4  DR_45266             929            3022             4             2   \n",
       "\n",
       "   perceding veincle time-gap  Lane of the road  veincle speed  \\\n",
       "0                   67.842105                 1      87.473684   \n",
       "1                  138.363636                 1      82.272727   \n",
       "2                  159.545455                 1      85.090909   \n",
       "3                  118.454545                 1      82.818182   \n",
       "4                  109.500000                 1      82.750000   \n",
       "\n",
       "   perceding veincle speed  perceding veincle weight  \\\n",
       "0                87.052632               8443.789474   \n",
       "1                86.090909               6887.000000   \n",
       "2                82.454545               4624.363636   \n",
       "3                83.727273               9229.909091   \n",
       "4                82.916667               3058.416667   \n",
       "\n",
       "   perceding veincle length  road condition  Air temprture  perciption type  \\\n",
       "0                965.473684             0.0       7.000000              0.0   \n",
       "1                920.636364             0.0       4.636364              0.0   \n",
       "2                773.909091             0.0       1.545455              1.0   \n",
       "3               1210.545455             0.0       3.545455              0.0   \n",
       "4                723.583333             0.0       3.000000              0.0   \n",
       "\n",
       "   perciption intensity  relatve humadity  wind direction  wind speed  \\\n",
       "0                   0.0         95.000000      125.157895    0.052632   \n",
       "1                   0.0         95.545455      157.818182    6.000000   \n",
       "2                   1.0         95.000000       64.454545    0.000000   \n",
       "3                   0.0         95.000000      169.727273    1.363636   \n",
       "4                   0.0         95.000000      191.000000    3.000000   \n",
       "\n",
       "   Lighting condition  \n",
       "0                 0.0  \n",
       "1                 0.0  \n",
       "2                 0.0  \n",
       "3                 0.0  \n",
       "4                 0.0  "
      ]
     },
     "execution_count": 47,
     "metadata": {},
     "output_type": "execute_result"
    }
   ],
   "source": [
    "merged_data2.head()"
   ]
  },
  {
   "cell_type": "code",
   "execution_count": 48,
   "id": "e7d2bd74",
   "metadata": {
    "execution": {
     "iopub.execute_input": "2022-12-28T17:14:45.908375Z",
     "iopub.status.busy": "2022-12-28T17:14:45.907784Z",
     "iopub.status.idle": "2022-12-28T17:14:45.917991Z",
     "shell.execute_reply": "2022-12-28T17:14:45.916725Z"
    },
    "id": "As1m9OOZnpxw",
    "outputId": "479ed689-a5e7-4d60-b8ce-2943643238d7",
    "papermill": {
     "duration": 0.033071,
     "end_time": "2022-12-28T17:14:45.919949",
     "exception": false,
     "start_time": "2022-12-28T17:14:45.886878",
     "status": "completed"
    },
    "tags": []
   },
   "outputs": [
    {
     "data": {
      "text/plain": [
       "ID                              0\n",
       "veincle length                  0\n",
       "veincle weight                  0\n",
       "axles number                    0\n",
       "DrivingStyle                    0\n",
       "perceding veincle time-gap      0\n",
       "Lane of the road                0\n",
       "veincle speed                   0\n",
       "perceding veincle speed         0\n",
       "perceding veincle weight        0\n",
       "perceding veincle length        0\n",
       "road condition                  0\n",
       "Air temprture                   0\n",
       "perciption type                 0\n",
       "perciption intensity            0\n",
       "relatve humadity              137\n",
       "wind direction                  0\n",
       "wind speed                      0\n",
       "Lighting condition              0\n",
       "dtype: int64"
      ]
     },
     "execution_count": 48,
     "metadata": {},
     "output_type": "execute_result"
    }
   ],
   "source": [
    "merged_data2.isnull().sum()"
   ]
  },
  {
   "cell_type": "code",
   "execution_count": 49,
   "id": "e3b5a32d",
   "metadata": {
    "execution": {
     "iopub.execute_input": "2022-12-28T17:14:45.962250Z",
     "iopub.status.busy": "2022-12-28T17:14:45.961849Z",
     "iopub.status.idle": "2022-12-28T17:14:45.972346Z",
     "shell.execute_reply": "2022-12-28T17:14:45.971050Z"
    },
    "id": "JRsFAFQ0ZFH6",
    "papermill": {
     "duration": 0.03386,
     "end_time": "2022-12-28T17:14:45.974316",
     "exception": false,
     "start_time": "2022-12-28T17:14:45.940456",
     "status": "completed"
    },
    "tags": []
   },
   "outputs": [],
   "source": [
    "merged_data2 = merged_data2.dropna(subset=['relatve humadity'])\n",
    "merged_data2 = merged_data2.drop('ID',axis = 1)"
   ]
  },
  {
   "cell_type": "code",
   "execution_count": 50,
   "id": "035f2345",
   "metadata": {
    "execution": {
     "iopub.execute_input": "2022-12-28T17:14:46.015590Z",
     "iopub.status.busy": "2022-12-28T17:14:46.015178Z",
     "iopub.status.idle": "2022-12-28T17:14:46.024311Z",
     "shell.execute_reply": "2022-12-28T17:14:46.023345Z"
    },
    "id": "R7zyeuZiZNeX",
    "outputId": "05e80ce3-648a-41cc-d71e-1be96b038b86",
    "papermill": {
     "duration": 0.032022,
     "end_time": "2022-12-28T17:14:46.026231",
     "exception": false,
     "start_time": "2022-12-28T17:14:45.994209",
     "status": "completed"
    },
    "tags": []
   },
   "outputs": [
    {
     "data": {
      "text/plain": [
       "veincle length                0\n",
       "veincle weight                0\n",
       "axles number                  0\n",
       "DrivingStyle                  0\n",
       "perceding veincle time-gap    0\n",
       "Lane of the road              0\n",
       "veincle speed                 0\n",
       "perceding veincle speed       0\n",
       "perceding veincle weight      0\n",
       "perceding veincle length      0\n",
       "road condition                0\n",
       "Air temprture                 0\n",
       "perciption type               0\n",
       "perciption intensity          0\n",
       "relatve humadity              0\n",
       "wind direction                0\n",
       "wind speed                    0\n",
       "Lighting condition            0\n",
       "dtype: int64"
      ]
     },
     "execution_count": 50,
     "metadata": {},
     "output_type": "execute_result"
    }
   ],
   "source": [
    "merged_data2.isnull().sum()"
   ]
  },
  {
   "cell_type": "code",
   "execution_count": 51,
   "id": "4604ac2a",
   "metadata": {
    "execution": {
     "iopub.execute_input": "2022-12-28T17:14:46.068390Z",
     "iopub.status.busy": "2022-12-28T17:14:46.068015Z",
     "iopub.status.idle": "2022-12-28T17:14:46.075277Z",
     "shell.execute_reply": "2022-12-28T17:14:46.073993Z"
    },
    "id": "y1-lE8TInyD6",
    "outputId": "71bc2a59-9750-461f-e4f4-9f78a1dd6083",
    "papermill": {
     "duration": 0.031074,
     "end_time": "2022-12-28T17:14:46.077402",
     "exception": false,
     "start_time": "2022-12-28T17:14:46.046328",
     "status": "completed"
    },
    "tags": []
   },
   "outputs": [
    {
     "data": {
      "text/plain": [
       "Index(['veincle length', 'veincle weight', 'axles number', 'DrivingStyle',\n",
       "       'perceding veincle time-gap', 'Lane of the road', 'veincle speed',\n",
       "       'perceding veincle speed', 'perceding veincle weight',\n",
       "       'perceding veincle length', 'road condition', 'Air temprture',\n",
       "       'perciption type', 'perciption intensity', 'relatve humadity',\n",
       "       'wind direction', 'wind speed', 'Lighting condition'],\n",
       "      dtype='object')"
      ]
     },
     "execution_count": 51,
     "metadata": {},
     "output_type": "execute_result"
    }
   ],
   "source": [
    "merged_data2.columns"
   ]
  },
  {
   "cell_type": "code",
   "execution_count": 52,
   "id": "582f11f4",
   "metadata": {
    "execution": {
     "iopub.execute_input": "2022-12-28T17:14:46.119298Z",
     "iopub.status.busy": "2022-12-28T17:14:46.118940Z",
     "iopub.status.idle": "2022-12-28T17:14:46.136086Z",
     "shell.execute_reply": "2022-12-28T17:14:46.134654Z"
    },
    "id": "vFWy4M-6ouII",
    "outputId": "82314af0-819e-4204-fcf7-e594c5672b94",
    "papermill": {
     "duration": 0.041533,
     "end_time": "2022-12-28T17:14:46.138846",
     "exception": false,
     "start_time": "2022-12-28T17:14:46.097313",
     "status": "completed"
    },
    "tags": []
   },
   "outputs": [
    {
     "name": "stdout",
     "output_type": "stream",
     "text": [
      "<class 'pandas.core.frame.DataFrame'>\n",
      "Int64Index: 12857 entries, 0 to 12993\n",
      "Data columns (total 18 columns):\n",
      " #   Column                      Non-Null Count  Dtype  \n",
      "---  ------                      --------------  -----  \n",
      " 0   veincle length              12857 non-null  int64  \n",
      " 1   veincle weight              12857 non-null  int64  \n",
      " 2   axles number                12857 non-null  int64  \n",
      " 3   DrivingStyle                12857 non-null  int64  \n",
      " 4   perceding veincle time-gap  12857 non-null  float64\n",
      " 5   Lane of the road            12857 non-null  int64  \n",
      " 6   veincle speed               12857 non-null  float64\n",
      " 7   perceding veincle speed     12857 non-null  float64\n",
      " 8   perceding veincle weight    12857 non-null  float64\n",
      " 9   perceding veincle length    12857 non-null  float64\n",
      " 10  road condition              12857 non-null  float64\n",
      " 11  Air temprture               12857 non-null  float64\n",
      " 12  perciption type             12857 non-null  float64\n",
      " 13  perciption intensity        12857 non-null  float64\n",
      " 14  relatve humadity            12857 non-null  float64\n",
      " 15  wind direction              12857 non-null  float64\n",
      " 16  wind speed                  12857 non-null  float64\n",
      " 17  Lighting condition          12857 non-null  float64\n",
      "dtypes: float64(13), int64(5)\n",
      "memory usage: 1.9 MB\n"
     ]
    }
   ],
   "source": [
    "merged_data2.info()"
   ]
  },
  {
   "cell_type": "code",
   "execution_count": 53,
   "id": "69cde121",
   "metadata": {
    "execution": {
     "iopub.execute_input": "2022-12-28T17:14:46.185875Z",
     "iopub.status.busy": "2022-12-28T17:14:46.185513Z",
     "iopub.status.idle": "2022-12-28T17:14:46.193297Z",
     "shell.execute_reply": "2022-12-28T17:14:46.192000Z"
    },
    "id": "FXiI8l32plsQ",
    "outputId": "0af43887-e421-48b4-9425-495979a412a5",
    "papermill": {
     "duration": 0.033568,
     "end_time": "2022-12-28T17:14:46.196869",
     "exception": false,
     "start_time": "2022-12-28T17:14:46.163301",
     "status": "completed"
    },
    "tags": []
   },
   "outputs": [
    {
     "data": {
      "text/plain": [
       "(12857, 18)"
      ]
     },
     "execution_count": 53,
     "metadata": {},
     "output_type": "execute_result"
    }
   ],
   "source": [
    "merged_data2.shape"
   ]
  },
  {
   "cell_type": "markdown",
   "id": "7c3effda",
   "metadata": {
    "id": "YTj4Rl3bPeZI",
    "papermill": {
     "duration": 0.020825,
     "end_time": "2022-12-28T17:14:46.240000",
     "exception": false,
     "start_time": "2022-12-28T17:14:46.219175",
     "status": "completed"
    },
    "tags": []
   },
   "source": [
    "# **Building differnent models and see which is the best model for the dataset**"
   ]
  },
  {
   "cell_type": "code",
   "execution_count": 54,
   "id": "163bf4d8",
   "metadata": {
    "execution": {
     "iopub.execute_input": "2022-12-28T17:14:46.282779Z",
     "iopub.status.busy": "2022-12-28T17:14:46.282348Z",
     "iopub.status.idle": "2022-12-28T17:15:36.738963Z",
     "shell.execute_reply": "2022-12-28T17:15:36.737543Z"
    },
    "id": "5kPivhsyZwgZ",
    "outputId": "e9d973e7-c943-422f-c905-24cb2f300eff",
    "papermill": {
     "duration": 50.480672,
     "end_time": "2022-12-28T17:15:36.741344",
     "exception": false,
     "start_time": "2022-12-28T17:14:46.260672",
     "status": "completed"
    },
    "tags": []
   },
   "outputs": [
    {
     "name": "stdout",
     "output_type": "stream",
     "text": [
      "---------------------------------\n",
      "---------------------------------\n",
      "[3 1 3 ... 1 2 2]\n",
      "accuracy = 0.7504860661049902\n",
      "f1 score = 0.7250972922302377\n",
      "precision = 0.7256271991117744\n",
      "recall =  0.7259809541545666\n"
     ]
    },
    {
     "name": "stdout",
     "output_type": "stream",
     "text": [
      "---------------------------------\n",
      "---------------------------------\n",
      "[2 2 3 ... 1 2 2]\n",
      "accuracy = 0.7491898898250162\n",
      "f1 score = 0.7222068931924781\n",
      "precision = 0.7247056180868957\n",
      "recall =  0.7219717823520396\n",
      "---------------------------------\n",
      "---------------------------------\n",
      "[2 1 3 ... 1 2 2]\n",
      "accuracy = 0.7440051847051199\n",
      "f1 score = 0.7166609819426829\n",
      "precision = 0.7176816696733889\n",
      "recall =  0.7173269084158272\n",
      "---------------------------------\n",
      "---------------------------------\n",
      "[2 1 3 ... 1 2 2]\n",
      "accuracy = 0.7530784186649384\n",
      "f1 score = 0.7262754793528573\n",
      "precision = 0.7285889558281536\n",
      "recall =  0.7266773748625103\n",
      "---------------------------------\n",
      "---------------------------------\n",
      "[2 2 3 ... 1 2 2]\n",
      "accuracy = 0.7491898898250162\n",
      "f1 score = 0.722490547164348\n",
      "precision = 0.7229515999874739\n",
      "recall =  0.7233880964435987\n",
      "---------------------------------\n",
      "---------------------------------\n",
      "[2 1 3 ... 1 2 2]\n",
      "accuracy = 0.7504860661049902\n",
      "f1 score = 0.7225393673388275\n",
      "precision = 0.7249905855476378\n",
      "recall =  0.722938623802845\n",
      "---------------------------------\n",
      "---------------------------------\n",
      "[2 1 3 ... 1 2 2]\n",
      "accuracy = 0.7530784186649384\n",
      "f1 score = 0.7259780282775999\n",
      "precision = 0.7284502999114871\n",
      "recall =  0.726135369442456\n",
      "---------------------------------\n",
      "---------------------------------\n",
      "[1 2 3 ... 1 2 2]\n",
      "accuracy = 0.7504860661049902\n",
      "f1 score = 0.7226752046988681\n",
      "precision = 0.7251266846824276\n",
      "recall =  0.7226063205513945\n",
      "---------------------------------\n",
      "---------------------------------\n",
      "[2 2 3 ... 1 2 2]\n",
      "accuracy = 0.7420609202851588\n",
      "f1 score = 0.7139339862677302\n",
      "precision = 0.7148557122675081\n",
      "recall =  0.7142353048441007\n",
      "---------------------------------\n",
      "---------------------------------\n",
      "[2 2 3 ... 1 2 2]\n",
      "accuracy = 0.7517822423849644\n",
      "f1 score = 0.724310821959226\n",
      "precision = 0.7263684376960468\n",
      "recall =  0.7243248695908577\n",
      "---------------------------------\n",
      "---------------------------------\n",
      "---------------------------------\n",
      "---------------------------------\n",
      "average = 0.7493843162670123\n"
     ]
    },
    {
     "data": {
      "image/png": "[encoded data removed]",
      "text/plain": [
       "<Figure size 640x480 with 2 Axes>"
      ]
     },
     "metadata": {},
     "output_type": "display_data"
    }
   ],
   "source": [
    "from sklearn.neighbors import KNeighborsClassifier\n",
    "from sklearn import tree\n",
    "from sklearn.model_selection import train_test_split\n",
    "from sklearn.ensemble import RandomForestClassifier\n",
    "import sklearn.metrics as met\n",
    "from sklearn.preprocessing import StandardScaler\n",
    "X = merged_data2.drop('DrivingStyle' , axis = 1)\n",
    "y = merged_data2['DrivingStyle']\n",
    "x_train,x_test,y_train,y_test=train_test_split(X,y,test_size=0.12,random_state=123)\n",
    "avgList = []\n",
    "scaler =StandardScaler()\n",
    "x_train_scaled = scaler.fit_transform(X)\n",
    "for x in range(10):\n",
    "  clf2=RandomForestClassifier(n_estimators=150,max_depth=100,min_samples_split=3,oob_score=True)\n",
    "  clf2.fit(x_train,y_train)\n",
    "  y_pred = clf2.predict(x_test)\n",
    "  print(\"---------------------------------\")\n",
    "  print(\"---------------------------------\")\n",
    "  print(y_pred)\n",
    "  print(\"accuracy =\" ,met.accuracy_score(y_test,y_pred))\n",
    "  print(\"f1 score =\" ,met.f1_score(y_test,y_pred,average='macro'))\n",
    "  print(\"precision =\",met.precision_score(y_test,y_pred,average='macro'))\n",
    "  print(\"recall = \",met.recall_score(y_test,y_pred,average='macro'))\n",
    "  avgList.append(met.accuracy_score(y_test,y_pred))\n",
    "print(\"---------------------------------\")\n",
    "print(\"---------------------------------\")\n",
    "print(\"---------------------------------\")\n",
    "print(\"---------------------------------\")\n",
    "print(\"average =\" ,sum(avgList)/len(avgList))\n",
    "from sklearn.metrics import ConfusionMatrixDisplay\n",
    "import matplotlib.pyplot as plt\n",
    "ConfusionMatrixDisplay.from_predictions(y_test, y_pred)\n",
    "plt.show()"
   ]
  },
  {
   "cell_type": "code",
   "execution_count": 55,
   "id": "12107ace",
   "metadata": {
    "execution": {
     "iopub.execute_input": "2022-12-28T17:15:36.784317Z",
     "iopub.status.busy": "2022-12-28T17:15:36.783962Z",
     "iopub.status.idle": "2022-12-28T17:15:37.009189Z",
     "shell.execute_reply": "2022-12-28T17:15:37.008024Z"
    },
    "id": "JDxVfVLOtlxN",
    "outputId": "7cc3ca56-f2ad-4d0e-ac1a-e19791785851",
    "papermill": {
     "duration": 0.249122,
     "end_time": "2022-12-28T17:15:37.011371",
     "exception": false,
     "start_time": "2022-12-28T17:15:36.762249",
     "status": "completed"
    },
    "tags": []
   },
   "outputs": [
    {
     "data": {
      "image/png": "[encoded data removed]",
      "text/plain": [
       "<Figure size 640x480 with 1 Axes>"
      ]
     },
     "metadata": {},
     "output_type": "display_data"
    }
   ],
   "source": [
    "import numpy as np\n",
    "importances = clf2.feature_importances_\n",
    "sorted_indices = np.argsort(importances)[::-1]\n",
    "feat_labels = X.columns[1:]\n",
    "\n",
    "plt.title('Feature Importance')\n",
    "plt.bar(range(x_train.shape[1]), importances[sorted_indices], align='center')\n",
    "plt.xticks(range(x_train.shape[1]), x_train.columns[sorted_indices], rotation=90)\n",
    "plt.tight_layout()\n",
    "plt.show()"
   ]
  },
  {
   "cell_type": "code",
   "execution_count": 56,
   "id": "a6ff6b89",
   "metadata": {
    "execution": {
     "iopub.execute_input": "2022-12-28T17:15:37.054790Z",
     "iopub.status.busy": "2022-12-28T17:15:37.054381Z",
     "iopub.status.idle": "2022-12-28T17:15:37.058794Z",
     "shell.execute_reply": "2022-12-28T17:15:37.058129Z"
    },
    "id": "skEOiV9a8Wsg",
    "outputId": "4c3d9f62-f761-4556-ff18-75ed79036df9",
    "papermill": {
     "duration": 0.028976,
     "end_time": "2022-12-28T17:15:37.061090",
     "exception": false,
     "start_time": "2022-12-28T17:15:37.032114",
     "status": "completed"
    },
    "tags": []
   },
   "outputs": [
    {
     "name": "stdout",
     "output_type": "stream",
     "text": [
      "[0.14247003 0.13451104 0.09875048 0.0770884  0.07003961 0.06757221\n",
      " 0.06425003 0.06100644 0.05613393 0.05559729 0.05510361 0.05205582\n",
      " 0.03664475 0.01986958 0.00347503 0.00298967 0.00244211]\n"
     ]
    }
   ],
   "source": [
    "print(importances[sorted_indices])"
   ]
  },
  {
   "cell_type": "code",
   "execution_count": 57,
   "id": "14975c09",
   "metadata": {
    "execution": {
     "iopub.execute_input": "2022-12-28T17:15:37.105683Z",
     "iopub.status.busy": "2022-12-28T17:15:37.104974Z",
     "iopub.status.idle": "2022-12-28T17:16:21.791811Z",
     "shell.execute_reply": "2022-12-28T17:16:21.790384Z"
    },
    "id": "kKyFRbI-uXRs",
    "outputId": "e2c8c1f1-898f-4edc-e8aa-d8e87ae118cf",
    "papermill": {
     "duration": 44.711538,
     "end_time": "2022-12-28T17:16:21.794339",
     "exception": false,
     "start_time": "2022-12-28T17:15:37.082801",
     "status": "completed"
    },
    "tags": []
   },
   "outputs": [
    {
     "name": "stdout",
     "output_type": "stream",
     "text": [
      "---------------------------------\n",
      "---------------------------------\n",
      "[2 1 3 ... 1 2 2]\n",
      "accuracy = 0.7491898898250162\n",
      "f1 score = 0.7228392288255084\n",
      "precision = 0.724841247118155\n",
      "recall =  0.7231783942749951\n",
      "---------------------------------\n",
      "---------------------------------\n",
      "[2 1 3 ... 1 2 2]\n",
      "accuracy = 0.7504860661049902\n",
      "f1 score = 0.721905583771313\n",
      "precision = 0.7242871968243415\n",
      "recall =  0.722365968112079\n",
      "---------------------------------\n",
      "---------------------------------\n",
      "[2 2 3 ... 1 2 2]\n",
      "accuracy = 0.7511341542449773\n",
      "f1 score = 0.7246744134359773\n",
      "precision = 0.7262543285983766\n",
      "recall =  0.7247310826723158\n",
      "---------------------------------\n",
      "---------------------------------\n",
      "[2 2 3 ... 1 2 2]\n",
      "accuracy = 0.7478937135450421\n",
      "f1 score = 0.7203581559395166\n",
      "precision = 0.7214876805744118\n",
      "recall =  0.7214598452355317\n",
      "---------------------------------\n",
      "---------------------------------\n",
      "[2 1 3 ... 1 2 2]\n",
      "accuracy = 0.7465975372650681\n",
      "f1 score = 0.7178366160996434\n",
      "precision = 0.7207135053501345\n",
      "recall =  0.7176603756016086\n",
      "---------------------------------\n",
      "---------------------------------\n",
      "[2 1 3 ... 1 2 2]\n",
      "accuracy = 0.745949449125081\n",
      "f1 score = 0.7173163676316032\n",
      "precision = 0.7187449298578047\n",
      "recall =  0.7177955859730393\n",
      "---------------------------------\n",
      "---------------------------------\n",
      "[1 2 3 ... 1 2 2]\n",
      "accuracy = 0.7472456254050551\n",
      "f1 score = 0.7189237103137326\n",
      "precision = 0.7222896949831913\n",
      "recall =  0.7183994739016825\n",
      "---------------------------------\n",
      "---------------------------------\n",
      "[2 1 3 ... 1 2 2]\n",
      "accuracy = 0.744653272845107\n",
      "f1 score = 0.7153217522319076\n",
      "precision = 0.7179226735121808\n",
      "recall =  0.7155043812428102\n",
      "---------------------------------\n",
      "---------------------------------\n",
      "[2 1 3 ... 1 2 2]\n",
      "accuracy = 0.7465975372650681\n",
      "f1 score = 0.7179337200779464\n",
      "precision = 0.7201502197661576\n",
      "recall =  0.7176603756016086\n",
      "---------------------------------\n",
      "---------------------------------\n",
      "[2 1 3 ... 1 2 2]\n",
      "accuracy = 0.7472456254050551\n",
      "f1 score = 0.7203569821990875\n",
      "precision = 0.7219387548471138\n",
      "recall =  0.7203577934132955\n",
      "---------------------------------\n",
      "---------------------------------\n",
      "---------------------------------\n",
      "---------------------------------\n",
      "average = 0.747699287103046\n"
     ]
    },
    {
     "data": {
      "image/png": "[encoded data removed]",
      "text/plain": [
       "<Figure size 640x480 with 2 Axes>"
      ]
     },
     "metadata": {},
     "output_type": "display_data"
    }
   ],
   "source": [
    "X = merged_data2.drop(['DrivingStyle','perciption type','perciption intensity','Lane of the road'] , axis = 1)\n",
    "y = merged_data2['DrivingStyle']\n",
    "x_train,x_test,y_train,y_test=train_test_split(X,y,test_size=0.12,random_state=123)\n",
    "avgList = []\n",
    "for x in range(10):\n",
    "  clf2=RandomForestClassifier(n_estimators=150,max_depth=100,min_samples_split=3,oob_score=True)\n",
    "  clf2.fit(x_train,y_train)\n",
    "  y_pred = clf2.predict(x_test)\n",
    "  print(\"---------------------------------\")\n",
    "  print(\"---------------------------------\")\n",
    "  print(y_pred)\n",
    "  print(\"accuracy =\" ,met.accuracy_score(y_test,y_pred))\n",
    "  print(\"f1 score =\" ,met.f1_score(y_test,y_pred,average='macro'))\n",
    "  print(\"precision =\",met.precision_score(y_test,y_pred,average='macro'))\n",
    "  print(\"recall = \",met.recall_score(y_test,y_pred,average='macro'))\n",
    "  avgList.append(met.accuracy_score(y_test,y_pred))\n",
    "print(\"---------------------------------\")\n",
    "print(\"---------------------------------\")\n",
    "print(\"---------------------------------\")\n",
    "print(\"---------------------------------\")\n",
    "print(\"average =\" ,sum(avgList)/len(avgList))\n",
    "from sklearn.metrics import ConfusionMatrixDisplay\n",
    "import matplotlib.pyplot as plt\n",
    "ConfusionMatrixDisplay.from_predictions(y_test, y_pred)\n",
    "plt.show()\n"
   ]
  },
  {
   "cell_type": "code",
   "execution_count": 58,
   "id": "0c6e031b",
   "metadata": {
    "execution": {
     "iopub.execute_input": "2022-12-28T17:16:21.840728Z",
     "iopub.status.busy": "2022-12-28T17:16:21.839606Z",
     "iopub.status.idle": "2022-12-28T17:16:22.866545Z",
     "shell.execute_reply": "2022-12-28T17:16:22.865284Z"
    },
    "id": "ZNWlzgnqdTXl",
    "outputId": "4dda289f-3455-489c-d787-5b37592636df",
    "papermill": {
     "duration": 1.052703,
     "end_time": "2022-12-28T17:16:22.869018",
     "exception": false,
     "start_time": "2022-12-28T17:16:21.816315",
     "status": "completed"
    },
    "tags": []
   },
   "outputs": [
    {
     "name": "stdout",
     "output_type": "stream",
     "text": [
      "---------------------------------\n",
      "---------------------------------\n",
      "[1 1 2 ... 2 2 2]\n",
      "accuracy = 0.7141931302657162\n",
      "f1 score = 0.6723713945771053\n",
      "precision = 0.7817573277266815\n",
      "recall =  0.7138758431249309\n",
      "---------------------------------\n",
      "---------------------------------\n",
      "[1 1 2 ... 2 2 2]\n",
      "accuracy = 0.7141931302657162\n",
      "f1 score = 0.6723713945771053\n",
      "precision = 0.7817573277266815\n",
      "recall =  0.7138758431249309\n",
      "---------------------------------\n",
      "---------------------------------\n",
      "[1 1 2 ... 2 2 2]\n",
      "accuracy = 0.7141931302657162\n",
      "f1 score = 0.6723713945771053\n",
      "precision = 0.7817573277266815\n",
      "recall =  0.7138758431249309\n",
      "---------------------------------\n",
      "---------------------------------\n",
      "[1 1 2 ... 2 2 2]\n",
      "accuracy = 0.7141931302657162\n",
      "f1 score = 0.6723713945771053\n",
      "precision = 0.7817573277266815\n",
      "recall =  0.7138758431249309\n",
      "---------------------------------\n",
      "---------------------------------\n",
      "[1 1 2 ... 2 2 2]\n",
      "accuracy = 0.7141931302657162\n",
      "f1 score = 0.6723713945771053\n",
      "precision = 0.7817573277266815\n",
      "recall =  0.7138758431249309\n",
      "---------------------------------\n",
      "---------------------------------\n",
      "[1 1 2 ... 2 2 2]\n",
      "accuracy = 0.7141931302657162\n",
      "f1 score = 0.6723713945771053\n",
      "precision = 0.7817573277266815\n",
      "recall =  0.7138758431249309\n",
      "---------------------------------\n",
      "---------------------------------\n",
      "[1 1 2 ... 2 2 2]\n",
      "accuracy = 0.7141931302657162\n",
      "f1 score = 0.6723713945771053\n",
      "precision = 0.7817573277266815\n",
      "recall =  0.7138758431249309\n",
      "---------------------------------\n",
      "---------------------------------\n",
      "[1 1 2 ... 2 2 2]\n",
      "accuracy = 0.7141931302657162\n",
      "f1 score = 0.6723713945771053\n",
      "precision = 0.7817573277266815\n",
      "recall =  0.7138758431249309\n",
      "---------------------------------\n",
      "---------------------------------\n",
      "[1 1 2 ... 2 2 2]\n",
      "accuracy = 0.7141931302657162\n",
      "f1 score = 0.6723713945771053\n",
      "precision = 0.7817573277266815\n",
      "recall =  0.7138758431249309\n",
      "---------------------------------\n",
      "---------------------------------\n",
      "[1 1 2 ... 2 2 2]\n",
      "accuracy = 0.7141931302657162\n",
      "f1 score = 0.6723713945771053\n",
      "precision = 0.7817573277266815\n",
      "recall =  0.7138758431249309\n",
      "---------------------------------\n",
      "---------------------------------\n",
      "---------------------------------\n",
      "---------------------------------\n"
     ]
    }
   ],
   "source": [
    "for x in range(10):\n",
    "  scaler =StandardScaler()\n",
    "  scaler.fit_transform(X)\n",
    "  neigh = KNeighborsClassifier(n_neighbors=2,leaf_size=30,p=2,algorithm='ball_tree')\n",
    "  neigh.fit(X, y)\n",
    "  y_pred = neigh.predict(x_test)\n",
    "  print(\"---------------------------------\")\n",
    "  print(\"---------------------------------\")\n",
    "  print(y_pred)\n",
    "  print(\"accuracy =\" ,met.accuracy_score(y_test,y_pred))\n",
    "  print(\"f1 score =\" ,met.f1_score(y_test,y_pred,average='macro'))\n",
    "  print(\"precision =\",met.precision_score(y_test,y_pred,average='macro'))\n",
    "  print(\"recall = \",met.recall_score(y_test,y_pred,average='macro'))\n",
    "print(\"---------------------------------\")\n",
    "print(\"---------------------------------\")\n",
    "print(\"---------------------------------\")\n",
    "print(\"---------------------------------\")"
   ]
  },
  {
   "cell_type": "code",
   "execution_count": 59,
   "id": "1e17625a",
   "metadata": {
    "execution": {
     "iopub.execute_input": "2022-12-28T17:16:22.914965Z",
     "iopub.status.busy": "2022-12-28T17:16:22.914625Z",
     "iopub.status.idle": "2022-12-28T17:16:22.920559Z",
     "shell.execute_reply": "2022-12-28T17:16:22.919409Z"
    },
    "id": "oxVoy8Pedicy",
    "outputId": "c560eefd-7dc3-4d77-96d4-61bb4d455db6",
    "papermill": {
     "duration": 0.031057,
     "end_time": "2022-12-28T17:16:22.922584",
     "exception": false,
     "start_time": "2022-12-28T17:16:22.891527",
     "status": "completed"
    },
    "tags": []
   },
   "outputs": [
    {
     "name": "stdout",
     "output_type": "stream",
     "text": [
      "---------------------------------\n",
      "---------------------------------\n",
      "---------------------------------\n",
      "---------------------------------\n"
     ]
    }
   ],
   "source": [
    "#from sklearn.pipeline import make_pipeline\n",
    "#from sklearn.svm import SVC\n",
    "#for x in range(10):\n",
    "  #clf2 = make_pipeline(StandardScaler(), SVC(gamma='auto'))\n",
    "  #clf2.fit(X, y)\n",
    "  #y_pred = clf2.predict(x_test)\n",
    "  #print(\"---------------------------------\")\n",
    "  #print(\"---------------------------------\")\n",
    "  #print(y_pred)\n",
    "  #print(\"accuracy =\" ,met.accuracy_score(y_test,y_pred))\n",
    "  #print(\"f1 score =\" ,met.f1_score(y_test,y_pred,average='macro'))\n",
    "  #print(\"precision =\",met.precision_score(y_test,y_pred,average='macro'))\n",
    "  #print(\"recall = \",met.recall_score(y_test,y_pred,average='macro'))\n",
    "print(\"---------------------------------\")\n",
    "print(\"---------------------------------\")\n",
    "print(\"---------------------------------\")\n",
    "print(\"---------------------------------\")"
   ]
  },
  {
   "cell_type": "code",
   "execution_count": 60,
   "id": "d01b14b7",
   "metadata": {
    "execution": {
     "iopub.execute_input": "2022-12-28T17:16:22.967899Z",
     "iopub.status.busy": "2022-12-28T17:16:22.967563Z",
     "iopub.status.idle": "2022-12-28T17:16:28.205570Z",
     "shell.execute_reply": "2022-12-28T17:16:28.204845Z"
    },
    "id": "oCbG9NcDeNNW",
    "outputId": "76c7f4d3-41c3-49ce-c59d-9a77307ab160",
    "papermill": {
     "duration": 5.265104,
     "end_time": "2022-12-28T17:16:28.209803",
     "exception": false,
     "start_time": "2022-12-28T17:16:22.944699",
     "status": "completed"
    },
    "tags": []
   },
   "outputs": [
    {
     "name": "stderr",
     "output_type": "stream",
     "text": [
      "/home/p.kuznetsov/.local/lib/python3.9/site-packages/sklearn/linear_model/_logistic.py:469: ConvergenceWarning: lbfgs failed to converge (status=1):\n",
      "STOP: TOTAL NO. of ITERATIONS REACHED LIMIT.\n",
      "\n",
      "Increase the number of iterations (max_iter) or scale the data as shown in:\n",
      "    https://scikit-learn.org/stable/modules/preprocessing.html\n",
      "Please also refer to the documentation for alternative solver options:\n",
      "    https://scikit-learn.org/stable/modules/linear_model.html#logistic-regression\n",
      "  n_iter_i = _check_optimize_result(\n",
      "/home/p.kuznetsov/.local/lib/python3.9/site-packages/sklearn/linear_model/_logistic.py:469: ConvergenceWarning: lbfgs failed to converge (status=1):\n",
      "STOP: TOTAL NO. of ITERATIONS REACHED LIMIT.\n",
      "\n",
      "Increase the number of iterations (max_iter) or scale the data as shown in:\n",
      "    https://scikit-learn.org/stable/modules/preprocessing.html\n",
      "Please also refer to the documentation for alternative solver options:\n",
      "    https://scikit-learn.org/stable/modules/linear_model.html#logistic-regression\n",
      "  n_iter_i = _check_optimize_result(\n"
     ]
    },
    {
     "name": "stdout",
     "output_type": "stream",
     "text": [
      "---------------------------------\n",
      "---------------------------------\n",
      "[2 1 2 ... 2 2 2]\n",
      "accuracy = 0.5106934543097861\n",
      "f1 score = 0.3530321869432034\n",
      "precision = 0.46097467101438977\n",
      "recall =  0.40664567705090077\n",
      "---------------------------------\n",
      "---------------------------------\n",
      "[2 1 2 ... 2 2 2]\n",
      "accuracy = 0.5106934543097861\n",
      "f1 score = 0.3530321869432034\n",
      "precision = 0.46097467101438977\n",
      "recall =  0.40664567705090077\n"
     ]
    },
    {
     "name": "stderr",
     "output_type": "stream",
     "text": [
      "/home/p.kuznetsov/.local/lib/python3.9/site-packages/sklearn/linear_model/_logistic.py:469: ConvergenceWarning: lbfgs failed to converge (status=1):\n",
      "STOP: TOTAL NO. of ITERATIONS REACHED LIMIT.\n",
      "\n",
      "Increase the number of iterations (max_iter) or scale the data as shown in:\n",
      "    https://scikit-learn.org/stable/modules/preprocessing.html\n",
      "Please also refer to the documentation for alternative solver options:\n",
      "    https://scikit-learn.org/stable/modules/linear_model.html#logistic-regression\n",
      "  n_iter_i = _check_optimize_result(\n",
      "/home/p.kuznetsov/.local/lib/python3.9/site-packages/sklearn/linear_model/_logistic.py:469: ConvergenceWarning: lbfgs failed to converge (status=1):\n",
      "STOP: TOTAL NO. of ITERATIONS REACHED LIMIT.\n",
      "\n",
      "Increase the number of iterations (max_iter) or scale the data as shown in:\n",
      "    https://scikit-learn.org/stable/modules/preprocessing.html\n",
      "Please also refer to the documentation for alternative solver options:\n",
      "    https://scikit-learn.org/stable/modules/linear_model.html#logistic-regression\n",
      "  n_iter_i = _check_optimize_result(\n"
     ]
    },
    {
     "name": "stdout",
     "output_type": "stream",
     "text": [
      "---------------------------------\n",
      "---------------------------------\n",
      "[2 1 2 ... 2 2 2]\n",
      "accuracy = 0.5106934543097861\n",
      "f1 score = 0.3530321869432034\n",
      "precision = 0.46097467101438977\n",
      "recall =  0.40664567705090077\n",
      "---------------------------------\n",
      "---------------------------------\n",
      "[2 1 2 ... 2 2 2]\n",
      "accuracy = 0.5106934543097861\n",
      "f1 score = 0.3530321869432034\n",
      "precision = 0.46097467101438977\n",
      "recall =  0.40664567705090077\n"
     ]
    },
    {
     "name": "stderr",
     "output_type": "stream",
     "text": [
      "/home/p.kuznetsov/.local/lib/python3.9/site-packages/sklearn/linear_model/_logistic.py:469: ConvergenceWarning: lbfgs failed to converge (status=1):\n",
      "STOP: TOTAL NO. of ITERATIONS REACHED LIMIT.\n",
      "\n",
      "Increase the number of iterations (max_iter) or scale the data as shown in:\n",
      "    https://scikit-learn.org/stable/modules/preprocessing.html\n",
      "Please also refer to the documentation for alternative solver options:\n",
      "    https://scikit-learn.org/stable/modules/linear_model.html#logistic-regression\n",
      "  n_iter_i = _check_optimize_result(\n",
      "/home/p.kuznetsov/.local/lib/python3.9/site-packages/sklearn/linear_model/_logistic.py:469: ConvergenceWarning: lbfgs failed to converge (status=1):\n",
      "STOP: TOTAL NO. of ITERATIONS REACHED LIMIT.\n",
      "\n",
      "Increase the number of iterations (max_iter) or scale the data as shown in:\n",
      "    https://scikit-learn.org/stable/modules/preprocessing.html\n",
      "Please also refer to the documentation for alternative solver options:\n",
      "    https://scikit-learn.org/stable/modules/linear_model.html#logistic-regression\n",
      "  n_iter_i = _check_optimize_result(\n"
     ]
    },
    {
     "name": "stdout",
     "output_type": "stream",
     "text": [
      "---------------------------------\n",
      "---------------------------------\n",
      "[2 1 2 ... 2 2 2]\n",
      "accuracy = 0.5106934543097861\n",
      "f1 score = 0.3530321869432034\n",
      "precision = 0.46097467101438977\n",
      "recall =  0.40664567705090077\n",
      "---------------------------------\n",
      "---------------------------------\n",
      "[2 1 2 ... 2 2 2]\n",
      "accuracy = 0.5106934543097861\n",
      "f1 score = 0.3530321869432034\n",
      "precision = 0.46097467101438977\n",
      "recall =  0.40664567705090077\n"
     ]
    },
    {
     "name": "stderr",
     "output_type": "stream",
     "text": [
      "/home/p.kuznetsov/.local/lib/python3.9/site-packages/sklearn/linear_model/_logistic.py:469: ConvergenceWarning: lbfgs failed to converge (status=1):\n",
      "STOP: TOTAL NO. of ITERATIONS REACHED LIMIT.\n",
      "\n",
      "Increase the number of iterations (max_iter) or scale the data as shown in:\n",
      "    https://scikit-learn.org/stable/modules/preprocessing.html\n",
      "Please also refer to the documentation for alternative solver options:\n",
      "    https://scikit-learn.org/stable/modules/linear_model.html#logistic-regression\n",
      "  n_iter_i = _check_optimize_result(\n",
      "/home/p.kuznetsov/.local/lib/python3.9/site-packages/sklearn/linear_model/_logistic.py:469: ConvergenceWarning: lbfgs failed to converge (status=1):\n",
      "STOP: TOTAL NO. of ITERATIONS REACHED LIMIT.\n",
      "\n",
      "Increase the number of iterations (max_iter) or scale the data as shown in:\n",
      "    https://scikit-learn.org/stable/modules/preprocessing.html\n",
      "Please also refer to the documentation for alternative solver options:\n",
      "    https://scikit-learn.org/stable/modules/linear_model.html#logistic-regression\n",
      "  n_iter_i = _check_optimize_result(\n"
     ]
    },
    {
     "name": "stdout",
     "output_type": "stream",
     "text": [
      "---------------------------------\n",
      "---------------------------------\n",
      "[2 1 2 ... 2 2 2]\n",
      "accuracy = 0.5106934543097861\n",
      "f1 score = 0.3530321869432034\n",
      "precision = 0.46097467101438977\n",
      "recall =  0.40664567705090077\n",
      "---------------------------------\n",
      "---------------------------------\n",
      "[2 1 2 ... 2 2 2]\n",
      "accuracy = 0.5106934543097861\n",
      "f1 score = 0.3530321869432034\n",
      "precision = 0.46097467101438977\n",
      "recall =  0.40664567705090077\n",
      "---------------------------------\n",
      "---------------------------------\n",
      "[2 1 2 ... 2 2 2]\n",
      "accuracy = 0.5106934543097861\n",
      "f1 score = 0.3530321869432034\n",
      "precision = 0.46097467101438977\n",
      "recall =  0.40664567705090077\n",
      "---------------------------------\n",
      "---------------------------------\n",
      "[2 1 2 ... 2 2 2]\n",
      "accuracy = 0.5106934543097861\n",
      "f1 score = 0.3530321869432034\n",
      "precision = 0.46097467101438977\n",
      "recall =  0.40664567705090077\n",
      "---------------------------------\n",
      "---------------------------------\n",
      "---------------------------------\n",
      "---------------------------------\n"
     ]
    },
    {
     "name": "stderr",
     "output_type": "stream",
     "text": [
      "/home/p.kuznetsov/.local/lib/python3.9/site-packages/sklearn/linear_model/_logistic.py:469: ConvergenceWarning: lbfgs failed to converge (status=1):\n",
      "STOP: TOTAL NO. of ITERATIONS REACHED LIMIT.\n",
      "\n",
      "Increase the number of iterations (max_iter) or scale the data as shown in:\n",
      "    https://scikit-learn.org/stable/modules/preprocessing.html\n",
      "Please also refer to the documentation for alternative solver options:\n",
      "    https://scikit-learn.org/stable/modules/linear_model.html#logistic-regression\n",
      "  n_iter_i = _check_optimize_result(\n",
      "/home/p.kuznetsov/.local/lib/python3.9/site-packages/sklearn/linear_model/_logistic.py:469: ConvergenceWarning: lbfgs failed to converge (status=1):\n",
      "STOP: TOTAL NO. of ITERATIONS REACHED LIMIT.\n",
      "\n",
      "Increase the number of iterations (max_iter) or scale the data as shown in:\n",
      "    https://scikit-learn.org/stable/modules/preprocessing.html\n",
      "Please also refer to the documentation for alternative solver options:\n",
      "    https://scikit-learn.org/stable/modules/linear_model.html#logistic-regression\n",
      "  n_iter_i = _check_optimize_result(\n"
     ]
    }
   ],
   "source": [
    "from sklearn.linear_model import LogisticRegression\n",
    "for x in range(10):\n",
    "  clf = LogisticRegression(multi_class='multinomial').fit(X, y)\n",
    "  y_pred = clf.predict(x_test)\n",
    "  print(\"---------------------------------\")\n",
    "  print(\"---------------------------------\")\n",
    "  print(y_pred)\n",
    "  print(\"accuracy =\" ,met.accuracy_score(y_test,y_pred))\n",
    "  print(\"f1 score =\" ,met.f1_score(y_test,y_pred,average='macro'))\n",
    "  print(\"precision =\",met.precision_score(y_test,y_pred,average='macro'))\n",
    "  print(\"recall = \",met.recall_score(y_test,y_pred,average='macro'))\n",
    "print(\"---------------------------------\")\n",
    "print(\"---------------------------------\")\n",
    "print(\"---------------------------------\")\n",
    "print(\"---------------------------------\")"
   ]
  },
  {
   "cell_type": "code",
   "execution_count": 61,
   "id": "29e92399",
   "metadata": {
    "execution": {
     "iopub.execute_input": "2022-12-28T17:16:28.271239Z",
     "iopub.status.busy": "2022-12-28T17:16:28.270887Z",
     "iopub.status.idle": "2022-12-28T17:16:28.274549Z",
     "shell.execute_reply": "2022-12-28T17:16:28.273849Z"
    },
    "id": "qBX6cTYpWLn0",
    "papermill": {
     "duration": 0.037714,
     "end_time": "2022-12-28T17:16:28.277681",
     "exception": false,
     "start_time": "2022-12-28T17:16:28.239967",
     "status": "completed"
    },
    "tags": []
   },
   "outputs": [],
   "source": [
    "#merged_data2.corr()"
   ]
  },
  {
   "cell_type": "code",
   "execution_count": 62,
   "id": "c4941051",
   "metadata": {
    "execution": {
     "iopub.execute_input": "2022-12-28T17:16:28.335410Z",
     "iopub.status.busy": "2022-12-28T17:16:28.334993Z",
     "iopub.status.idle": "2022-12-28T17:16:28.338867Z",
     "shell.execute_reply": "2022-12-28T17:16:28.337925Z"
    },
    "id": "-dioghCSYdLo",
    "papermill": {
     "duration": 0.033578,
     "end_time": "2022-12-28T17:16:28.340711",
     "exception": false,
     "start_time": "2022-12-28T17:16:28.307133",
     "status": "completed"
    },
    "tags": []
   },
   "outputs": [],
   "source": [
    "#plt.figure(figsize=(17,17))\n",
    "#import seaborn as sns\n",
    "#sns.heatmap(merged_data2.corr(), annot = True, fmt='.2g')\n"
   ]
  },
  {
   "cell_type": "markdown",
   "id": "cb601f2b",
   "metadata": {
    "id": "6tZnrDTLM5fe",
    "papermill": {
     "duration": 0.022574,
     "end_time": "2022-12-28T17:16:28.386354",
     "exception": false,
     "start_time": "2022-12-28T17:16:28.363780",
     "status": "completed"
    },
    "tags": []
   },
   "source": [
    "# **Feature selection and dimensionility reduction**\n"
   ]
  },
  {
   "cell_type": "code",
   "execution_count": 63,
   "id": "decaa894",
   "metadata": {
    "execution": {
     "iopub.execute_input": "2022-12-28T17:16:28.434463Z",
     "iopub.status.busy": "2022-12-28T17:16:28.433849Z",
     "iopub.status.idle": "2022-12-28T17:16:30.055975Z",
     "shell.execute_reply": "2022-12-28T17:16:30.054537Z"
    },
    "id": "_efQjE2n98wp",
    "outputId": "021d6022-8e77-4bfa-bc0d-a208895cf7c5",
    "papermill": {
     "duration": 1.649071,
     "end_time": "2022-12-28T17:16:30.058686",
     "exception": false,
     "start_time": "2022-12-28T17:16:28.409615",
     "status": "completed"
    },
    "tags": []
   },
   "outputs": [
    {
     "name": "stdout",
     "output_type": "stream",
     "text": [
      "All features:\n",
      "['veincle length' 'veincle weight' 'axles number'\n",
      " 'perceding veincle time-gap' 'Lane of the road' 'veincle speed'\n",
      " 'perceding veincle speed' 'perceding veincle weight'\n",
      " 'perceding veincle length' 'road condition' 'Air temprture'\n",
      " 'perciption type' 'perciption intensity' 'relatve humadity'\n",
      " 'wind direction' 'wind speed' 'Lighting condition']\n",
      "[ True  True  True  True  True  True  True False  True  True  True False\n",
      " False  True  True  True  True]\n",
      "Selected best\n",
      "['veincle length' 'veincle weight' 'axles number'\n",
      " 'perceding veincle time-gap' 'Lane of the road' 'veincle speed'\n",
      " 'perceding veincle speed' 'perceding veincle length' 'road condition'\n",
      " 'Air temprture' 'relatve humadity' 'wind direction' 'wind speed'\n",
      " 'Lighting condition']\n",
      "[[1.26500000e+03 1.02430000e+04 2.00000000e+00 ... 1.25157895e+02\n",
      "  5.26315789e-02 0.00000000e+00]\n",
      " [1.68000000e+03 3.08710000e+04 6.00000000e+00 ... 1.57818182e+02\n",
      "  6.00000000e+00 0.00000000e+00]\n",
      " [9.36000000e+02 3.22400000e+03 4.00000000e+00 ... 6.44545455e+01\n",
      "  0.00000000e+00 0.00000000e+00]\n",
      " ...\n",
      " [1.74700000e+03 3.18640000e+04 6.00000000e+00 ... 2.85000000e+02\n",
      "  5.57894737e+00 2.00000000e+00]\n",
      " [7.10000000e+02 3.24400000e+03 2.00000000e+00 ... 3.08466667e+02\n",
      "  3.66666667e+00 2.00000000e+00]\n",
      " [2.00100000e+03 2.78120000e+04 6.00000000e+00 ... 4.50000000e+01\n",
      "  8.00000000e+00 2.00000000e+00]]\n"
     ]
    },
    {
     "name": "stderr",
     "output_type": "stream",
     "text": [
      "/home/p.kuznetsov/.local/lib/python3.9/site-packages/sklearn/svm/_base.py:1237: ConvergenceWarning: Liblinear failed to converge, increase the number of iterations.\n",
      "  warnings.warn(\n",
      "/home/p.kuznetsov/.local/lib/python3.9/site-packages/sklearn/base.py:486: UserWarning: X has feature names, but SelectFromModel was fitted without feature names\n",
      "  warnings.warn(\n"
     ]
    }
   ],
   "source": [
    "from sklearn.feature_selection import SelectKBest\n",
    "from sklearn.svm import LinearSVC\n",
    "from sklearn.feature_selection import SelectFromModel, f_classif\n",
    "X = merged_data2.drop('DrivingStyle' , axis = 1)\n",
    "lsvc = LinearSVC(C=0.01, penalty=\"l1\", dual=False).fit(X, y)\n",
    "model = SelectFromModel(lsvc, prefit=True)\n",
    "X_new = model.transform(X)\n",
    "X_new.shape\n",
    "features = np.array(X.columns)\n",
    "filter = model.get_support()\n",
    "print(\"All features:\")\n",
    "print(features)\n",
    "print(filter)\n",
    "print(\"Selected best\")\n",
    "print(features[filter])\n",
    "print(X_new)"
   ]
  },
  {
   "cell_type": "code",
   "execution_count": 64,
   "id": "2ca5d106",
   "metadata": {
    "execution": {
     "iopub.execute_input": "2022-12-28T17:16:30.107368Z",
     "iopub.status.busy": "2022-12-28T17:16:30.107043Z",
     "iopub.status.idle": "2022-12-28T17:16:30.122286Z",
     "shell.execute_reply": "2022-12-28T17:16:30.120793Z"
    },
    "id": "Ioo1e2ZA-ztf",
    "outputId": "e3e56065-5082-409b-b6f2-694c692099c0",
    "papermill": {
     "duration": 0.04241,
     "end_time": "2022-12-28T17:16:30.124636",
     "exception": false,
     "start_time": "2022-12-28T17:16:30.082226",
     "status": "completed"
    },
    "tags": []
   },
   "outputs": [
    {
     "name": "stdout",
     "output_type": "stream",
     "text": [
      "All features:\n",
      "['veincle length' 'veincle weight' 'axles number'\n",
      " 'perceding veincle time-gap' 'Lane of the road' 'veincle speed'\n",
      " 'perceding veincle speed' 'perceding veincle weight'\n",
      " 'perceding veincle length' 'road condition' 'Air temprture'\n",
      " 'perciption type' 'perciption intensity' 'relatve humadity'\n",
      " 'wind direction' 'wind speed' 'Lighting condition']\n",
      "[ True  True  True False False  True False False False False False False\n",
      " False False False False  True]\n",
      "Selected best 4:\n",
      "['veincle length' 'veincle weight' 'axles number' 'veincle speed'\n",
      " 'Lighting condition']\n",
      "[[1.26500000e+03 1.02430000e+04 2.00000000e+00 8.74736842e+01\n",
      "  0.00000000e+00]\n",
      " [1.68000000e+03 3.08710000e+04 6.00000000e+00 8.22727273e+01\n",
      "  0.00000000e+00]\n",
      " [9.36000000e+02 3.22400000e+03 4.00000000e+00 8.50909091e+01\n",
      "  0.00000000e+00]\n",
      " ...\n",
      " [1.74700000e+03 3.18640000e+04 6.00000000e+00 8.42105263e+01\n",
      "  2.00000000e+00]\n",
      " [7.10000000e+02 3.24400000e+03 2.00000000e+00 8.26666667e+01\n",
      "  2.00000000e+00]\n",
      " [2.00100000e+03 2.78120000e+04 6.00000000e+00 7.75000000e+01\n",
      "  2.00000000e+00]]\n"
     ]
    }
   ],
   "source": [
    "\n",
    "select = SelectKBest(score_func= f_classif, k=5)\n",
    "z = select.fit_transform(X, y)\n",
    "filter = select.get_support()\n",
    "print(\"All features:\")\n",
    "print(features)\n",
    "print(filter)\n",
    "print(\"Selected best 4:\")\n",
    "print(features[filter])\n",
    "print(z)"
   ]
  },
  {
   "cell_type": "code",
   "execution_count": 65,
   "id": "7d255076",
   "metadata": {
    "execution": {
     "iopub.execute_input": "2022-12-28T17:16:30.174317Z",
     "iopub.status.busy": "2022-12-28T17:16:30.173959Z",
     "iopub.status.idle": "2022-12-28T17:17:16.866438Z",
     "shell.execute_reply": "2022-12-28T17:17:16.864707Z"
    },
    "id": "fqbPVQ7LBVFE",
    "outputId": "d5c7ed79-cecb-473b-8d4e-ef57b2b1adee",
    "papermill": {
     "duration": 46.72073,
     "end_time": "2022-12-28T17:17:16.869040",
     "exception": false,
     "start_time": "2022-12-28T17:16:30.148310",
     "status": "completed"
    },
    "tags": []
   },
   "outputs": [
    {
     "name": "stdout",
     "output_type": "stream",
     "text": [
      "---------------------------------\n",
      "---------------------------------\n",
      "[2 2 3 ... 1 2 2]\n",
      "accuracy = 0.7504860661049902\n",
      "f1 score = 0.7240386866217142\n",
      "precision = 0.7250367429255687\n",
      "recall =  0.7248969433144582\n",
      "---------------------------------\n",
      "---------------------------------\n",
      "[2 2 3 ... 1 2 2]\n",
      "accuracy = 0.7550226830848995\n",
      "f1 score = 0.7281256596388667\n",
      "precision = 0.7303344609967625\n",
      "recall =  0.7279590605498037\n",
      "---------------------------------\n",
      "---------------------------------\n",
      "[2 2 3 ... 1 2 2]\n",
      "accuracy = 0.7556707712248866\n",
      "f1 score = 0.7306451975386041\n",
      "precision = 0.7328815228180737\n",
      "recall =  0.7300531724000132\n",
      "---------------------------------\n",
      "---------------------------------\n",
      "[2 1 3 ... 1 2 2]\n",
      "accuracy = 0.7504860661049902\n",
      "f1 score = 0.7226495050110313\n",
      "precision = 0.7249222555779524\n",
      "recall =  0.7229079735321333\n",
      "---------------------------------\n",
      "---------------------------------\n",
      "[2 2 3 ... 1 2 2]\n",
      "accuracy = 0.7537265068049255\n",
      "f1 score = 0.7284082030686018\n",
      "precision = 0.7301634187599363\n",
      "recall =  0.7285004840026925\n",
      "---------------------------------\n",
      "---------------------------------\n",
      "[3 2 3 ... 1 2 2]\n",
      "accuracy = 0.7517822423849644\n",
      "f1 score = 0.7232880949485768\n",
      "precision = 0.7262654484732555\n",
      "recall =  0.7222439489963977\n",
      "---------------------------------\n",
      "---------------------------------\n",
      "[3 2 3 ... 1 2 2]\n",
      "accuracy = 0.7491898898250162\n",
      "f1 score = 0.7228353695516052\n",
      "precision = 0.7223322799032195\n",
      "recall =  0.7248963613472927\n",
      "---------------------------------\n",
      "---------------------------------\n",
      "[3 2 3 ... 1 2 2]\n",
      "accuracy = 0.7543745949449125\n",
      "f1 score = 0.7255968715521445\n",
      "precision = 0.7298790377723047\n",
      "recall =  0.7249906400280897\n",
      "---------------------------------\n",
      "---------------------------------\n",
      "[3 2 3 ... 1 2 2]\n",
      "accuracy = 0.7427090084251459\n",
      "f1 score = 0.7116768329785774\n",
      "precision = 0.7142640046249573\n",
      "recall =  0.7115997695410025\n",
      "---------------------------------\n",
      "---------------------------------\n",
      "[2 2 3 ... 1 2 2]\n",
      "accuracy = 0.7550226830848995\n",
      "f1 score = 0.7287021262600929\n",
      "precision = 0.7305286580029712\n",
      "recall =  0.7291656724727592\n",
      "---------------------------------\n",
      "---------------------------------\n",
      "---------------------------------\n",
      "---------------------------------\n",
      "average = 0.751847051198963\n"
     ]
    },
    {
     "data": {
      "image/png": "[encoded data removed]",
      "text/plain": [
       "<Figure size 640x480 with 2 Axes>"
      ]
     },
     "metadata": {},
     "output_type": "display_data"
    }
   ],
   "source": [
    "#X = merged_data2[['veincle length','veincle weight','axles number','veincle speed','Lighting condition']]\n",
    "y = merged_data2['DrivingStyle']\n",
    "x_train,x_test,y_train,y_test=train_test_split(X,y,test_size=0.12,random_state=123)\n",
    "avgList = []\n",
    "for x in range(10):\n",
    "  clf2=RandomForestClassifier(n_estimators=150,max_depth=100,min_samples_split=3)\n",
    "  clf2.fit(x_train,y_train)\n",
    "  y_pred = clf2.predict(x_test)\n",
    "  print(\"---------------------------------\")\n",
    "  print(\"---------------------------------\")\n",
    "  print(y_pred)\n",
    "  print(\"accuracy =\" ,met.accuracy_score(y_test,y_pred))\n",
    "  print(\"f1 score =\" ,met.f1_score(y_test,y_pred,average='macro'))\n",
    "  print(\"precision =\",met.precision_score(y_test,y_pred,average='macro'))\n",
    "  print(\"recall = \",met.recall_score(y_test,y_pred,average='macro'))\n",
    "  avgList.append(met.accuracy_score(y_test,y_pred))\n",
    "print(\"---------------------------------\")\n",
    "print(\"---------------------------------\")\n",
    "print(\"---------------------------------\")\n",
    "print(\"---------------------------------\")\n",
    "print(\"average =\" ,sum(avgList)/len(avgList))\n",
    "from sklearn.metrics import ConfusionMatrixDisplay\n",
    "import matplotlib.pyplot as plt\n",
    "ConfusionMatrixDisplay.from_predictions(y_test, y_pred)\n",
    "plt.show()"
   ]
  },
  {
   "cell_type": "code",
   "execution_count": 66,
   "id": "65aa543f",
   "metadata": {
    "execution": {
     "iopub.execute_input": "2022-12-28T17:17:16.920805Z",
     "iopub.status.busy": "2022-12-28T17:17:16.920162Z",
     "iopub.status.idle": "2022-12-28T17:17:52.266917Z",
     "shell.execute_reply": "2022-12-28T17:17:52.265788Z"
    },
    "id": "VAK-2Szh_2fu",
    "papermill": {
     "duration": 35.375328,
     "end_time": "2022-12-28T17:17:52.269548",
     "exception": false,
     "start_time": "2022-12-28T17:17:16.894220",
     "status": "completed"
    },
    "tags": []
   },
   "outputs": [],
   "source": [
    "from sklearn.feature_selection import SequentialFeatureSelector\n",
    "from sklearn.neighbors import KNeighborsClassifier\n",
    "X = merged_data2.drop('DrivingStyle' , axis = 1)\n",
    "knn = KNeighborsClassifier(n_neighbors=3)\n",
    "sfs = SequentialFeatureSelector(knn, n_features_to_select=7)\n",
    "fit6 = sfs.fit(X, y)\n",
    "filter = sfs.get_support(True)\n"
   ]
  },
  {
   "cell_type": "code",
   "execution_count": 67,
   "id": "262a0ecb",
   "metadata": {
    "execution": {
     "iopub.execute_input": "2022-12-28T17:17:52.321285Z",
     "iopub.status.busy": "2022-12-28T17:17:52.320340Z",
     "iopub.status.idle": "2022-12-28T17:17:52.331004Z",
     "shell.execute_reply": "2022-12-28T17:17:52.330129Z"
    },
    "id": "TZOVpfpmIxAV",
    "outputId": "dececbc4-5fb4-4096-ff0e-fdd308989809",
    "papermill": {
     "duration": 0.038256,
     "end_time": "2022-12-28T17:17:52.332900",
     "exception": false,
     "start_time": "2022-12-28T17:17:52.294644",
     "status": "completed"
    },
    "tags": []
   },
   "outputs": [
    {
     "name": "stdout",
     "output_type": "stream",
     "text": [
      "All features:\n",
      "['veincle length' 'veincle weight' 'axles number'\n",
      " 'perceding veincle time-gap' 'Lane of the road' 'veincle speed'\n",
      " 'perceding veincle speed' 'perceding veincle weight'\n",
      " 'perceding veincle length' 'road condition' 'Air temprture'\n",
      " 'perciption type' 'perciption intensity' 'relatve humadity'\n",
      " 'wind direction' 'wind speed' 'Lighting condition']\n",
      "[ 2  4  5  9 12 15 16]\n",
      "Selected best 4:\n",
      "Index(['axles number', 'perceding veincle time-gap', 'Lane of the road',\n",
      "       'perceding veincle length', 'perciption type', 'wind direction',\n",
      "       'wind speed'],\n",
      "      dtype='object')\n",
      "SequentialFeatureSelector(estimator=KNeighborsClassifier(n_neighbors=3),\n",
      "                          n_features_to_select=7)\n"
     ]
    }
   ],
   "source": [
    "print(\"All features:\")\n",
    "print(features)\n",
    "print(filter)\n",
    "print(\"Selected best 4:\")\n",
    "print(merged_data2.iloc[:,filter].columns)\n",
    "print(fit6)"
   ]
  },
  {
   "cell_type": "code",
   "execution_count": 68,
   "id": "7fe878ab",
   "metadata": {
    "execution": {
     "iopub.execute_input": "2022-12-28T17:17:52.385124Z",
     "iopub.status.busy": "2022-12-28T17:17:52.384417Z",
     "iopub.status.idle": "2022-12-28T17:18:21.394612Z",
     "shell.execute_reply": "2022-12-28T17:18:21.393551Z"
    },
    "id": "sGXEmbOCDyqS",
    "outputId": "da4274ca-7cd9-4622-cdd8-d4bf60f99b47",
    "papermill": {
     "duration": 29.038925,
     "end_time": "2022-12-28T17:18:21.396464",
     "exception": false,
     "start_time": "2022-12-28T17:17:52.357539",
     "status": "completed"
    },
    "tags": []
   },
   "outputs": [
    {
     "name": "stdout",
     "output_type": "stream",
     "text": [
      "---------------------------------\n",
      "---------------------------------\n",
      "[3 1 3 ... 2 2 3]\n",
      "accuracy = 0.49254698639014904\n",
      "f1 score = 0.4244524667719491\n",
      "precision = 0.44894649941753145\n",
      "recall =  0.42462380672482464\n",
      "---------------------------------\n",
      "---------------------------------\n",
      "[3 1 3 ... 2 2 3]\n",
      "accuracy = 0.48865845755022685\n",
      "f1 score = 0.422322054684423\n",
      "precision = 0.4467693040423885\n",
      "recall =  0.42302184510749896\n",
      "---------------------------------\n",
      "---------------------------------\n",
      "[3 1 3 ... 2 2 3]\n",
      "accuracy = 0.5009721322099806\n",
      "f1 score = 0.43413920323858024\n",
      "precision = 0.46185826200721936\n",
      "recall =  0.4345288878801458\n",
      "---------------------------------\n",
      "---------------------------------\n",
      "[3 2 3 ... 1 2 3]\n",
      "accuracy = 0.4938431626701231\n",
      "f1 score = 0.4263113981642128\n",
      "precision = 0.4511052804148037\n",
      "recall =  0.4273957163336844\n",
      "---------------------------------\n",
      "---------------------------------\n",
      "[3 1 3 ... 2 2 3]\n",
      "accuracy = 0.49125081011017496\n",
      "f1 score = 0.4261085500596631\n",
      "precision = 0.4526305457400864\n",
      "recall =  0.4254055826170288\n",
      "---------------------------------\n",
      "---------------------------------\n",
      "[3 1 3 ... 2 2 3]\n",
      "accuracy = 0.49967595593000647\n",
      "f1 score = 0.43479195719567043\n",
      "precision = 0.4620936487560365\n",
      "recall =  0.43503966106232284\n",
      "---------------------------------\n",
      "---------------------------------\n",
      "[3 1 3 ... 2 2 3]\n",
      "accuracy = 0.48282566429034346\n",
      "f1 score = 0.41451862160030856\n",
      "precision = 0.43721984254142643\n",
      "recall =  0.4169732663683115\n",
      "---------------------------------\n",
      "---------------------------------\n",
      "[3 1 3 ... 1 2 3]\n",
      "accuracy = 0.4951393389500972\n",
      "f1 score = 0.425976561252551\n",
      "precision = 0.44924008863214243\n",
      "recall =  0.4279383037209041\n",
      "---------------------------------\n",
      "---------------------------------\n",
      "[3 1 3 ... 2 2 3]\n",
      "accuracy = 0.49773169151004537\n",
      "f1 score = 0.4341657951776183\n",
      "precision = 0.45855433828947795\n",
      "recall =  0.43381927591645275\n",
      "---------------------------------\n",
      "---------------------------------\n",
      "[3 1 3 ... 2 2 3]\n",
      "accuracy = 0.5022683084899546\n",
      "f1 score = 0.4300907683573923\n",
      "precision = 0.458157284577518\n",
      "recall =  0.4321775465428241\n",
      "---------------------------------\n",
      "---------------------------------\n",
      "---------------------------------\n",
      "---------------------------------\n",
      "average = 0.4944912508101102\n"
     ]
    },
    {
     "data": {
      "image/png": "[encoded data removed]",
      "text/plain": [
       "<Figure size 640x480 with 2 Axes>"
      ]
     },
     "metadata": {},
     "output_type": "display_data"
    }
   ],
   "source": [
    "X = merged_data2[['axles number', 'perceding veincle time-gap', 'Lane of the road',\n",
    "       'perceding veincle length', 'perciption type', 'wind direction',\n",
    "       'wind speed']]\n",
    "y = merged_data2['DrivingStyle']\n",
    "x_train,x_test,y_train,y_test=train_test_split(X,y,test_size=0.12,random_state=123)\n",
    "avgList = []\n",
    "for x in range(10):\n",
    "  clf2=RandomForestClassifier(n_estimators=150,max_depth=100,min_samples_split=3)\n",
    "  clf2.fit(x_train,y_train)\n",
    "  y_pred = clf2.predict(x_test)\n",
    "  print(\"---------------------------------\")\n",
    "  print(\"---------------------------------\")\n",
    "  print(y_pred)\n",
    "  print(\"accuracy =\" ,met.accuracy_score(y_test,y_pred))\n",
    "  print(\"f1 score =\" ,met.f1_score(y_test,y_pred,average='macro'))\n",
    "  print(\"precision =\",met.precision_score(y_test,y_pred,average='macro'))\n",
    "  print(\"recall = \",met.recall_score(y_test,y_pred,average='macro'))\n",
    "  avgList.append(met.accuracy_score(y_test,y_pred))\n",
    "print(\"---------------------------------\")\n",
    "print(\"---------------------------------\")\n",
    "print(\"---------------------------------\")\n",
    "print(\"---------------------------------\")\n",
    "print(\"average =\" ,sum(avgList)/len(avgList))\n",
    "from sklearn.metrics import ConfusionMatrixDisplay\n",
    "import matplotlib.pyplot as plt\n",
    "ConfusionMatrixDisplay.from_predictions(y_test, y_pred)\n",
    "plt.show()"
   ]
  },
  {
   "cell_type": "code",
   "execution_count": 69,
   "id": "3a787b94",
   "metadata": {
    "execution": {
     "iopub.execute_input": "2022-12-28T17:18:21.447878Z",
     "iopub.status.busy": "2022-12-28T17:18:21.447090Z",
     "iopub.status.idle": "2022-12-28T17:18:21.525190Z",
     "shell.execute_reply": "2022-12-28T17:18:21.524376Z"
    },
    "id": "kKticwDVLDSk",
    "outputId": "a3fd692c-9e24-4e0b-9104-52f6c051d348",
    "papermill": {
     "duration": 0.105607,
     "end_time": "2022-12-28T17:18:21.527201",
     "exception": false,
     "start_time": "2022-12-28T17:18:21.421594",
     "status": "completed"
    },
    "tags": []
   },
   "outputs": [
    {
     "data": {
      "text/html": [
       "<div>\n",
       "<style scoped>\n",
       "    .dataframe tbody tr th:only-of-type {\n",
       "        vertical-align: middle;\n",
       "    }\n",
       "\n",
       "    .dataframe tbody tr th {\n",
       "        vertical-align: top;\n",
       "    }\n",
       "\n",
       "    .dataframe thead th {\n",
       "        text-align: right;\n",
       "    }\n",
       "</style>\n",
       "<table border=\"1\" class=\"dataframe\">\n",
       "  <thead>\n",
       "    <tr style=\"text-align: right;\">\n",
       "      <th></th>\n",
       "      <th>PC1</th>\n",
       "      <th>PC2</th>\n",
       "      <th>DrivingStyle</th>\n",
       "    </tr>\n",
       "  </thead>\n",
       "  <tbody>\n",
       "    <tr>\n",
       "      <th>0</th>\n",
       "      <td>0.005121</td>\n",
       "      <td>-0.181290</td>\n",
       "      <td>2.0</td>\n",
       "    </tr>\n",
       "    <tr>\n",
       "      <th>1</th>\n",
       "      <td>2.294377</td>\n",
       "      <td>0.005865</td>\n",
       "      <td>2.0</td>\n",
       "    </tr>\n",
       "    <tr>\n",
       "      <th>2</th>\n",
       "      <td>-0.708166</td>\n",
       "      <td>2.855176</td>\n",
       "      <td>2.0</td>\n",
       "    </tr>\n",
       "    <tr>\n",
       "      <th>3</th>\n",
       "      <td>0.880399</td>\n",
       "      <td>0.288469</td>\n",
       "      <td>2.0</td>\n",
       "    </tr>\n",
       "    <tr>\n",
       "      <th>4</th>\n",
       "      <td>-0.855739</td>\n",
       "      <td>0.354662</td>\n",
       "      <td>2.0</td>\n",
       "    </tr>\n",
       "  </tbody>\n",
       "</table>\n",
       "</div>"
      ],
      "text/plain": [
       "        PC1       PC2  DrivingStyle\n",
       "0  0.005121 -0.181290           2.0\n",
       "1  2.294377  0.005865           2.0\n",
       "2 -0.708166  2.855176           2.0\n",
       "3  0.880399  0.288469           2.0\n",
       "4 -0.855739  0.354662           2.0"
      ]
     },
     "execution_count": 69,
     "metadata": {},
     "output_type": "execute_result"
    }
   ],
   "source": [
    "X = merged_data2.drop('DrivingStyle' , axis = 1)\n",
    "scaler = StandardScaler()\n",
    "scaler.fit(X)\n",
    "scaled_data = scaler.transform(X)\n",
    "from sklearn.decomposition import PCA\n",
    "pca = PCA(n_components=2)\n",
    "pca.fit(scaled_data)\n",
    "principalComponents = pca.transform(scaled_data)\n",
    "principalDataframe = pd.DataFrame(data = principalComponents, columns = ['PC1', 'PC2'])\n",
    "newDataframe = pd.concat([principalDataframe, y],axis = 1)\n",
    "newDataframe.head(5)"
   ]
  },
  {
   "cell_type": "code",
   "execution_count": 70,
   "id": "9edfb01d",
   "metadata": {
    "execution": {
     "iopub.execute_input": "2022-12-28T17:18:21.627665Z",
     "iopub.status.busy": "2022-12-28T17:18:21.627310Z",
     "iopub.status.idle": "2022-12-28T17:18:21.637885Z",
     "shell.execute_reply": "2022-12-28T17:18:21.636472Z"
    },
    "id": "NqjpKHBtQClA",
    "outputId": "ba282224-e424-4ec6-fcfd-86141b3215a5",
    "papermill": {
     "duration": 0.053956,
     "end_time": "2022-12-28T17:18:21.640824",
     "exception": false,
     "start_time": "2022-12-28T17:18:21.586868",
     "status": "completed"
    },
    "tags": []
   },
   "outputs": [
    {
     "data": {
      "text/html": [
       "<div>\n",
       "<style scoped>\n",
       "    .dataframe tbody tr th:only-of-type {\n",
       "        vertical-align: middle;\n",
       "    }\n",
       "\n",
       "    .dataframe tbody tr th {\n",
       "        vertical-align: top;\n",
       "    }\n",
       "\n",
       "    .dataframe thead th {\n",
       "        text-align: right;\n",
       "    }\n",
       "</style>\n",
       "<table border=\"1\" class=\"dataframe\">\n",
       "  <thead>\n",
       "    <tr style=\"text-align: right;\">\n",
       "      <th></th>\n",
       "      <th>PC1</th>\n",
       "      <th>PC2</th>\n",
       "    </tr>\n",
       "  </thead>\n",
       "  <tbody>\n",
       "    <tr>\n",
       "      <th>0</th>\n",
       "      <td>0.005121</td>\n",
       "      <td>-0.181290</td>\n",
       "    </tr>\n",
       "    <tr>\n",
       "      <th>1</th>\n",
       "      <td>2.294377</td>\n",
       "      <td>0.005865</td>\n",
       "    </tr>\n",
       "    <tr>\n",
       "      <th>2</th>\n",
       "      <td>-0.708166</td>\n",
       "      <td>2.855176</td>\n",
       "    </tr>\n",
       "    <tr>\n",
       "      <th>3</th>\n",
       "      <td>0.880399</td>\n",
       "      <td>0.288469</td>\n",
       "    </tr>\n",
       "    <tr>\n",
       "      <th>4</th>\n",
       "      <td>-0.855739</td>\n",
       "      <td>0.354662</td>\n",
       "    </tr>\n",
       "    <tr>\n",
       "      <th>...</th>\n",
       "      <td>...</td>\n",
       "      <td>...</td>\n",
       "    </tr>\n",
       "    <tr>\n",
       "      <th>12852</th>\n",
       "      <td>-1.262327</td>\n",
       "      <td>3.464852</td>\n",
       "    </tr>\n",
       "    <tr>\n",
       "      <th>12853</th>\n",
       "      <td>-1.549872</td>\n",
       "      <td>4.124809</td>\n",
       "    </tr>\n",
       "    <tr>\n",
       "      <th>12854</th>\n",
       "      <td>2.271723</td>\n",
       "      <td>3.734553</td>\n",
       "    </tr>\n",
       "    <tr>\n",
       "      <th>12855</th>\n",
       "      <td>-0.972265</td>\n",
       "      <td>2.499078</td>\n",
       "    </tr>\n",
       "    <tr>\n",
       "      <th>12856</th>\n",
       "      <td>1.651702</td>\n",
       "      <td>7.579111</td>\n",
       "    </tr>\n",
       "  </tbody>\n",
       "</table>\n",
       "<p>12857 rows × 2 columns</p>\n",
       "</div>"
      ],
      "text/plain": [
       "            PC1       PC2\n",
       "0      0.005121 -0.181290\n",
       "1      2.294377  0.005865\n",
       "2     -0.708166  2.855176\n",
       "3      0.880399  0.288469\n",
       "4     -0.855739  0.354662\n",
       "...         ...       ...\n",
       "12852 -1.262327  3.464852\n",
       "12853 -1.549872  4.124809\n",
       "12854  2.271723  3.734553\n",
       "12855 -0.972265  2.499078\n",
       "12856  1.651702  7.579111\n",
       "\n",
       "[12857 rows x 2 columns]"
      ]
     },
     "execution_count": 70,
     "metadata": {},
     "output_type": "execute_result"
    }
   ],
   "source": [
    "principalDataframe"
   ]
  },
  {
   "cell_type": "code",
   "execution_count": 71,
   "id": "0e1914aa",
   "metadata": {
    "execution": {
     "iopub.execute_input": "2022-12-28T17:18:21.696273Z",
     "iopub.status.busy": "2022-12-28T17:18:21.695903Z",
     "iopub.status.idle": "2022-12-28T17:18:48.510989Z",
     "shell.execute_reply": "2022-12-28T17:18:48.509713Z"
    },
    "id": "9v7H1UbyLTrt",
    "outputId": "d1dacb15-d8e9-4776-f978-dfb3c7afd041",
    "papermill": {
     "duration": 26.845455,
     "end_time": "2022-12-28T17:18:48.513229",
     "exception": false,
     "start_time": "2022-12-28T17:18:21.667774",
     "status": "completed"
    },
    "tags": []
   },
   "outputs": [
    {
     "name": "stdout",
     "output_type": "stream",
     "text": [
      "---------------------------------\n",
      "---------------------------------\n",
      "[3 1 2 ... 2 1 2]\n",
      "accuracy = 0.4867141931302657\n",
      "f1 score = 0.44362097999039607\n",
      "precision = 0.45391210785351466\n",
      "recall =  0.43962478636955304\n",
      "---------------------------------\n",
      "---------------------------------\n",
      "[3 1 3 ... 1 2 2]\n",
      "accuracy = 0.4795852235904083\n",
      "f1 score = 0.43648512203988016\n",
      "precision = 0.4459127287750639\n",
      "recall =  0.4327932678038305\n",
      "---------------------------------\n",
      "---------------------------------\n",
      "[3 1 3 ... 1 1 2]\n",
      "accuracy = 0.48412184057031754\n",
      "f1 score = 0.4391352295015054\n",
      "precision = 0.45031333681485347\n",
      "recall =  0.43552308178772553\n",
      "---------------------------------\n",
      "---------------------------------\n",
      "[3 1 3 ... 1 1 2]\n",
      "accuracy = 0.48217757615035645\n",
      "f1 score = 0.4374936431062379\n",
      "precision = 0.4468441014765627\n",
      "recall =  0.43424139610043205\n",
      "---------------------------------\n",
      "---------------------------------\n",
      "[3 1 3 ... 2 1 2]\n",
      "accuracy = 0.48217757615035645\n",
      "f1 score = 0.4370226397485864\n",
      "precision = 0.44711306519976174\n",
      "recall =  0.4334283879703507\n",
      "---------------------------------\n",
      "---------------------------------\n",
      "[3 1 3 ... 1 1 2]\n",
      "accuracy = 0.4860661049902787\n",
      "f1 score = 0.44167452987846706\n",
      "precision = 0.4520581198986771\n",
      "recall =  0.4378016772293707\n",
      "---------------------------------\n",
      "---------------------------------\n",
      "[3 1 3 ... 1 1 2]\n",
      "accuracy = 0.474400518470512\n",
      "f1 score = 0.42953025501427455\n",
      "precision = 0.4402238478922024\n",
      "recall =  0.4257964705631308\n",
      "---------------------------------\n",
      "---------------------------------\n",
      "[3 1 3 ... 2 1 2]\n",
      "accuracy = 0.48152948801036943\n",
      "f1 score = 0.4386200246500025\n",
      "precision = 0.4476200898990655\n",
      "recall =  0.4352509151433676\n",
      "---------------------------------\n",
      "---------------------------------\n",
      "[3 1 3 ... 1 1 2]\n",
      "accuracy = 0.48088139987038236\n",
      "f1 score = 0.43946419844203427\n",
      "precision = 0.4492693764568765\n",
      "recall =  0.43544742605622194\n",
      "---------------------------------\n",
      "---------------------------------\n",
      "[3 1 3 ... 1 1 2]\n",
      "accuracy = 0.48023331173039535\n",
      "f1 score = 0.43948981673162985\n",
      "precision = 0.4487167768457929\n",
      "recall =  0.43558263642765277\n",
      "---------------------------------\n",
      "---------------------------------\n",
      "---------------------------------\n",
      "---------------------------------\n",
      "average = 0.4817887232663643\n"
     ]
    },
    {
     "data": {
      "image/png": "[encoded data removed]",
      "text/plain": [
       "<Figure size 640x480 with 2 Axes>"
      ]
     },
     "metadata": {},
     "output_type": "display_data"
    }
   ],
   "source": [
    "X = principalDataframe\n",
    "x_train,x_test,y_train,y_test=train_test_split(X,y,test_size=0.12,random_state=123)\n",
    "avgList = []\n",
    "for x in range(10):\n",
    "  clf2=RandomForestClassifier(n_estimators=150,max_depth=100,min_samples_split=3)\n",
    "  clf2.fit(x_train,y_train)\n",
    "  y_pred = clf2.predict(x_test)\n",
    "  print(\"---------------------------------\")\n",
    "  print(\"---------------------------------\")\n",
    "  print(y_pred)\n",
    "  print(\"accuracy =\" ,met.accuracy_score(y_test,y_pred))\n",
    "  print(\"f1 score =\" ,met.f1_score(y_test,y_pred,average='macro'))\n",
    "  print(\"precision =\",met.precision_score(y_test,y_pred,average='macro'))\n",
    "  print(\"recall = \",met.recall_score(y_test,y_pred,average='macro'))\n",
    "  avgList.append(met.accuracy_score(y_test,y_pred))\n",
    "print(\"---------------------------------\")\n",
    "print(\"---------------------------------\")\n",
    "print(\"---------------------------------\")\n",
    "print(\"---------------------------------\")\n",
    "print(\"average =\" ,sum(avgList)/len(avgList))\n",
    "from sklearn.metrics import ConfusionMatrixDisplay\n",
    "import matplotlib.pyplot as plt\n",
    "ConfusionMatrixDisplay.from_predictions(y_test, y_pred)\n",
    "plt.show()"
   ]
  },
  {
   "cell_type": "markdown",
   "id": "27bbec03",
   "metadata": {
    "id": "Z2s9aRyEQSVl",
    "papermill": {
     "duration": 0.026157,
     "end_time": "2022-12-28T17:18:48.566152",
     "exception": false,
     "start_time": "2022-12-28T17:18:48.539995",
     "status": "completed"
    },
    "tags": []
   },
   "source": [
    "# **Oversampling and Undersampling**"
   ]
  },
  {
   "cell_type": "code",
   "execution_count": 72,
   "id": "e1cc6c7c",
   "metadata": {
    "execution": {
     "iopub.execute_input": "2022-12-28T17:18:48.621970Z",
     "iopub.status.busy": "2022-12-28T17:18:48.620887Z",
     "iopub.status.idle": "2022-12-28T17:18:48.626252Z",
     "shell.execute_reply": "2022-12-28T17:18:48.625612Z"
    },
    "id": "feqgVsL3XDR5",
    "papermill": {
     "duration": 0.035812,
     "end_time": "2022-12-28T17:18:48.628546",
     "exception": false,
     "start_time": "2022-12-28T17:18:48.592734",
     "status": "completed"
    },
    "tags": []
   },
   "outputs": [],
   "source": [
    "from collections import Counter\n",
    "X = merged_data2.drop(['DrivingStyle'] , axis = 1)"
   ]
  },
  {
   "cell_type": "code",
   "execution_count": 73,
   "id": "ac363dcc",
   "metadata": {
    "execution": {
     "iopub.execute_input": "2022-12-28T17:18:48.683570Z",
     "iopub.status.busy": "2022-12-28T17:18:48.683200Z",
     "iopub.status.idle": "2022-12-28T17:18:48.822788Z",
     "shell.execute_reply": "2022-12-28T17:18:48.821049Z"
    },
    "id": "mf3g0xFASA6I",
    "outputId": "1123f09a-ae8f-44d3-8250-03d6f07349ee",
    "papermill": {
     "duration": 0.170841,
     "end_time": "2022-12-28T17:18:48.825830",
     "exception": false,
     "start_time": "2022-12-28T17:18:48.654989",
     "status": "completed"
    },
    "tags": []
   },
   "outputs": [
    {
     "name": "stdout",
     "output_type": "stream",
     "text": [
      "[(1, 6346), (2, 6346), (3, 6346)]\n",
      "[('Air temprture', 1), ('Lane of the road', 1), ('Lighting condition', 1), ('axles number', 1), ('perceding veincle length', 1), ('perceding veincle speed', 1), ('perceding veincle time-gap', 1), ('perceding veincle weight', 1), ('perciption intensity', 1), ('perciption type', 1), ('relatve humadity', 1), ('road condition', 1), ('veincle length', 1), ('veincle speed', 1), ('veincle weight', 1), ('wind direction', 1), ('wind speed', 1)]\n"
     ]
    }
   ],
   "source": [
    "from imblearn.over_sampling import RandomOverSampler\n",
    "ros = RandomOverSampler(random_state=0)\n",
    "X_resampled, y_resampled = ros.fit_resample(X, y)\n",
    "print(sorted(Counter(y_resampled).items()))\n",
    "print(sorted(Counter(X_resampled).items()))"
   ]
  },
  {
   "cell_type": "code",
   "execution_count": 74,
   "id": "91088876",
   "metadata": {
    "execution": {
     "iopub.execute_input": "2022-12-28T17:18:48.881318Z",
     "iopub.status.busy": "2022-12-28T17:18:48.880965Z",
     "iopub.status.idle": "2022-12-28T17:18:48.964890Z",
     "shell.execute_reply": "2022-12-28T17:18:48.963573Z"
    },
    "id": "9hOOUFJOSax1",
    "outputId": "bec74769-2f07-4789-e51c-a9696f9bd4f3",
    "papermill": {
     "duration": 0.114499,
     "end_time": "2022-12-28T17:18:48.967435",
     "exception": false,
     "start_time": "2022-12-28T17:18:48.852936",
     "status": "completed"
    },
    "tags": []
   },
   "outputs": [
    {
     "name": "stdout",
     "output_type": "stream",
     "text": [
      "dict_items([(2, 6346), (1, 2741), (3, 3770)])\n",
      "dict_items([(2, 6346), (1, 6346), (3, 6346)])\n",
      "2    6346\n",
      "3    3770\n",
      "1    2741\n",
      "Name: DrivingStyle, dtype: int64\n"
     ]
    },
    {
     "data": {
      "text/plain": [
       "([<matplotlib.patches.Wedge at 0x7f2f437e2b20>,\n",
       "  <matplotlib.patches.Wedge at 0x7f2f437e2ac0>,\n",
       "  <matplotlib.patches.Wedge at 0x7f2f43793640>],\n",
       " [Text(0.02217315292679917, 1.0997765006078666, ''),\n",
       "  Text(-0.7001221014856635, -0.8484273940717018, ''),\n",
       "  Text(0.8623676270282761, -0.6828777898376988, '')])"
      ]
     },
     "execution_count": 74,
     "metadata": {},
     "output_type": "execute_result"
    },
    {
     "data": {
      "image/png": "[encoded data removed]",
      "text/plain": [
       "<Figure size 640x480 with 1 Axes>"
      ]
     },
     "metadata": {},
     "output_type": "display_data"
    }
   ],
   "source": [
    "z = Counter(y).items()\n",
    "v = Counter(y_resampled).items()\n",
    "u = y.value_counts()\n",
    "print(z)\n",
    "print(v)\n",
    "print(u)\n",
    "d = merged_data2.DrivingStyle.values\n",
    "plt.pie(u)"
   ]
  },
  {
   "cell_type": "code",
   "execution_count": 75,
   "id": "e0c0a220",
   "metadata": {
    "execution": {
     "iopub.execute_input": "2022-12-28T17:18:49.039039Z",
     "iopub.status.busy": "2022-12-28T17:18:49.038676Z",
     "iopub.status.idle": "2022-12-28T17:19:59.252296Z",
     "shell.execute_reply": "2022-12-28T17:19:59.251547Z"
    },
    "id": "nPA-tasNRMg2",
    "outputId": "b3320b08-889a-4c3b-ea5b-7e4aef2499e3",
    "papermill": {
     "duration": 70.277472,
     "end_time": "2022-12-28T17:19:59.280161",
     "exception": false,
     "start_time": "2022-12-28T17:18:49.002689",
     "status": "completed"
    },
    "tags": []
   },
   "outputs": [
    {
     "name": "stdout",
     "output_type": "stream",
     "text": [
      "---------------------------------\n",
      "---------------------------------\n",
      "[2 2 1 ... 3 3 2]\n",
      "accuracy = 0.8771008403361344\n",
      "f1 score = 0.8747254001761121\n",
      "precision = 0.8827777768017367\n",
      "recall =  0.8774724124364713\n",
      "---------------------------------\n",
      "---------------------------------\n",
      "[2 1 1 ... 3 3 2]\n",
      "accuracy = 0.875\n",
      "f1 score = 0.8726928680674768\n",
      "precision = 0.8794029547947618\n",
      "recall =  0.875221476362519\n",
      "---------------------------------\n",
      "---------------------------------\n",
      "[2 2 1 ... 3 3 2]\n",
      "accuracy = 0.8802521008403361\n",
      "f1 score = 0.8779570181499999\n",
      "precision = 0.8854009800417945\n",
      "recall =  0.8805833069389494\n",
      "---------------------------------\n",
      "---------------------------------\n",
      "[2 2 1 ... 3 3 2]\n",
      "accuracy = 0.8765756302521008\n",
      "f1 score = 0.8744154561337624\n",
      "precision = 0.8815547211666873\n",
      "recall =  0.8769252242627914\n",
      "---------------------------------\n",
      "---------------------------------\n",
      "[2 2 1 ... 3 3 2]\n",
      "accuracy = 0.8781512605042017\n",
      "f1 score = 0.875859795369823\n",
      "precision = 0.8830502230912233\n",
      "recall =  0.8784548842647802\n",
      "---------------------------------\n",
      "---------------------------------\n",
      "[2 2 1 ... 3 3 2]\n",
      "accuracy = 0.8786764705882353\n",
      "f1 score = 0.8766443760305652\n",
      "precision = 0.8838186086536387\n",
      "recall =  0.8789777870488318\n",
      "---------------------------------\n",
      "---------------------------------\n",
      "[2 2 1 ... 3 3 2]\n",
      "accuracy = 0.8839285714285714\n",
      "f1 score = 0.8818361360539678\n",
      "precision = 0.8891702065090937\n",
      "recall =  0.8842349348141797\n",
      "---------------------------------\n",
      "---------------------------------\n",
      "[2 2 1 ... 3 3 2]\n",
      "accuracy = 0.8771008403361344\n",
      "f1 score = 0.8749819756675432\n",
      "precision = 0.8827416348316385\n",
      "recall =  0.8774428226064769\n",
      "---------------------------------\n",
      "---------------------------------\n",
      "[2 2 1 ... 3 3 2]\n",
      "accuracy = 0.8755252100840336\n",
      "f1 score = 0.8733731251229185\n",
      "precision = 0.8809704489807982\n",
      "recall =  0.8758319982759929\n",
      "---------------------------------\n",
      "---------------------------------\n",
      "[2 2 1 ... 3 3 2]\n",
      "accuracy = 0.8734243697478992\n",
      "f1 score = 0.8713301959292257\n",
      "precision = 0.878427695503893\n",
      "recall =  0.8737267106308909\n",
      "---------------------------------\n",
      "---------------------------------\n",
      "---------------------------------\n",
      "---------------------------------\n",
      "average = 0.8775735294117647\n"
     ]
    },
    {
     "data": {
      "image/png": "[encoded data removed]",
      "text/plain": [
       "<Figure size 640x480 with 2 Axes>"
      ]
     },
     "metadata": {},
     "output_type": "display_data"
    }
   ],
   "source": [
    "x_train,x_test,y_train,y_test=train_test_split(X_resampled,y_resampled,test_size=0.1,random_state=123)\n",
    "avgList = []\n",
    "for x in range(10):\n",
    "  clf2=RandomForestClassifier(n_estimators=150,max_depth=100,min_samples_split=3)\n",
    "  clf2.fit(x_train,y_train)\n",
    "  y_pred = clf2.predict(x_test)\n",
    "  print(\"---------------------------------\")\n",
    "  print(\"---------------------------------\")\n",
    "  print(y_pred)\n",
    "  print(\"accuracy =\" ,met.accuracy_score(y_test,y_pred))\n",
    "  print(\"f1 score =\" ,met.f1_score(y_test,y_pred,average='macro'))\n",
    "  print(\"precision =\",met.precision_score(y_test,y_pred,average='macro'))\n",
    "  print(\"recall = \",met.recall_score(y_test,y_pred,average='macro'))\n",
    "  avgList.append(met.accuracy_score(y_test,y_pred))\n",
    "print(\"---------------------------------\")\n",
    "print(\"---------------------------------\")\n",
    "print(\"---------------------------------\")\n",
    "print(\"---------------------------------\")\n",
    "print(\"average =\" ,sum(avgList)/len(avgList))\n",
    "from sklearn.metrics import ConfusionMatrixDisplay\n",
    "import matplotlib.pyplot as plt\n",
    "ConfusionMatrixDisplay.from_predictions(y_test, y_pred)\n",
    "plt.show()"
   ]
  },
  {
   "cell_type": "code",
   "execution_count": 76,
   "id": "d7272c09",
   "metadata": {
    "execution": {
     "iopub.execute_input": "2022-12-28T17:19:59.339239Z",
     "iopub.status.busy": "2022-12-28T17:19:59.338768Z",
     "iopub.status.idle": "2022-12-28T17:19:59.701000Z",
     "shell.execute_reply": "2022-12-28T17:19:59.699629Z"
    },
    "id": "YYu9Q4cPXblT",
    "outputId": "9bf772d1-3ce8-45b1-a22c-c0d2664610b9",
    "papermill": {
     "duration": 0.39497,
     "end_time": "2022-12-28T17:19:59.703708",
     "exception": false,
     "start_time": "2022-12-28T17:19:59.308738",
     "status": "completed"
    },
    "tags": []
   },
   "outputs": [
    {
     "data": {
      "image/png": "[encoded data removed]",
      "text/plain": [
       "<Figure size 640x480 with 1 Axes>"
      ]
     },
     "metadata": {},
     "output_type": "display_data"
    }
   ],
   "source": [
    "importances = clf2.feature_importances_\n",
    "sorted_indices = np.argsort(importances)[::-1]\n",
    "feat_labels = X.columns[1:]\n",
    "\n",
    "plt.title('Feature Importance')\n",
    "plt.bar(range(x_train.shape[1]), importances[sorted_indices], align='center')\n",
    "plt.xticks(range(x_train.shape[1]), x_train.columns[sorted_indices], rotation=90)\n",
    "plt.tight_layout()\n",
    "plt.show()"
   ]
  },
  {
   "cell_type": "code",
   "execution_count": 77,
   "id": "a3a19aea",
   "metadata": {
    "execution": {
     "iopub.execute_input": "2022-12-28T17:19:59.763153Z",
     "iopub.status.busy": "2022-12-28T17:19:59.762368Z",
     "iopub.status.idle": "2022-12-28T17:20:30.377364Z",
     "shell.execute_reply": "2022-12-28T17:20:30.376450Z"
    },
    "id": "TesUQ-vRWM3s",
    "outputId": "9b7a0b19-cde2-4767-ce5d-344fce7bec4c",
    "papermill": {
     "duration": 30.67408,
     "end_time": "2022-12-28T17:20:30.406659",
     "exception": false,
     "start_time": "2022-12-28T17:19:59.732579",
     "status": "completed"
    },
    "tags": []
   },
   "outputs": [
    {
     "name": "stdout",
     "output_type": "stream",
     "text": [
      "Cross Validation Scores:  [0.81722689 0.80252101 0.78860294 0.90937746 1.        ]\n",
      "Average CV Score:  0.8635456605810173\n",
      "Number of CV Scores used in Average:  5\n"
     ]
    }
   ],
   "source": [
    "from sklearn.model_selection import KFold, cross_val_score\n",
    "k_folds = KFold(n_splits = 5)\n",
    "scores = cross_val_score(clf2, X_resampled, y_resampled, cv = k_folds)\n",
    "print(\"Cross Validation Scores: \", scores)\n",
    "print(\"Average CV Score: \", scores.mean())\n",
    "print(\"Number of CV Scores used in Average: \", len(scores))"
   ]
  },
  {
   "cell_type": "code",
   "execution_count": null,
   "id": "843545d0",
   "metadata": {},
   "outputs": [],
   "source": [
    "import pickle\n",
    "\n",
    "with open('model.pkl', 'wb') as f:\n",
    "    pickle.dump(clf2, f)"
   ]
  }
 ],
 "metadata": {
  "kernelspec": {
   "display_name": "myenv",
   "language": "python",
   "name": "myenv"
  },
  "language_info": {
   "codemirror_mode": {
    "name": "ipython",
    "version": 3
   },
   "file_extension": ".py",
   "mimetype": "text/x-python",
   "name": "python",
   "nbconvert_exporter": "python",
   "pygments_lexer": "ipython3",
   "version": "3.9.7"
  },
  "papermill": {
   "default_parameters": {},
   "duration": 355.935477,
   "end_time": "2022-12-28T17:20:31.256773",
   "environment_variables": {},
   "exception": null,
   "input_path": "__notebook__.ipynb",
   "output_path": "__notebook__.ipynb",
   "parameters": {},
   "start_time": "2022-12-28T17:14:35.321296",
   "version": "2.3.4"
  }
 },
 "nbformat": 4,
 "nbformat_minor": 5
}
