{
 "cells": [
  {
   "cell_type": "markdown",
   "id": "367ceca0",
   "metadata": {
    "id": "iMVHEIeIPIWO",
    "papermill": {
     "duration": 0.016797,
     "end_time": "2022-12-28T17:14:42.534075",
     "exception": false,
     "start_time": "2022-12-28T17:14:42.517278",
     "status": "completed"
    },
    "tags": []
   },
   "source": [
    "# **Importing the data and explore it and preprocess it as needed**"
   ]
  },
  {
   "cell_type": "code",
   "execution_count": 1,
   "id": "0909d1fe",
   "metadata": {
    "execution": {
     "iopub.execute_input": "2022-12-28T17:14:42.568348Z",
     "iopub.status.busy": "2022-12-28T17:14:42.567633Z",
     "iopub.status.idle": "2022-12-28T17:14:42.576387Z",
     "shell.execute_reply": "2022-12-28T17:14:42.575408Z"
    },
    "id": "xlkWpy8dj70q",
    "papermill": {
     "duration": 0.028618,
     "end_time": "2022-12-28T17:14:42.578812",
     "exception": false,
     "start_time": "2022-12-28T17:14:42.550194",
     "status": "completed"
    },
    "tags": []
   },
   "outputs": [],
   "source": [
    "import pandas as pd"
   ]
  },
  {
   "cell_type": "code",
   "execution_count": 2,
   "id": "e81ca813",
   "metadata": {
    "execution": {
     "iopub.execute_input": "2022-12-28T17:14:42.612762Z",
     "iopub.status.busy": "2022-12-28T17:14:42.612356Z",
     "iopub.status.idle": "2022-12-28T17:14:43.272513Z",
     "shell.execute_reply": "2022-12-28T17:14:43.271078Z"
    },
    "id": "8161Rj0_kNGu",
    "papermill": {
     "duration": 0.680237,
     "end_time": "2022-12-28T17:14:43.275043",
     "exception": false,
     "start_time": "2022-12-28T17:14:42.594806",
     "status": "completed"
    },
    "tags": []
   },
   "outputs": [],
   "source": [
    "data1 = pd.read_csv('Train_Data/Train.csv')\n",
    "data2 = pd.read_csv('Train_Data/Train_Vehicletravellingdata.csv')\n",
    "data3 = pd.read_csv('Train_Data/Train_WeatherData.csv')"
   ]
  },
  {
   "cell_type": "code",
   "execution_count": 3,
   "id": "e7f5565a",
   "metadata": {
    "execution": {
     "iopub.execute_input": "2022-12-28T17:14:43.308720Z",
     "iopub.status.busy": "2022-12-28T17:14:43.308349Z",
     "iopub.status.idle": "2022-12-28T17:14:43.316983Z",
     "shell.execute_reply": "2022-12-28T17:14:43.315936Z"
    },
    "id": "BkT6H8uykmNr",
    "outputId": "a56556f9-5320-4ebf-e683-a80d4080957e",
    "papermill": {
     "duration": 0.027468,
     "end_time": "2022-12-28T17:14:43.318730",
     "exception": false,
     "start_time": "2022-12-28T17:14:43.291262",
     "status": "completed"
    },
    "tags": []
   },
   "outputs": [
    {
     "data": {
      "text/plain": [
       "(12994, 5)"
      ]
     },
     "execution_count": 3,
     "metadata": {},
     "output_type": "execute_result"
    }
   ],
   "source": [
    "data1.shape"
   ]
  },
  {
   "cell_type": "code",
   "execution_count": 4,
   "id": "5ac2dbc8",
   "metadata": {
    "execution": {
     "iopub.execute_input": "2022-12-28T17:14:43.352963Z",
     "iopub.status.busy": "2022-12-28T17:14:43.352330Z",
     "iopub.status.idle": "2022-12-28T17:14:43.358315Z",
     "shell.execute_reply": "2022-12-28T17:14:43.357392Z"
    },
    "id": "1Cvopko6kvwT",
    "outputId": "fc371987-38b3-4440-e4f2-e60ae6fdd826",
    "papermill": {
     "duration": 0.025702,
     "end_time": "2022-12-28T17:14:43.360715",
     "exception": false,
     "start_time": "2022-12-28T17:14:43.335013",
     "status": "completed"
    },
    "tags": []
   },
   "outputs": [
    {
     "data": {
      "text/plain": [
       "(162566, 10)"
      ]
     },
     "execution_count": 4,
     "metadata": {},
     "output_type": "execute_result"
    }
   ],
   "source": [
    "data2.shape"
   ]
  },
  {
   "cell_type": "code",
   "execution_count": 5,
   "id": "e0088871",
   "metadata": {
    "execution": {
     "iopub.execute_input": "2022-12-28T17:14:43.395776Z",
     "iopub.status.busy": "2022-12-28T17:14:43.395365Z",
     "iopub.status.idle": "2022-12-28T17:14:43.401756Z",
     "shell.execute_reply": "2022-12-28T17:14:43.400706Z"
    },
    "id": "RofdDEupky8p",
    "outputId": "f548ca67-caa2-4a0b-c666-fd2bc77b0183",
    "papermill": {
     "duration": 0.027121,
     "end_time": "2022-12-28T17:14:43.404078",
     "exception": false,
     "start_time": "2022-12-28T17:14:43.376957",
     "status": "completed"
    },
    "tags": []
   },
   "outputs": [
    {
     "data": {
      "text/plain": [
       "(162566, 9)"
      ]
     },
     "execution_count": 5,
     "metadata": {},
     "output_type": "execute_result"
    }
   ],
   "source": [
    "data3.shape"
   ]
  },
  {
   "cell_type": "code",
   "execution_count": 6,
   "id": "257edf2d",
   "metadata": {
    "execution": {
     "iopub.execute_input": "2022-12-28T17:14:43.438756Z",
     "iopub.status.busy": "2022-12-28T17:14:43.438351Z",
     "iopub.status.idle": "2022-12-28T17:14:43.444934Z",
     "shell.execute_reply": "2022-12-28T17:14:43.443585Z"
    },
    "id": "_WjBD-gYmCCb",
    "outputId": "56276b85-b497-4b84-964c-1ae9e8b064c5",
    "papermill": {
     "duration": 0.026661,
     "end_time": "2022-12-28T17:14:43.447223",
     "exception": false,
     "start_time": "2022-12-28T17:14:43.420562",
     "status": "completed"
    },
    "tags": []
   },
   "outputs": [
    {
     "name": "stdout",
     "output_type": "stream",
     "text": [
      "Index(['ID', 'V2', 'V5', 'V6', 'DrivingStyle'], dtype='object')\n",
      "Index(['ID', 'V1', 'V3', 'V4', 'V7', 'V8', 'V9', 'V10', 'V11', 'V18'], dtype='object')\n",
      "Index(['ID', 'V1', 'V12', 'V13', 'V14', 'V15', 'V16', 'V17', 'V19'], dtype='object')\n"
     ]
    }
   ],
   "source": [
    "print(data1.columns)\n",
    "print(data2.columns)\n",
    "print(data3.columns)"
   ]
  },
  {
   "cell_type": "code",
   "execution_count": 7,
   "id": "d88134a5",
   "metadata": {
    "execution": {
     "iopub.execute_input": "2022-12-28T17:14:43.482206Z",
     "iopub.status.busy": "2022-12-28T17:14:43.481822Z",
     "iopub.status.idle": "2022-12-28T17:14:43.493848Z",
     "shell.execute_reply": "2022-12-28T17:14:43.492964Z"
    },
    "id": "6pL-mjsNl9x1",
    "papermill": {
     "duration": 0.032254,
     "end_time": "2022-12-28T17:14:43.496080",
     "exception": false,
     "start_time": "2022-12-28T17:14:43.463826",
     "status": "completed"
    },
    "tags": []
   },
   "outputs": [],
   "source": [
    "data1 = data1.rename(columns = {'V2':'vehicle length' ,\n",
    "                        'V5':'vehicle weight' ,\n",
    "                        'V6':'axles number'})"
   ]
  },
  {
   "cell_type": "code",
   "execution_count": 8,
   "id": "f2a679be",
   "metadata": {
    "execution": {
     "iopub.execute_input": "2022-12-28T17:14:43.531737Z",
     "iopub.status.busy": "2022-12-28T17:14:43.531325Z",
     "iopub.status.idle": "2022-12-28T17:14:43.547609Z",
     "shell.execute_reply": "2022-12-28T17:14:43.546854Z"
    },
    "id": "hHaF4EhrpRCu",
    "papermill": {
     "duration": 0.037234,
     "end_time": "2022-12-28T17:14:43.549719",
     "exception": false,
     "start_time": "2022-12-28T17:14:43.512485",
     "status": "completed"
    },
    "tags": []
   },
   "outputs": [],
   "source": [
    "data2 = data2.rename(columns = {'V1':'time of collection' ,\n",
    "                        'V3':'Lane of the road' ,\n",
    "                        'V4':'vehicle speed',\n",
    "                        'V7':'perceding vehicle ID',\n",
    "                        'V8':'perceding vehicle speed',\n",
    "                        'V9':'perceding vehicle weight',\n",
    "                        'V10':'perceding vehicle length',\n",
    "                        'V11':'perceding vehicle time-gap',\n",
    "                        'V18':'road condition'})"
   ]
  },
  {
   "cell_type": "code",
   "execution_count": 9,
   "id": "306a3c4d",
   "metadata": {},
   "outputs": [],
   "source": [
    "data2.drop(['Lane of the road', \n",
    "            'perceding vehicle ID',\n",
    "            'perceding vehicle speed',\n",
    "            'perceding vehicle weight',\n",
    "            'perceding vehicle length',\n",
    "            'perceding vehicle time-gap',],\n",
    "            axis=1, inplace=True)"
   ]
  },
  {
   "cell_type": "code",
   "execution_count": 10,
   "id": "112b2264",
   "metadata": {
    "execution": {
     "iopub.execute_input": "2022-12-28T17:14:43.583256Z",
     "iopub.status.busy": "2022-12-28T17:14:43.582876Z",
     "iopub.status.idle": "2022-12-28T17:14:43.597429Z",
     "shell.execute_reply": "2022-12-28T17:14:43.596748Z"
    },
    "id": "19CuTMvBnX8i",
    "papermill": {
     "duration": 0.033704,
     "end_time": "2022-12-28T17:14:43.599465",
     "exception": false,
     "start_time": "2022-12-28T17:14:43.565761",
     "status": "completed"
    },
    "tags": []
   },
   "outputs": [],
   "source": [
    "data3 = data3.rename(columns = {'V1':'time of collection' ,\n",
    "                        'V12':'Air temperature' ,\n",
    "                        'V13':'precipitation type',\n",
    "                        'V14':'precipitation intensity',\n",
    "                        'V15':'relative humidity',\n",
    "                        'V16':'wind direction',\n",
    "                        'V17':'wind speed',\n",
    "                        'V19':'Lighting condition'})"
   ]
  },
  {
   "cell_type": "code",
   "execution_count": 11,
   "id": "0f945ece",
   "metadata": {
    "execution": {
     "iopub.execute_input": "2022-12-28T17:14:43.632961Z",
     "iopub.status.busy": "2022-12-28T17:14:43.632371Z",
     "iopub.status.idle": "2022-12-28T17:14:43.639010Z",
     "shell.execute_reply": "2022-12-28T17:14:43.638008Z"
    },
    "id": "5n5tv-W7mZhP",
    "outputId": "d57fd906-3b25-4a50-a4ef-2dc28ccb7463",
    "papermill": {
     "duration": 0.025785,
     "end_time": "2022-12-28T17:14:43.641327",
     "exception": false,
     "start_time": "2022-12-28T17:14:43.615542",
     "status": "completed"
    },
    "tags": []
   },
   "outputs": [
    {
     "name": "stdout",
     "output_type": "stream",
     "text": [
      "Index(['ID', 'vehicle length', 'vehicle weight', 'axles number',\n",
      "       'DrivingStyle'],\n",
      "      dtype='object')\n",
      "Index(['ID', 'time of collection', 'vehicle speed', 'road condition'], dtype='object')\n",
      "Index(['ID', 'time of collection', 'Air temperature', 'precipitation type',\n",
      "       'precipitation intensity', 'relative humidity', 'wind direction',\n",
      "       'wind speed', 'Lighting condition'],\n",
      "      dtype='object')\n"
     ]
    }
   ],
   "source": [
    "print(data1.columns)\n",
    "print(data2.columns)\n",
    "print(data3.columns)"
   ]
  },
  {
   "cell_type": "code",
   "execution_count": 12,
   "id": "f747fe29",
   "metadata": {
    "execution": {
     "iopub.execute_input": "2022-12-28T17:14:43.675569Z",
     "iopub.status.busy": "2022-12-28T17:14:43.674604Z",
     "iopub.status.idle": "2022-12-28T17:14:43.685620Z",
     "shell.execute_reply": "2022-12-28T17:14:43.684789Z"
    },
    "id": "2WkK8rLfk0sN",
    "outputId": "dfa57cac-ae8e-4143-cc1f-5123dac3f79f",
    "papermill": {
     "duration": 0.030146,
     "end_time": "2022-12-28T17:14:43.687690",
     "exception": false,
     "start_time": "2022-12-28T17:14:43.657544",
     "status": "completed"
    },
    "tags": []
   },
   "outputs": [
    {
     "data": {
      "text/plain": [
       "ID                0\n",
       "vehicle length    0\n",
       "vehicle weight    0\n",
       "axles number      0\n",
       "DrivingStyle      0\n",
       "dtype: int64"
      ]
     },
     "execution_count": 12,
     "metadata": {},
     "output_type": "execute_result"
    }
   ],
   "source": [
    "data1.isnull().sum()"
   ]
  },
  {
   "cell_type": "code",
   "execution_count": 13,
   "id": "39dba35f",
   "metadata": {
    "execution": {
     "iopub.execute_input": "2022-12-28T17:14:43.722258Z",
     "iopub.status.busy": "2022-12-28T17:14:43.721606Z",
     "iopub.status.idle": "2022-12-28T17:14:43.748386Z",
     "shell.execute_reply": "2022-12-28T17:14:43.747091Z"
    },
    "id": "5UuhkdmJk5qF",
    "outputId": "f16d9c4a-3caf-4cae-e1c0-04d490d017f9",
    "papermill": {
     "duration": 0.046697,
     "end_time": "2022-12-28T17:14:43.750733",
     "exception": false,
     "start_time": "2022-12-28T17:14:43.704036",
     "status": "completed"
    },
    "tags": []
   },
   "outputs": [
    {
     "data": {
      "text/plain": [
       "ID                    0\n",
       "time of collection    0\n",
       "vehicle speed         0\n",
       "road condition        0\n",
       "dtype: int64"
      ]
     },
     "execution_count": 13,
     "metadata": {},
     "output_type": "execute_result"
    }
   ],
   "source": [
    "data2.isnull().sum()"
   ]
  },
  {
   "cell_type": "code",
   "execution_count": 14,
   "id": "2bc70643",
   "metadata": {
    "execution": {
     "iopub.execute_input": "2022-12-28T17:14:43.785652Z",
     "iopub.status.busy": "2022-12-28T17:14:43.784404Z",
     "iopub.status.idle": "2022-12-28T17:14:43.821973Z",
     "shell.execute_reply": "2022-12-28T17:14:43.820966Z"
    },
    "id": "7mHc546kk83L",
    "outputId": "6340488e-dec2-41a8-eea7-07afc4c56c4a",
    "papermill": {
     "duration": 0.05685,
     "end_time": "2022-12-28T17:14:43.823809",
     "exception": false,
     "start_time": "2022-12-28T17:14:43.766959",
     "status": "completed"
    },
    "tags": []
   },
   "outputs": [
    {
     "data": {
      "text/plain": [
       "ID                            0\n",
       "time of collection            0\n",
       "Air temperature            2057\n",
       "precipitation type            0\n",
       "precipitation intensity       0\n",
       "relative humidity          2105\n",
       "wind direction             2114\n",
       "wind speed                 2464\n",
       "Lighting condition            0\n",
       "dtype: int64"
      ]
     },
     "execution_count": 14,
     "metadata": {},
     "output_type": "execute_result"
    }
   ],
   "source": [
    "data3.isnull().sum()"
   ]
  },
  {
   "cell_type": "code",
   "execution_count": 15,
   "id": "d817e4e1",
   "metadata": {
    "execution": {
     "iopub.execute_input": "2022-12-28T17:14:43.859152Z",
     "iopub.status.busy": "2022-12-28T17:14:43.857896Z",
     "iopub.status.idle": "2022-12-28T17:14:43.866805Z",
     "shell.execute_reply": "2022-12-28T17:14:43.865894Z"
    },
    "id": "VpEduulzlAAA",
    "outputId": "b0d952a6-9bf7-4b6a-ae37-84dc366f783f",
    "papermill": {
     "duration": 0.028573,
     "end_time": "2022-12-28T17:14:43.868992",
     "exception": false,
     "start_time": "2022-12-28T17:14:43.840419",
     "status": "completed"
    },
    "tags": []
   },
   "outputs": [
    {
     "data": {
      "text/plain": [
       "ID                0\n",
       "vehicle length    0\n",
       "vehicle weight    0\n",
       "axles number      0\n",
       "DrivingStyle      0\n",
       "dtype: int64"
      ]
     },
     "execution_count": 15,
     "metadata": {},
     "output_type": "execute_result"
    }
   ],
   "source": [
    "data1.isna().sum()\n"
   ]
  },
  {
   "cell_type": "code",
   "execution_count": 16,
   "id": "94179c73",
   "metadata": {
    "execution": {
     "iopub.execute_input": "2022-12-28T17:14:43.903191Z",
     "iopub.status.busy": "2022-12-28T17:14:43.902793Z",
     "iopub.status.idle": "2022-12-28T17:14:43.929593Z",
     "shell.execute_reply": "2022-12-28T17:14:43.928696Z"
    },
    "id": "Ad9sO_HPlCiZ",
    "outputId": "dc6548e2-7993-4986-e1fb-53073c5294de",
    "papermill": {
     "duration": 0.045987,
     "end_time": "2022-12-28T17:14:43.931299",
     "exception": false,
     "start_time": "2022-12-28T17:14:43.885312",
     "status": "completed"
    },
    "tags": []
   },
   "outputs": [
    {
     "data": {
      "text/plain": [
       "ID                    0\n",
       "time of collection    0\n",
       "vehicle speed         0\n",
       "road condition        0\n",
       "dtype: int64"
      ]
     },
     "execution_count": 16,
     "metadata": {},
     "output_type": "execute_result"
    }
   ],
   "source": [
    "data2.isna().sum()\n"
   ]
  },
  {
   "cell_type": "code",
   "execution_count": 17,
   "id": "e297f38e",
   "metadata": {
    "execution": {
     "iopub.execute_input": "2022-12-28T17:14:43.965986Z",
     "iopub.status.busy": "2022-12-28T17:14:43.965608Z",
     "iopub.status.idle": "2022-12-28T17:14:44.002149Z",
     "shell.execute_reply": "2022-12-28T17:14:44.000825Z"
    },
    "id": "QgGeh0eRlI5Q",
    "outputId": "7d606205-32f1-490a-89b1-08ad4d0d3d65",
    "papermill": {
     "duration": 0.056164,
     "end_time": "2022-12-28T17:14:44.004052",
     "exception": false,
     "start_time": "2022-12-28T17:14:43.947888",
     "status": "completed"
    },
    "tags": []
   },
   "outputs": [
    {
     "data": {
      "text/plain": [
       "ID                            0\n",
       "time of collection            0\n",
       "Air temperature            2057\n",
       "precipitation type            0\n",
       "precipitation intensity       0\n",
       "relative humidity          2105\n",
       "wind direction             2114\n",
       "wind speed                 2464\n",
       "Lighting condition            0\n",
       "dtype: int64"
      ]
     },
     "execution_count": 17,
     "metadata": {},
     "output_type": "execute_result"
    }
   ],
   "source": [
    "data3.isna().sum()"
   ]
  },
  {
   "cell_type": "code",
   "execution_count": 18,
   "id": "3f32d3c5",
   "metadata": {
    "execution": {
     "iopub.execute_input": "2022-12-28T17:14:44.120371Z",
     "iopub.status.busy": "2022-12-28T17:14:44.119616Z",
     "iopub.status.idle": "2022-12-28T17:14:44.132328Z",
     "shell.execute_reply": "2022-12-28T17:14:44.130659Z"
    },
    "id": "5-mvMdQOxM7V",
    "outputId": "147c37f3-d0aa-41f4-dd1c-a4dea31c1974",
    "papermill": {
     "duration": 0.033603,
     "end_time": "2022-12-28T17:14:44.134820",
     "exception": false,
     "start_time": "2022-12-28T17:14:44.101217",
     "status": "completed"
    },
    "tags": []
   },
   "outputs": [
    {
     "name": "stdout",
     "output_type": "stream",
     "text": [
      "4\n",
      "5\n"
     ]
    }
   ],
   "source": [
    "print(int(data3['Air temperature'].mean()))\n",
    "print(int(data3['Air temperature'].median()))\n",
    "data3['Air temperature'].fillna( value = int(data3['Air temperature'].median()),inplace= True)\n",
    "\n",
    "#data3.isnull().sum()"
   ]
  },
  {
   "cell_type": "code",
   "execution_count": 19,
   "id": "faa10cd6",
   "metadata": {
    "execution": {
     "iopub.execute_input": "2022-12-28T17:14:44.171351Z",
     "iopub.status.busy": "2022-12-28T17:14:44.171021Z",
     "iopub.status.idle": "2022-12-28T17:14:44.192174Z",
     "shell.execute_reply": "2022-12-28T17:14:44.190796Z"
    },
    "id": "xFV3-lu5KUOO",
    "papermill": {
     "duration": 0.041247,
     "end_time": "2022-12-28T17:14:44.194316",
     "exception": false,
     "start_time": "2022-12-28T17:14:44.153069",
     "status": "completed"
    },
    "tags": []
   },
   "outputs": [
    {
     "name": "stdout",
     "output_type": "stream",
     "text": [
      "Dry               117666\n",
      "Wet                37628\n",
      "Visible tracks      5535\n",
      "Snow covered        1737\n",
      "Name: road condition, dtype: int64\n",
      "0    117666\n",
      "1     37628\n",
      "3      5535\n",
      "2      1737\n",
      "Name: road condition, dtype: int64\n"
     ]
    }
   ],
   "source": [
    "print(data2['road condition'].value_counts())\n",
    "data2['road condition'] = pd.factorize(data2['road condition'])[0]\n",
    "print(data2['road condition'].value_counts())"
   ]
  },
  {
   "cell_type": "code",
   "execution_count": 20,
   "id": "886876fd",
   "metadata": {
    "execution": {
     "iopub.execute_input": "2022-12-28T17:14:44.231291Z",
     "iopub.status.busy": "2022-12-28T17:14:44.230917Z",
     "iopub.status.idle": "2022-12-28T17:14:44.261301Z",
     "shell.execute_reply": "2022-12-28T17:14:44.260563Z"
    },
    "id": "-FkQ-TnumX2w",
    "outputId": "225b8643-fabc-4f69-eea1-ade34aab645b",
    "papermill": {
     "duration": 0.051692,
     "end_time": "2022-12-28T17:14:44.263539",
     "exception": false,
     "start_time": "2022-12-28T17:14:44.211847",
     "status": "completed"
    },
    "tags": []
   },
   "outputs": [
    {
     "name": "stdout",
     "output_type": "stream",
     "text": [
      "<class 'pandas.core.frame.DataFrame'>\n",
      "RangeIndex: 162566 entries, 0 to 162565\n",
      "Data columns (total 4 columns):\n",
      " #   Column              Non-Null Count   Dtype \n",
      "---  ------              --------------   ----- \n",
      " 0   ID                  162566 non-null  object\n",
      " 1   time of collection  162566 non-null  object\n",
      " 2   vehicle speed       162566 non-null  int64 \n",
      " 3   road condition      162566 non-null  int64 \n",
      "dtypes: int64(2), object(2)\n",
      "memory usage: 5.0+ MB\n"
     ]
    }
   ],
   "source": [
    "data2.info()"
   ]
  },
  {
   "cell_type": "code",
   "execution_count": 21,
   "id": "0f2a3139",
   "metadata": {
    "execution": {
     "iopub.execute_input": "2022-12-28T17:14:44.303356Z",
     "iopub.status.busy": "2022-12-28T17:14:44.303012Z",
     "iopub.status.idle": "2022-12-28T17:14:44.356040Z",
     "shell.execute_reply": "2022-12-28T17:14:44.354689Z"
    },
    "id": "yjMgjA2IGry9",
    "papermill": {
     "duration": 0.075273,
     "end_time": "2022-12-28T17:14:44.358873",
     "exception": false,
     "start_time": "2022-12-28T17:14:44.283600",
     "status": "completed"
    },
    "tags": []
   },
   "outputs": [],
   "source": [
    "data2_gropued = data2.groupby('ID')[['vehicle speed','road condition']].mean()"
   ]
  },
  {
   "cell_type": "code",
   "execution_count": 22,
   "id": "37ffddaa",
   "metadata": {
    "execution": {
     "iopub.execute_input": "2022-12-28T17:14:44.395330Z",
     "iopub.status.busy": "2022-12-28T17:14:44.394911Z",
     "iopub.status.idle": "2022-12-28T17:14:44.408739Z",
     "shell.execute_reply": "2022-12-28T17:14:44.406753Z"
    },
    "id": "WTvvqR0amc-E",
    "outputId": "028c4e30-6050-4b30-edd9-608270f5a9f4",
    "papermill": {
     "duration": 0.036057,
     "end_time": "2022-12-28T17:14:44.412023",
     "exception": false,
     "start_time": "2022-12-28T17:14:44.375966",
     "status": "completed"
    },
    "tags": []
   },
   "outputs": [
    {
     "name": "stdout",
     "output_type": "stream",
     "text": [
      "<class 'pandas.core.frame.DataFrame'>\n",
      "Index: 12994 entries, DR_10002 to DR_75253\n",
      "Data columns (total 2 columns):\n",
      " #   Column          Non-Null Count  Dtype  \n",
      "---  ------          --------------  -----  \n",
      " 0   vehicle speed   12994 non-null  float64\n",
      " 1   road condition  12994 non-null  float64\n",
      "dtypes: float64(2)\n",
      "memory usage: 304.5+ KB\n"
     ]
    }
   ],
   "source": [
    "data2_gropued.info()"
   ]
  },
  {
   "cell_type": "code",
   "execution_count": 23,
   "id": "d03ad765",
   "metadata": {
    "execution": {
     "iopub.execute_input": "2022-12-28T17:14:44.495298Z",
     "iopub.status.busy": "2022-12-28T17:14:44.494922Z",
     "iopub.status.idle": "2022-12-28T17:14:44.507770Z",
     "shell.execute_reply": "2022-12-28T17:14:44.507061Z"
    },
    "id": "6c7VedF3nFrZ",
    "outputId": "254d9d29-5db5-4e39-aab7-d062f662deec",
    "papermill": {
     "duration": 0.033273,
     "end_time": "2022-12-28T17:14:44.509737",
     "exception": false,
     "start_time": "2022-12-28T17:14:44.476464",
     "status": "completed"
    },
    "tags": []
   },
   "outputs": [
    {
     "name": "stdout",
     "output_type": "stream",
     "text": [
      "<class 'pandas.core.frame.DataFrame'>\n",
      "Index: 12994 entries, DR_10002 to DR_75253\n",
      "Data columns (total 2 columns):\n",
      " #   Column          Non-Null Count  Dtype  \n",
      "---  ------          --------------  -----  \n",
      " 0   vehicle speed   12994 non-null  float64\n",
      " 1   road condition  12994 non-null  float64\n",
      "dtypes: float64(2)\n",
      "memory usage: 304.5+ KB\n"
     ]
    }
   ],
   "source": [
    "data2_gropued.info()"
   ]
  },
  {
   "cell_type": "code",
   "execution_count": 24,
   "id": "533c90bb",
   "metadata": {
    "execution": {
     "iopub.execute_input": "2022-12-28T17:14:44.547762Z",
     "iopub.status.busy": "2022-12-28T17:14:44.546757Z",
     "iopub.status.idle": "2022-12-28T17:14:44.558514Z",
     "shell.execute_reply": "2022-12-28T17:14:44.557380Z"
    },
    "id": "FymiVIphszDc",
    "outputId": "d3b17312-82e8-42e7-c611-f1037d669462",
    "papermill": {
     "duration": 0.032889,
     "end_time": "2022-12-28T17:14:44.560795",
     "exception": false,
     "start_time": "2022-12-28T17:14:44.527906",
     "status": "completed"
    },
    "tags": []
   },
   "outputs": [
    {
     "name": "stdout",
     "output_type": "stream",
     "text": [
      "<class 'pandas.core.frame.DataFrame'>\n",
      "RangeIndex: 12994 entries, 0 to 12993\n",
      "Data columns (total 5 columns):\n",
      " #   Column          Non-Null Count  Dtype \n",
      "---  ------          --------------  ----- \n",
      " 0   ID              12994 non-null  object\n",
      " 1   vehicle length  12994 non-null  int64 \n",
      " 2   vehicle weight  12994 non-null  int64 \n",
      " 3   axles number    12994 non-null  int64 \n",
      " 4   DrivingStyle    12994 non-null  int64 \n",
      "dtypes: int64(4), object(1)\n",
      "memory usage: 507.7+ KB\n"
     ]
    }
   ],
   "source": [
    "data1.info()"
   ]
  },
  {
   "cell_type": "code",
   "execution_count": 25,
   "id": "05d06311",
   "metadata": {
    "execution": {
     "iopub.execute_input": "2022-12-28T17:14:44.596905Z",
     "iopub.status.busy": "2022-12-28T17:14:44.596562Z",
     "iopub.status.idle": "2022-12-28T17:14:44.622705Z",
     "shell.execute_reply": "2022-12-28T17:14:44.620829Z"
    },
    "id": "DWV1AZWLs2_N",
    "outputId": "74823bb7-243a-400e-d1c5-91bab5a4326a",
    "papermill": {
     "duration": 0.046768,
     "end_time": "2022-12-28T17:14:44.624711",
     "exception": false,
     "start_time": "2022-12-28T17:14:44.577943",
     "status": "completed"
    },
    "tags": []
   },
   "outputs": [
    {
     "name": "stdout",
     "output_type": "stream",
     "text": [
      "<class 'pandas.core.frame.DataFrame'>\n",
      "RangeIndex: 162566 entries, 0 to 162565\n",
      "Data columns (total 4 columns):\n",
      " #   Column              Non-Null Count   Dtype \n",
      "---  ------              --------------   ----- \n",
      " 0   ID                  162566 non-null  object\n",
      " 1   time of collection  162566 non-null  object\n",
      " 2   vehicle speed       162566 non-null  int64 \n",
      " 3   road condition      162566 non-null  int64 \n",
      "dtypes: int64(2), object(2)\n",
      "memory usage: 5.0+ MB\n"
     ]
    }
   ],
   "source": [
    "data2.info()"
   ]
  },
  {
   "cell_type": "code",
   "execution_count": 26,
   "id": "f90d06b3",
   "metadata": {
    "execution": {
     "iopub.execute_input": "2022-12-28T17:14:44.660780Z",
     "iopub.status.busy": "2022-12-28T17:14:44.659879Z",
     "iopub.status.idle": "2022-12-28T17:14:44.700793Z",
     "shell.execute_reply": "2022-12-28T17:14:44.699098Z"
    },
    "id": "sD-NORsQs6-c",
    "outputId": "d2bd710b-0b09-463d-8f47-a2b12d160ddb",
    "papermill": {
     "duration": 0.061402,
     "end_time": "2022-12-28T17:14:44.703280",
     "exception": false,
     "start_time": "2022-12-28T17:14:44.641878",
     "status": "completed"
    },
    "tags": []
   },
   "outputs": [
    {
     "name": "stdout",
     "output_type": "stream",
     "text": [
      "<class 'pandas.core.frame.DataFrame'>\n",
      "RangeIndex: 162566 entries, 0 to 162565\n",
      "Data columns (total 9 columns):\n",
      " #   Column                   Non-Null Count   Dtype  \n",
      "---  ------                   --------------   -----  \n",
      " 0   ID                       162566 non-null  object \n",
      " 1   time of collection       162566 non-null  object \n",
      " 2   Air temperature          162566 non-null  float64\n",
      " 3   precipitation type       162566 non-null  object \n",
      " 4   precipitation intensity  162566 non-null  object \n",
      " 5   relative humidity        160461 non-null  float64\n",
      " 6   wind direction           160452 non-null  float64\n",
      " 7   wind speed               160102 non-null  float64\n",
      " 8   Lighting condition       162566 non-null  object \n",
      "dtypes: float64(4), object(5)\n",
      "memory usage: 11.2+ MB\n"
     ]
    }
   ],
   "source": [
    "data3.info()"
   ]
  },
  {
   "cell_type": "code",
   "execution_count": 27,
   "id": "a2744242",
   "metadata": {
    "execution": {
     "iopub.execute_input": "2022-12-28T17:14:44.740792Z",
     "iopub.status.busy": "2022-12-28T17:14:44.740172Z",
     "iopub.status.idle": "2022-12-28T17:14:44.776443Z",
     "shell.execute_reply": "2022-12-28T17:14:44.775141Z"
    },
    "id": "6860rNqiM2Q4",
    "outputId": "c879aaa1-8e33-43d8-bd1b-68f744afa8b0",
    "papermill": {
     "duration": 0.05768,
     "end_time": "2022-12-28T17:14:44.779143",
     "exception": false,
     "start_time": "2022-12-28T17:14:44.721463",
     "status": "completed"
    },
    "tags": []
   },
   "outputs": [
    {
     "data": {
      "text/plain": [
       "ID                            0\n",
       "time of collection            0\n",
       "Air temperature               0\n",
       "precipitation type            0\n",
       "precipitation intensity       0\n",
       "relative humidity          2105\n",
       "wind direction             2114\n",
       "wind speed                 2464\n",
       "Lighting condition            0\n",
       "dtype: int64"
      ]
     },
     "execution_count": 27,
     "metadata": {},
     "output_type": "execute_result"
    }
   ],
   "source": [
    "data3.isnull().sum()"
   ]
  },
  {
   "cell_type": "code",
   "execution_count": 28,
   "id": "8a8c62ad",
   "metadata": {
    "execution": {
     "iopub.execute_input": "2022-12-28T17:14:44.816458Z",
     "iopub.status.busy": "2022-12-28T17:14:44.816111Z",
     "iopub.status.idle": "2022-12-28T17:14:44.826392Z",
     "shell.execute_reply": "2022-12-28T17:14:44.825136Z"
    },
    "id": "6qbExu4QM696",
    "outputId": "50597fce-437d-4726-e59c-d5724df743cc",
    "papermill": {
     "duration": 0.031051,
     "end_time": "2022-12-28T17:14:44.828297",
     "exception": false,
     "start_time": "2022-12-28T17:14:44.797246",
     "status": "completed"
    },
    "tags": []
   },
   "outputs": [
    {
     "name": "stdout",
     "output_type": "stream",
     "text": [
      "60\n",
      "58\n"
     ]
    }
   ],
   "source": [
    "print(int(data3['relative humidity'].mean()))\n",
    "print(int(data3['relative humidity'].median()))"
   ]
  },
  {
   "cell_type": "code",
   "execution_count": 29,
   "id": "2147cd0f",
   "metadata": {
    "execution": {
     "iopub.execute_input": "2022-12-28T17:14:44.865555Z",
     "iopub.status.busy": "2022-12-28T17:14:44.864981Z",
     "iopub.status.idle": "2022-12-28T17:14:44.912012Z",
     "shell.execute_reply": "2022-12-28T17:14:44.911018Z"
    },
    "id": "px4BKI-kNbon",
    "outputId": "86119ab1-75f4-43cf-e2ae-83cbeff99eec",
    "papermill": {
     "duration": 0.067191,
     "end_time": "2022-12-28T17:14:44.913789",
     "exception": false,
     "start_time": "2022-12-28T17:14:44.846598",
     "status": "completed"
    },
    "tags": []
   },
   "outputs": [
    {
     "data": {
      "text/plain": [
       "ID                            0\n",
       "time of collection            0\n",
       "Air temperature               0\n",
       "precipitation type            0\n",
       "precipitation intensity       0\n",
       "relative humidity          2105\n",
       "wind direction             2114\n",
       "wind speed                 2464\n",
       "Lighting condition            0\n",
       "dtype: int64"
      ]
     },
     "execution_count": 29,
     "metadata": {},
     "output_type": "execute_result"
    }
   ],
   "source": [
    "data3['relative humidity'].fillna( value = data3['relative humidity'].median)\n",
    "data3.isnull().sum()"
   ]
  },
  {
   "cell_type": "code",
   "execution_count": 30,
   "id": "710b443b",
   "metadata": {
    "execution": {
     "iopub.execute_input": "2022-12-28T17:14:44.950283Z",
     "iopub.status.busy": "2022-12-28T17:14:44.949933Z",
     "iopub.status.idle": "2022-12-28T17:14:44.957346Z",
     "shell.execute_reply": "2022-12-28T17:14:44.956277Z"
    },
    "id": "lLl1zBDDQB_D",
    "outputId": "549ef4cb-c265-40ea-c27b-6c5d80935293",
    "papermill": {
     "duration": 0.028017,
     "end_time": "2022-12-28T17:14:44.959277",
     "exception": false,
     "start_time": "2022-12-28T17:14:44.931260",
     "status": "completed"
    },
    "tags": []
   },
   "outputs": [
    {
     "name": "stdout",
     "output_type": "stream",
     "text": [
      "182\n",
      "180\n"
     ]
    }
   ],
   "source": [
    "print(int(data3['wind direction'].mean()))\n",
    "print(int(data3['wind direction'].median()))"
   ]
  },
  {
   "cell_type": "code",
   "execution_count": 31,
   "id": "3ac955db",
   "metadata": {
    "execution": {
     "iopub.execute_input": "2022-12-28T17:14:44.996191Z",
     "iopub.status.busy": "2022-12-28T17:14:44.995858Z",
     "iopub.status.idle": "2022-12-28T17:14:45.034416Z",
     "shell.execute_reply": "2022-12-28T17:14:45.033665Z"
    },
    "id": "xWjsHRV8RqnP",
    "outputId": "c279219a-5c6f-4459-926c-e155b738beeb",
    "papermill": {
     "duration": 0.059318,
     "end_time": "2022-12-28T17:14:45.036188",
     "exception": false,
     "start_time": "2022-12-28T17:14:44.976870",
     "status": "completed"
    },
    "tags": []
   },
   "outputs": [
    {
     "data": {
      "text/plain": [
       "ID                            0\n",
       "time of collection            0\n",
       "Air temperature               0\n",
       "precipitation type            0\n",
       "precipitation intensity       0\n",
       "relative humidity          2105\n",
       "wind direction                0\n",
       "wind speed                 2464\n",
       "Lighting condition            0\n",
       "dtype: int64"
      ]
     },
     "execution_count": 31,
     "metadata": {},
     "output_type": "execute_result"
    }
   ],
   "source": [
    "data3['wind direction'].fillna( value = int(data3['wind direction'].median()),inplace= True)\n",
    "data3.isnull().sum()"
   ]
  },
  {
   "cell_type": "code",
   "execution_count": 32,
   "id": "f7e20370",
   "metadata": {
    "execution": {
     "iopub.execute_input": "2022-12-28T17:14:45.073049Z",
     "iopub.status.busy": "2022-12-28T17:14:45.072720Z",
     "iopub.status.idle": "2022-12-28T17:14:45.081065Z",
     "shell.execute_reply": "2022-12-28T17:14:45.079958Z"
    },
    "id": "RsQAeTg7So4I",
    "outputId": "d59548f2-6ae3-40c9-9f51-8cbfaaa4d512",
    "papermill": {
     "duration": 0.028842,
     "end_time": "2022-12-28T17:14:45.082984",
     "exception": false,
     "start_time": "2022-12-28T17:14:45.054142",
     "status": "completed"
    },
    "tags": []
   },
   "outputs": [
    {
     "name": "stdout",
     "output_type": "stream",
     "text": [
      "4\n",
      "4\n"
     ]
    }
   ],
   "source": [
    "print(int(data3['wind speed'].mean()))\n",
    "print(int(data3['wind speed'].median()))"
   ]
  },
  {
   "cell_type": "code",
   "execution_count": 33,
   "id": "041d0693",
   "metadata": {
    "execution": {
     "iopub.execute_input": "2022-12-28T17:14:45.123194Z",
     "iopub.status.busy": "2022-12-28T17:14:45.122812Z",
     "iopub.status.idle": "2022-12-28T17:14:45.163107Z",
     "shell.execute_reply": "2022-12-28T17:14:45.162071Z"
    },
    "id": "fkLRoWsCSx5u",
    "outputId": "a39dde17-1f2f-495e-cb1b-7f61f2a753c5",
    "papermill": {
     "duration": 0.063549,
     "end_time": "2022-12-28T17:14:45.165308",
     "exception": false,
     "start_time": "2022-12-28T17:14:45.101759",
     "status": "completed"
    },
    "tags": []
   },
   "outputs": [
    {
     "data": {
      "text/plain": [
       "ID                            0\n",
       "time of collection            0\n",
       "Air temperature               0\n",
       "precipitation type            0\n",
       "precipitation intensity       0\n",
       "relative humidity          2105\n",
       "wind direction                0\n",
       "wind speed                    0\n",
       "Lighting condition            0\n",
       "dtype: int64"
      ]
     },
     "execution_count": 33,
     "metadata": {},
     "output_type": "execute_result"
    }
   ],
   "source": [
    "data3['wind speed'].fillna( value = int(data3['wind speed'].median()),inplace= True)\n",
    "data3.isnull().sum()"
   ]
  },
  {
   "cell_type": "code",
   "execution_count": 34,
   "id": "2dfcae93",
   "metadata": {
    "execution": {
     "iopub.execute_input": "2022-12-28T17:14:45.203388Z",
     "iopub.status.busy": "2022-12-28T17:14:45.203029Z",
     "iopub.status.idle": "2022-12-28T17:14:45.253989Z",
     "shell.execute_reply": "2022-12-28T17:14:45.253201Z"
    },
    "id": "FH1nA9IdS3uK",
    "papermill": {
     "duration": 0.072848,
     "end_time": "2022-12-28T17:14:45.256332",
     "exception": false,
     "start_time": "2022-12-28T17:14:45.183484",
     "status": "completed"
    },
    "tags": []
   },
   "outputs": [
    {
     "name": "stdout",
     "output_type": "stream",
     "text": [
      "clear    151259\n",
      "snow       5944\n",
      "rain       5363\n",
      "Name: precipitation type, dtype: int64\n",
      "0    151259\n",
      "2      5944\n",
      "1      5363\n",
      "Name: precipitation type, dtype: int64\n"
     ]
    }
   ],
   "source": [
    "data3['precipitation type'] = pd.factorize(data3['precipitation type'])[0]\n",
    "data3['Lighting condition'] = pd.factorize(data3['Lighting condition'])[0]\n",
    "data3['precipitation intensity'] = pd.factorize(data3['precipitation intensity'])[0]"
   ]
  },
  {
   "cell_type": "code",
   "execution_count": 35,
   "id": "9d9e61df",
   "metadata": {
    "execution": {
     "iopub.execute_input": "2022-12-28T17:14:45.296376Z",
     "iopub.status.busy": "2022-12-28T17:14:45.295180Z",
     "iopub.status.idle": "2022-12-28T17:14:45.320899Z",
     "shell.execute_reply": "2022-12-28T17:14:45.319562Z"
    },
    "id": "H5IY4bK4TuSn",
    "outputId": "bf0b2f93-4134-422b-f97a-be91d87a89f9",
    "papermill": {
     "duration": 0.047859,
     "end_time": "2022-12-28T17:14:45.323383",
     "exception": false,
     "start_time": "2022-12-28T17:14:45.275524",
     "status": "completed"
    },
    "tags": []
   },
   "outputs": [
    {
     "name": "stdout",
     "output_type": "stream",
     "text": [
      "<class 'pandas.core.frame.DataFrame'>\n",
      "RangeIndex: 162566 entries, 0 to 162565\n",
      "Data columns (total 9 columns):\n",
      " #   Column                   Non-Null Count   Dtype  \n",
      "---  ------                   --------------   -----  \n",
      " 0   ID                       162566 non-null  object \n",
      " 1   time of collection       162566 non-null  object \n",
      " 2   Air temperature          162566 non-null  float64\n",
      " 3   precipitation type       162566 non-null  int64  \n",
      " 4   precipitation intensity  162566 non-null  int64  \n",
      " 5   relative humidity        160461 non-null  float64\n",
      " 6   wind direction           162566 non-null  float64\n",
      " 7   wind speed               162566 non-null  float64\n",
      " 8   Lighting condition       162566 non-null  int64  \n",
      "dtypes: float64(4), int64(3), object(2)\n",
      "memory usage: 11.2+ MB\n"
     ]
    }
   ],
   "source": [
    "data3.info()"
   ]
  },
  {
   "cell_type": "code",
   "execution_count": 36,
   "id": "8aed0616",
   "metadata": {
    "execution": {
     "iopub.execute_input": "2022-12-28T17:14:45.363394Z",
     "iopub.status.busy": "2022-12-28T17:14:45.363028Z",
     "iopub.status.idle": "2022-12-28T17:14:45.400327Z",
     "shell.execute_reply": "2022-12-28T17:14:45.399038Z"
    },
    "id": "VxPyZf56UBd3",
    "papermill": {
     "duration": 0.060019,
     "end_time": "2022-12-28T17:14:45.402955",
     "exception": false,
     "start_time": "2022-12-28T17:14:45.342936",
     "status": "completed"
    },
    "tags": []
   },
   "outputs": [],
   "source": [
    "data3_gropued = data3.groupby('ID')[['Air temperature','precipitation type','precipitation intensity','relative humidity','wind direction','wind speed','Lighting condition']].mean()"
   ]
  },
  {
   "cell_type": "code",
   "execution_count": 37,
   "id": "f15f89b6",
   "metadata": {
    "execution": {
     "iopub.execute_input": "2022-12-28T17:14:45.446509Z",
     "iopub.status.busy": "2022-12-28T17:14:45.446111Z",
     "iopub.status.idle": "2022-12-28T17:14:45.463854Z",
     "shell.execute_reply": "2022-12-28T17:14:45.462900Z"
    },
    "id": "1oQVzdHeUdYx",
    "outputId": "4c096b47-b448-4161-fea7-ad345e218fec",
    "papermill": {
     "duration": 0.043565,
     "end_time": "2022-12-28T17:14:45.466341",
     "exception": false,
     "start_time": "2022-12-28T17:14:45.422776",
     "status": "completed"
    },
    "tags": []
   },
   "outputs": [
    {
     "data": {
      "text/html": [
       "<div>\n",
       "<style scoped>\n",
       "    .dataframe tbody tr th:only-of-type {\n",
       "        vertical-align: middle;\n",
       "    }\n",
       "\n",
       "    .dataframe tbody tr th {\n",
       "        vertical-align: top;\n",
       "    }\n",
       "\n",
       "    .dataframe thead th {\n",
       "        text-align: right;\n",
       "    }\n",
       "</style>\n",
       "<table border=\"1\" class=\"dataframe\">\n",
       "  <thead>\n",
       "    <tr style=\"text-align: right;\">\n",
       "      <th></th>\n",
       "      <th>vehicle speed</th>\n",
       "      <th>road condition</th>\n",
       "    </tr>\n",
       "    <tr>\n",
       "      <th>ID</th>\n",
       "      <th></th>\n",
       "      <th></th>\n",
       "    </tr>\n",
       "  </thead>\n",
       "  <tbody>\n",
       "    <tr>\n",
       "      <th>DR_10002</th>\n",
       "      <td>84.400000</td>\n",
       "      <td>0.0</td>\n",
       "    </tr>\n",
       "    <tr>\n",
       "      <th>DR_10013</th>\n",
       "      <td>86.555556</td>\n",
       "      <td>0.0</td>\n",
       "    </tr>\n",
       "    <tr>\n",
       "      <th>DR_10023</th>\n",
       "      <td>83.125000</td>\n",
       "      <td>0.0</td>\n",
       "    </tr>\n",
       "    <tr>\n",
       "      <th>DR_10024</th>\n",
       "      <td>86.666667</td>\n",
       "      <td>0.0</td>\n",
       "    </tr>\n",
       "    <tr>\n",
       "      <th>DR_10025</th>\n",
       "      <td>81.500000</td>\n",
       "      <td>1.0</td>\n",
       "    </tr>\n",
       "  </tbody>\n",
       "</table>\n",
       "</div>"
      ],
      "text/plain": [
       "          vehicle speed  road condition\n",
       "ID                                     \n",
       "DR_10002      84.400000             0.0\n",
       "DR_10013      86.555556             0.0\n",
       "DR_10023      83.125000             0.0\n",
       "DR_10024      86.666667             0.0\n",
       "DR_10025      81.500000             1.0"
      ]
     },
     "execution_count": 37,
     "metadata": {},
     "output_type": "execute_result"
    }
   ],
   "source": [
    "data2_gropued.head()"
   ]
  },
  {
   "cell_type": "code",
   "execution_count": 38,
   "id": "3342c2c9",
   "metadata": {
    "execution": {
     "iopub.execute_input": "2022-12-28T17:14:45.508677Z",
     "iopub.status.busy": "2022-12-28T17:14:45.508287Z",
     "iopub.status.idle": "2022-12-28T17:14:45.522551Z",
     "shell.execute_reply": "2022-12-28T17:14:45.521385Z"
    },
    "id": "2BUzR2GpU1ly",
    "outputId": "0360c13b-4027-4dec-a7b0-65d0dd45a514",
    "papermill": {
     "duration": 0.036206,
     "end_time": "2022-12-28T17:14:45.524548",
     "exception": false,
     "start_time": "2022-12-28T17:14:45.488342",
     "status": "completed"
    },
    "tags": []
   },
   "outputs": [
    {
     "data": {
      "text/html": [
       "<div>\n",
       "<style scoped>\n",
       "    .dataframe tbody tr th:only-of-type {\n",
       "        vertical-align: middle;\n",
       "    }\n",
       "\n",
       "    .dataframe tbody tr th {\n",
       "        vertical-align: top;\n",
       "    }\n",
       "\n",
       "    .dataframe thead th {\n",
       "        text-align: right;\n",
       "    }\n",
       "</style>\n",
       "<table border=\"1\" class=\"dataframe\">\n",
       "  <thead>\n",
       "    <tr style=\"text-align: right;\">\n",
       "      <th></th>\n",
       "      <th>Air temperature</th>\n",
       "      <th>precipitation type</th>\n",
       "      <th>precipitation intensity</th>\n",
       "      <th>relative humidity</th>\n",
       "      <th>wind direction</th>\n",
       "      <th>wind speed</th>\n",
       "      <th>Lighting condition</th>\n",
       "    </tr>\n",
       "    <tr>\n",
       "      <th>ID</th>\n",
       "      <th></th>\n",
       "      <th></th>\n",
       "      <th></th>\n",
       "      <th></th>\n",
       "      <th></th>\n",
       "      <th></th>\n",
       "      <th></th>\n",
       "    </tr>\n",
       "  </thead>\n",
       "  <tbody>\n",
       "    <tr>\n",
       "      <th>DR_10002</th>\n",
       "      <td>2.2000</td>\n",
       "      <td>0.0</td>\n",
       "      <td>0.0</td>\n",
       "      <td>66.6000</td>\n",
       "      <td>173.200</td>\n",
       "      <td>5.8000</td>\n",
       "      <td>0.0</td>\n",
       "    </tr>\n",
       "    <tr>\n",
       "      <th>DR_10013</th>\n",
       "      <td>4.0000</td>\n",
       "      <td>0.0</td>\n",
       "      <td>2.0</td>\n",
       "      <td>58.0000</td>\n",
       "      <td>163.000</td>\n",
       "      <td>8.0000</td>\n",
       "      <td>2.0</td>\n",
       "    </tr>\n",
       "    <tr>\n",
       "      <th>DR_10023</th>\n",
       "      <td>6.0625</td>\n",
       "      <td>0.0</td>\n",
       "      <td>2.0</td>\n",
       "      <td>34.0625</td>\n",
       "      <td>205.875</td>\n",
       "      <td>3.0625</td>\n",
       "      <td>2.0</td>\n",
       "    </tr>\n",
       "    <tr>\n",
       "      <th>DR_10024</th>\n",
       "      <td>5.0000</td>\n",
       "      <td>2.0</td>\n",
       "      <td>1.0</td>\n",
       "      <td>NaN</td>\n",
       "      <td>180.000</td>\n",
       "      <td>4.0000</td>\n",
       "      <td>1.0</td>\n",
       "    </tr>\n",
       "    <tr>\n",
       "      <th>DR_10025</th>\n",
       "      <td>1.0000</td>\n",
       "      <td>0.0</td>\n",
       "      <td>2.0</td>\n",
       "      <td>87.0000</td>\n",
       "      <td>11.000</td>\n",
       "      <td>3.0000</td>\n",
       "      <td>2.0</td>\n",
       "    </tr>\n",
       "  </tbody>\n",
       "</table>\n",
       "</div>"
      ],
      "text/plain": [
       "          Air temperature  precipitation type  precipitation intensity  \\\n",
       "ID                                                                       \n",
       "DR_10002           2.2000                 0.0                      0.0   \n",
       "DR_10013           4.0000                 0.0                      2.0   \n",
       "DR_10023           6.0625                 0.0                      2.0   \n",
       "DR_10024           5.0000                 2.0                      1.0   \n",
       "DR_10025           1.0000                 0.0                      2.0   \n",
       "\n",
       "          relative humidity  wind direction  wind speed  Lighting condition  \n",
       "ID                                                                           \n",
       "DR_10002            66.6000         173.200      5.8000                 0.0  \n",
       "DR_10013            58.0000         163.000      8.0000                 2.0  \n",
       "DR_10023            34.0625         205.875      3.0625                 2.0  \n",
       "DR_10024                NaN         180.000      4.0000                 1.0  \n",
       "DR_10025            87.0000          11.000      3.0000                 2.0  "
      ]
     },
     "execution_count": 38,
     "metadata": {},
     "output_type": "execute_result"
    }
   ],
   "source": [
    "data3_gropued.head()"
   ]
  },
  {
   "cell_type": "code",
   "execution_count": 39,
   "id": "00a2ecaa",
   "metadata": {
    "execution": {
     "iopub.execute_input": "2022-12-28T17:14:45.564759Z",
     "iopub.status.busy": "2022-12-28T17:14:45.563753Z",
     "iopub.status.idle": "2022-12-28T17:14:45.573230Z",
     "shell.execute_reply": "2022-12-28T17:14:45.572539Z"
    },
    "id": "AAX4GM2bU4XZ",
    "outputId": "2523aaae-ddf4-4654-92af-bff7c8484940",
    "papermill": {
     "duration": 0.032006,
     "end_time": "2022-12-28T17:14:45.575034",
     "exception": false,
     "start_time": "2022-12-28T17:14:45.543028",
     "status": "completed"
    },
    "tags": []
   },
   "outputs": [
    {
     "data": {
      "text/html": [
       "<div>\n",
       "<style scoped>\n",
       "    .dataframe tbody tr th:only-of-type {\n",
       "        vertical-align: middle;\n",
       "    }\n",
       "\n",
       "    .dataframe tbody tr th {\n",
       "        vertical-align: top;\n",
       "    }\n",
       "\n",
       "    .dataframe thead th {\n",
       "        text-align: right;\n",
       "    }\n",
       "</style>\n",
       "<table border=\"1\" class=\"dataframe\">\n",
       "  <thead>\n",
       "    <tr style=\"text-align: right;\">\n",
       "      <th></th>\n",
       "      <th>ID</th>\n",
       "      <th>vehicle length</th>\n",
       "      <th>vehicle weight</th>\n",
       "      <th>axles number</th>\n",
       "      <th>DrivingStyle</th>\n",
       "    </tr>\n",
       "  </thead>\n",
       "  <tbody>\n",
       "    <tr>\n",
       "      <th>0</th>\n",
       "      <td>DR_24526</td>\n",
       "      <td>1265</td>\n",
       "      <td>10243</td>\n",
       "      <td>2</td>\n",
       "      <td>2</td>\n",
       "    </tr>\n",
       "    <tr>\n",
       "      <th>1</th>\n",
       "      <td>DR_30052</td>\n",
       "      <td>1680</td>\n",
       "      <td>30871</td>\n",
       "      <td>6</td>\n",
       "      <td>2</td>\n",
       "    </tr>\n",
       "    <tr>\n",
       "      <th>2</th>\n",
       "      <td>DR_40928</td>\n",
       "      <td>936</td>\n",
       "      <td>3224</td>\n",
       "      <td>4</td>\n",
       "      <td>2</td>\n",
       "    </tr>\n",
       "    <tr>\n",
       "      <th>3</th>\n",
       "      <td>DR_66033</td>\n",
       "      <td>1503</td>\n",
       "      <td>3315</td>\n",
       "      <td>4</td>\n",
       "      <td>2</td>\n",
       "    </tr>\n",
       "    <tr>\n",
       "      <th>4</th>\n",
       "      <td>DR_45266</td>\n",
       "      <td>929</td>\n",
       "      <td>3022</td>\n",
       "      <td>4</td>\n",
       "      <td>2</td>\n",
       "    </tr>\n",
       "  </tbody>\n",
       "</table>\n",
       "</div>"
      ],
      "text/plain": [
       "         ID  vehicle length  vehicle weight  axles number  DrivingStyle\n",
       "0  DR_24526            1265           10243             2             2\n",
       "1  DR_30052            1680           30871             6             2\n",
       "2  DR_40928             936            3224             4             2\n",
       "3  DR_66033            1503            3315             4             2\n",
       "4  DR_45266             929            3022             4             2"
      ]
     },
     "execution_count": 39,
     "metadata": {},
     "output_type": "execute_result"
    }
   ],
   "source": [
    "data1.head()"
   ]
  },
  {
   "cell_type": "code",
   "execution_count": 40,
   "id": "d3a4809d",
   "metadata": {
    "execution": {
     "iopub.execute_input": "2022-12-28T17:14:45.613928Z",
     "iopub.status.busy": "2022-12-28T17:14:45.613037Z",
     "iopub.status.idle": "2022-12-28T17:14:45.619332Z",
     "shell.execute_reply": "2022-12-28T17:14:45.617860Z"
    },
    "id": "iGdiwhhdVAmb",
    "outputId": "459a0b06-270a-49a5-dd92-8ca8b15c597d",
    "papermill": {
     "duration": 0.027525,
     "end_time": "2022-12-28T17:14:45.621419",
     "exception": false,
     "start_time": "2022-12-28T17:14:45.593894",
     "status": "completed"
    },
    "tags": []
   },
   "outputs": [
    {
     "name": "stdout",
     "output_type": "stream",
     "text": [
      "(12994, 5)\n",
      "(12994, 2)\n",
      "(12994, 7)\n"
     ]
    }
   ],
   "source": [
    "print(data1.shape)\n",
    "print(data2_gropued.shape)\n",
    "print(data3_gropued.shape)"
   ]
  },
  {
   "cell_type": "code",
   "execution_count": 41,
   "id": "dc866fc2",
   "metadata": {
    "execution": {
     "iopub.execute_input": "2022-12-28T17:14:45.661547Z",
     "iopub.status.busy": "2022-12-28T17:14:45.660191Z",
     "iopub.status.idle": "2022-12-28T17:14:45.669271Z",
     "shell.execute_reply": "2022-12-28T17:14:45.667880Z"
    },
    "id": "qtu6WJnlmNYx",
    "outputId": "daa7f7ff-fc0f-49e1-83f9-f50d126a7d3a",
    "papermill": {
     "duration": 0.03139,
     "end_time": "2022-12-28T17:14:45.671905",
     "exception": false,
     "start_time": "2022-12-28T17:14:45.640515",
     "status": "completed"
    },
    "tags": []
   },
   "outputs": [
    {
     "data": {
      "text/plain": [
       "<bound method Series.drop_duplicates of 0        DR_24526\n",
       "1        DR_30052\n",
       "2        DR_40928\n",
       "3        DR_66033\n",
       "4        DR_45266\n",
       "           ...   \n",
       "12989    DR_61322\n",
       "12990    DR_35712\n",
       "12991    DR_61590\n",
       "12992    DR_69505\n",
       "12993    DR_56117\n",
       "Name: ID, Length: 12994, dtype: object>"
      ]
     },
     "execution_count": 41,
     "metadata": {},
     "output_type": "execute_result"
    }
   ],
   "source": [
    "data1['ID'].drop_duplicates"
   ]
  },
  {
   "cell_type": "code",
   "execution_count": 42,
   "id": "605a4077",
   "metadata": {
    "execution": {
     "iopub.execute_input": "2022-12-28T17:14:45.712902Z",
     "iopub.status.busy": "2022-12-28T17:14:45.711707Z",
     "iopub.status.idle": "2022-12-28T17:14:45.732014Z",
     "shell.execute_reply": "2022-12-28T17:14:45.730910Z"
    },
    "id": "5Eq-_Yw5lMeA",
    "papermill": {
     "duration": 0.042993,
     "end_time": "2022-12-28T17:14:45.734349",
     "exception": false,
     "start_time": "2022-12-28T17:14:45.691356",
     "status": "completed"
    },
    "tags": []
   },
   "outputs": [],
   "source": [
    "merged_data = pd.merge(data2_gropued,data3_gropued, on ='ID')"
   ]
  },
  {
   "cell_type": "code",
   "execution_count": 43,
   "id": "68adaac2",
   "metadata": {
    "execution": {
     "iopub.execute_input": "2022-12-28T17:14:45.781046Z",
     "iopub.status.busy": "2022-12-28T17:14:45.780715Z",
     "iopub.status.idle": "2022-12-28T17:14:45.795801Z",
     "shell.execute_reply": "2022-12-28T17:14:45.795062Z"
    },
    "id": "0uZI4JnhnZsN",
    "papermill": {
     "duration": 0.040901,
     "end_time": "2022-12-28T17:14:45.798648",
     "exception": false,
     "start_time": "2022-12-28T17:14:45.757747",
     "status": "completed"
    },
    "tags": []
   },
   "outputs": [],
   "source": [
    "merged_data2 = pd.merge(data1,merged_data, on='ID')"
   ]
  },
  {
   "cell_type": "code",
   "execution_count": 44,
   "id": "6e572f4a",
   "metadata": {
    "execution": {
     "iopub.execute_input": "2022-12-28T17:14:45.845176Z",
     "iopub.status.busy": "2022-12-28T17:14:45.844797Z",
     "iopub.status.idle": "2022-12-28T17:14:45.865165Z",
     "shell.execute_reply": "2022-12-28T17:14:45.864205Z"
    },
    "id": "xPQi3XBnngxu",
    "outputId": "2b243e93-35ac-4041-d10c-896cc1ea7961",
    "papermill": {
     "duration": 0.045063,
     "end_time": "2022-12-28T17:14:45.866943",
     "exception": false,
     "start_time": "2022-12-28T17:14:45.821880",
     "status": "completed"
    },
    "tags": []
   },
   "outputs": [
    {
     "data": {
      "text/html": [
       "<div>\n",
       "<style scoped>\n",
       "    .dataframe tbody tr th:only-of-type {\n",
       "        vertical-align: middle;\n",
       "    }\n",
       "\n",
       "    .dataframe tbody tr th {\n",
       "        vertical-align: top;\n",
       "    }\n",
       "\n",
       "    .dataframe thead th {\n",
       "        text-align: right;\n",
       "    }\n",
       "</style>\n",
       "<table border=\"1\" class=\"dataframe\">\n",
       "  <thead>\n",
       "    <tr style=\"text-align: right;\">\n",
       "      <th></th>\n",
       "      <th>ID</th>\n",
       "      <th>vehicle length</th>\n",
       "      <th>vehicle weight</th>\n",
       "      <th>axles number</th>\n",
       "      <th>DrivingStyle</th>\n",
       "      <th>vehicle speed</th>\n",
       "      <th>road condition</th>\n",
       "      <th>Air temperature</th>\n",
       "      <th>precipitation type</th>\n",
       "      <th>precipitation intensity</th>\n",
       "      <th>relative humidity</th>\n",
       "      <th>wind direction</th>\n",
       "      <th>wind speed</th>\n",
       "      <th>Lighting condition</th>\n",
       "    </tr>\n",
       "  </thead>\n",
       "  <tbody>\n",
       "    <tr>\n",
       "      <th>0</th>\n",
       "      <td>DR_24526</td>\n",
       "      <td>1265</td>\n",
       "      <td>10243</td>\n",
       "      <td>2</td>\n",
       "      <td>2</td>\n",
       "      <td>87.473684</td>\n",
       "      <td>0.0</td>\n",
       "      <td>7.000000</td>\n",
       "      <td>0.0</td>\n",
       "      <td>0.0</td>\n",
       "      <td>95.000000</td>\n",
       "      <td>125.157895</td>\n",
       "      <td>0.052632</td>\n",
       "      <td>0.0</td>\n",
       "    </tr>\n",
       "    <tr>\n",
       "      <th>1</th>\n",
       "      <td>DR_30052</td>\n",
       "      <td>1680</td>\n",
       "      <td>30871</td>\n",
       "      <td>6</td>\n",
       "      <td>2</td>\n",
       "      <td>82.272727</td>\n",
       "      <td>0.0</td>\n",
       "      <td>4.636364</td>\n",
       "      <td>0.0</td>\n",
       "      <td>0.0</td>\n",
       "      <td>95.545455</td>\n",
       "      <td>157.818182</td>\n",
       "      <td>6.000000</td>\n",
       "      <td>0.0</td>\n",
       "    </tr>\n",
       "    <tr>\n",
       "      <th>2</th>\n",
       "      <td>DR_40928</td>\n",
       "      <td>936</td>\n",
       "      <td>3224</td>\n",
       "      <td>4</td>\n",
       "      <td>2</td>\n",
       "      <td>85.090909</td>\n",
       "      <td>0.0</td>\n",
       "      <td>1.545455</td>\n",
       "      <td>1.0</td>\n",
       "      <td>0.0</td>\n",
       "      <td>95.000000</td>\n",
       "      <td>64.454545</td>\n",
       "      <td>0.000000</td>\n",
       "      <td>0.0</td>\n",
       "    </tr>\n",
       "    <tr>\n",
       "      <th>3</th>\n",
       "      <td>DR_66033</td>\n",
       "      <td>1503</td>\n",
       "      <td>3315</td>\n",
       "      <td>4</td>\n",
       "      <td>2</td>\n",
       "      <td>82.818182</td>\n",
       "      <td>0.0</td>\n",
       "      <td>3.545455</td>\n",
       "      <td>0.0</td>\n",
       "      <td>0.0</td>\n",
       "      <td>95.000000</td>\n",
       "      <td>169.727273</td>\n",
       "      <td>1.363636</td>\n",
       "      <td>0.0</td>\n",
       "    </tr>\n",
       "    <tr>\n",
       "      <th>4</th>\n",
       "      <td>DR_45266</td>\n",
       "      <td>929</td>\n",
       "      <td>3022</td>\n",
       "      <td>4</td>\n",
       "      <td>2</td>\n",
       "      <td>82.750000</td>\n",
       "      <td>0.0</td>\n",
       "      <td>3.000000</td>\n",
       "      <td>0.0</td>\n",
       "      <td>0.0</td>\n",
       "      <td>95.000000</td>\n",
       "      <td>191.000000</td>\n",
       "      <td>3.000000</td>\n",
       "      <td>0.0</td>\n",
       "    </tr>\n",
       "  </tbody>\n",
       "</table>\n",
       "</div>"
      ],
      "text/plain": [
       "         ID  vehicle length  vehicle weight  axles number  DrivingStyle  \\\n",
       "0  DR_24526            1265           10243             2             2   \n",
       "1  DR_30052            1680           30871             6             2   \n",
       "2  DR_40928             936            3224             4             2   \n",
       "3  DR_66033            1503            3315             4             2   \n",
       "4  DR_45266             929            3022             4             2   \n",
       "\n",
       "   vehicle speed  road condition  Air temperature  precipitation type  \\\n",
       "0      87.473684             0.0         7.000000                 0.0   \n",
       "1      82.272727             0.0         4.636364                 0.0   \n",
       "2      85.090909             0.0         1.545455                 1.0   \n",
       "3      82.818182             0.0         3.545455                 0.0   \n",
       "4      82.750000             0.0         3.000000                 0.0   \n",
       "\n",
       "   precipitation intensity  relative humidity  wind direction  wind speed  \\\n",
       "0                      0.0          95.000000      125.157895    0.052632   \n",
       "1                      0.0          95.545455      157.818182    6.000000   \n",
       "2                      0.0          95.000000       64.454545    0.000000   \n",
       "3                      0.0          95.000000      169.727273    1.363636   \n",
       "4                      0.0          95.000000      191.000000    3.000000   \n",
       "\n",
       "   Lighting condition  \n",
       "0                 0.0  \n",
       "1                 0.0  \n",
       "2                 0.0  \n",
       "3                 0.0  \n",
       "4                 0.0  "
      ]
     },
     "execution_count": 44,
     "metadata": {},
     "output_type": "execute_result"
    }
   ],
   "source": [
    "merged_data2.head()"
   ]
  },
  {
   "cell_type": "code",
   "execution_count": 45,
   "id": "e7d2bd74",
   "metadata": {
    "execution": {
     "iopub.execute_input": "2022-12-28T17:14:45.908375Z",
     "iopub.status.busy": "2022-12-28T17:14:45.907784Z",
     "iopub.status.idle": "2022-12-28T17:14:45.917991Z",
     "shell.execute_reply": "2022-12-28T17:14:45.916725Z"
    },
    "id": "As1m9OOZnpxw",
    "outputId": "479ed689-a5e7-4d60-b8ce-2943643238d7",
    "papermill": {
     "duration": 0.033071,
     "end_time": "2022-12-28T17:14:45.919949",
     "exception": false,
     "start_time": "2022-12-28T17:14:45.886878",
     "status": "completed"
    },
    "tags": []
   },
   "outputs": [
    {
     "data": {
      "text/plain": [
       "ID                           0\n",
       "vehicle length               0\n",
       "vehicle weight               0\n",
       "axles number                 0\n",
       "DrivingStyle                 0\n",
       "vehicle speed                0\n",
       "road condition               0\n",
       "Air temperature              0\n",
       "precipitation type           0\n",
       "precipitation intensity      0\n",
       "relative humidity          137\n",
       "wind direction               0\n",
       "wind speed                   0\n",
       "Lighting condition           0\n",
       "dtype: int64"
      ]
     },
     "execution_count": 45,
     "metadata": {},
     "output_type": "execute_result"
    }
   ],
   "source": [
    "merged_data2.isnull().sum()"
   ]
  },
  {
   "cell_type": "code",
   "execution_count": 46,
   "id": "e3b5a32d",
   "metadata": {
    "execution": {
     "iopub.execute_input": "2022-12-28T17:14:45.962250Z",
     "iopub.status.busy": "2022-12-28T17:14:45.961849Z",
     "iopub.status.idle": "2022-12-28T17:14:45.972346Z",
     "shell.execute_reply": "2022-12-28T17:14:45.971050Z"
    },
    "id": "JRsFAFQ0ZFH6",
    "papermill": {
     "duration": 0.03386,
     "end_time": "2022-12-28T17:14:45.974316",
     "exception": false,
     "start_time": "2022-12-28T17:14:45.940456",
     "status": "completed"
    },
    "tags": []
   },
   "outputs": [],
   "source": [
    "merged_data2 = merged_data2.dropna(subset=['relative humidity'])\n",
    "merged_data2 = merged_data2.drop('ID',axis = 1)"
   ]
  },
  {
   "cell_type": "code",
   "execution_count": 47,
   "id": "035f2345",
   "metadata": {
    "execution": {
     "iopub.execute_input": "2022-12-28T17:14:46.015590Z",
     "iopub.status.busy": "2022-12-28T17:14:46.015178Z",
     "iopub.status.idle": "2022-12-28T17:14:46.024311Z",
     "shell.execute_reply": "2022-12-28T17:14:46.023345Z"
    },
    "id": "R7zyeuZiZNeX",
    "outputId": "05e80ce3-648a-41cc-d71e-1be96b038b86",
    "papermill": {
     "duration": 0.032022,
     "end_time": "2022-12-28T17:14:46.026231",
     "exception": false,
     "start_time": "2022-12-28T17:14:45.994209",
     "status": "completed"
    },
    "tags": []
   },
   "outputs": [
    {
     "data": {
      "text/plain": [
       "vehicle length             0\n",
       "vehicle weight             0\n",
       "axles number               0\n",
       "DrivingStyle               0\n",
       "vehicle speed              0\n",
       "road condition             0\n",
       "Air temperature            0\n",
       "precipitation type         0\n",
       "precipitation intensity    0\n",
       "relative humidity          0\n",
       "wind direction             0\n",
       "wind speed                 0\n",
       "Lighting condition         0\n",
       "dtype: int64"
      ]
     },
     "execution_count": 47,
     "metadata": {},
     "output_type": "execute_result"
    }
   ],
   "source": [
    "merged_data2.isnull().sum()"
   ]
  },
  {
   "cell_type": "code",
   "execution_count": 48,
   "id": "4604ac2a",
   "metadata": {
    "execution": {
     "iopub.execute_input": "2022-12-28T17:14:46.068390Z",
     "iopub.status.busy": "2022-12-28T17:14:46.068015Z",
     "iopub.status.idle": "2022-12-28T17:14:46.075277Z",
     "shell.execute_reply": "2022-12-28T17:14:46.073993Z"
    },
    "id": "y1-lE8TInyD6",
    "outputId": "71bc2a59-9750-461f-e4f4-9f78a1dd6083",
    "papermill": {
     "duration": 0.031074,
     "end_time": "2022-12-28T17:14:46.077402",
     "exception": false,
     "start_time": "2022-12-28T17:14:46.046328",
     "status": "completed"
    },
    "tags": []
   },
   "outputs": [
    {
     "data": {
      "text/plain": [
       "Index(['vehicle length', 'vehicle weight', 'axles number', 'DrivingStyle',\n",
       "       'vehicle speed', 'road condition', 'Air temperature',\n",
       "       'precipitation type', 'precipitation intensity', 'relative humidity',\n",
       "       'wind direction', 'wind speed', 'Lighting condition'],\n",
       "      dtype='object')"
      ]
     },
     "execution_count": 48,
     "metadata": {},
     "output_type": "execute_result"
    }
   ],
   "source": [
    "merged_data2.columns"
   ]
  },
  {
   "cell_type": "code",
   "execution_count": 49,
   "id": "582f11f4",
   "metadata": {
    "execution": {
     "iopub.execute_input": "2022-12-28T17:14:46.119298Z",
     "iopub.status.busy": "2022-12-28T17:14:46.118940Z",
     "iopub.status.idle": "2022-12-28T17:14:46.136086Z",
     "shell.execute_reply": "2022-12-28T17:14:46.134654Z"
    },
    "id": "vFWy4M-6ouII",
    "outputId": "82314af0-819e-4204-fcf7-e594c5672b94",
    "papermill": {
     "duration": 0.041533,
     "end_time": "2022-12-28T17:14:46.138846",
     "exception": false,
     "start_time": "2022-12-28T17:14:46.097313",
     "status": "completed"
    },
    "tags": []
   },
   "outputs": [
    {
     "name": "stdout",
     "output_type": "stream",
     "text": [
      "<class 'pandas.core.frame.DataFrame'>\n",
      "Int64Index: 12857 entries, 0 to 12993\n",
      "Data columns (total 13 columns):\n",
      " #   Column                   Non-Null Count  Dtype  \n",
      "---  ------                   --------------  -----  \n",
      " 0   vehicle length           12857 non-null  int64  \n",
      " 1   vehicle weight           12857 non-null  int64  \n",
      " 2   axles number             12857 non-null  int64  \n",
      " 3   DrivingStyle             12857 non-null  int64  \n",
      " 4   vehicle speed            12857 non-null  float64\n",
      " 5   road condition           12857 non-null  float64\n",
      " 6   Air temperature          12857 non-null  float64\n",
      " 7   precipitation type       12857 non-null  float64\n",
      " 8   precipitation intensity  12857 non-null  float64\n",
      " 9   relative humidity        12857 non-null  float64\n",
      " 10  wind direction           12857 non-null  float64\n",
      " 11  wind speed               12857 non-null  float64\n",
      " 12  Lighting condition       12857 non-null  float64\n",
      "dtypes: float64(9), int64(4)\n",
      "memory usage: 1.4 MB\n"
     ]
    }
   ],
   "source": [
    "merged_data2.info()"
   ]
  },
  {
   "cell_type": "code",
   "execution_count": 50,
   "id": "69cde121",
   "metadata": {
    "execution": {
     "iopub.execute_input": "2022-12-28T17:14:46.185875Z",
     "iopub.status.busy": "2022-12-28T17:14:46.185513Z",
     "iopub.status.idle": "2022-12-28T17:14:46.193297Z",
     "shell.execute_reply": "2022-12-28T17:14:46.192000Z"
    },
    "id": "FXiI8l32plsQ",
    "outputId": "0af43887-e421-48b4-9425-495979a412a5",
    "papermill": {
     "duration": 0.033568,
     "end_time": "2022-12-28T17:14:46.196869",
     "exception": false,
     "start_time": "2022-12-28T17:14:46.163301",
     "status": "completed"
    },
    "tags": []
   },
   "outputs": [
    {
     "data": {
      "text/plain": [
       "(12857, 13)"
      ]
     },
     "execution_count": 50,
     "metadata": {},
     "output_type": "execute_result"
    }
   ],
   "source": [
    "merged_data2.shape"
   ]
  },
  {
   "cell_type": "markdown",
   "id": "7c3effda",
   "metadata": {
    "id": "YTj4Rl3bPeZI",
    "papermill": {
     "duration": 0.020825,
     "end_time": "2022-12-28T17:14:46.240000",
     "exception": false,
     "start_time": "2022-12-28T17:14:46.219175",
     "status": "completed"
    },
    "tags": []
   },
   "source": [
    "# **Building differnent models and see which is the best model for the dataset**"
   ]
  },
  {
   "cell_type": "code",
   "execution_count": 51,
   "id": "163bf4d8",
   "metadata": {
    "execution": {
     "iopub.execute_input": "2022-12-28T17:14:46.282779Z",
     "iopub.status.busy": "2022-12-28T17:14:46.282348Z",
     "iopub.status.idle": "2022-12-28T17:15:36.738963Z",
     "shell.execute_reply": "2022-12-28T17:15:36.737543Z"
    },
    "id": "5kPivhsyZwgZ",
    "outputId": "e9d973e7-c943-422f-c905-24cb2f300eff",
    "papermill": {
     "duration": 50.480672,
     "end_time": "2022-12-28T17:15:36.741344",
     "exception": false,
     "start_time": "2022-12-28T17:14:46.260672",
     "status": "completed"
    },
    "tags": []
   },
   "outputs": [
    {
     "name": "stdout",
     "output_type": "stream",
     "text": [
      "---------------------------------\n",
      "---------------------------------\n",
      "[2 1 3 ... 1 2 2]\n",
      "accuracy = 0.7349319507453014\n",
      "f1 score = 0.7071678549301111\n",
      "precision = 0.7118768591458767\n",
      "recall =  0.7065907781482968\n",
      "---------------------------------\n",
      "---------------------------------\n",
      "[2 1 3 ... 1 2 2]\n",
      "accuracy = 0.7362281270252754\n",
      "f1 score = 0.7089959851209002\n",
      "precision = 0.7099398205362419\n",
      "recall =  0.7105386494094003\n",
      "---------------------------------\n",
      "---------------------------------\n",
      "[2 1 3 ... 1 2 2]\n",
      "accuracy = 0.7401166558651977\n",
      "f1 score = 0.7147102759540266\n",
      "precision = 0.716574724472579\n",
      "recall =  0.7151829413784473\n",
      "---------------------------------\n",
      "---------------------------------\n",
      "[2 2 3 ... 1 2 2]\n",
      "accuracy = 0.7336357744653272\n",
      "f1 score = 0.7052097518849437\n",
      "precision = 0.7087118359573449\n",
      "recall =  0.7050819312774372\n",
      "---------------------------------\n",
      "---------------------------------\n",
      "[3 1 3 ... 1 2 2]\n",
      "accuracy = 0.7310434219053791\n",
      "f1 score = 0.7058475028316537\n",
      "precision = 0.7050262814105547\n",
      "recall =  0.7090893571784681\n",
      "---------------------------------\n",
      "---------------------------------\n",
      "[2 1 3 ... 1 2 2]\n",
      "accuracy = 0.7329876863253403\n",
      "f1 score = 0.704670504471108\n",
      "precision = 0.7060531467565955\n",
      "recall =  0.7054574940881836\n",
      "---------------------------------\n",
      "---------------------------------\n",
      "[2 2 3 ... 1 2 2]\n",
      "accuracy = 0.7368762151652625\n",
      "f1 score = 0.7110558566109852\n",
      "precision = 0.7122740254288439\n",
      "recall =  0.712152056380979\n",
      "---------------------------------\n",
      "---------------------------------\n",
      "[2 1 3 ... 1 2 2]\n",
      "accuracy = 0.7407647440051847\n",
      "f1 score = 0.7150200209993303\n",
      "precision = 0.7173742517910388\n",
      "recall =  0.7157123375099177\n",
      "---------------------------------\n",
      "---------------------------------\n",
      "[2 1 3 ... 1 2 2]\n",
      "accuracy = 0.7349319507453014\n",
      "f1 score = 0.7062010402885764\n",
      "precision = 0.7077669575765745\n",
      "recall =  0.7074037862783782\n",
      "---------------------------------\n",
      "---------------------------------\n",
      "[1 1 3 ... 1 2 2]\n",
      "accuracy = 0.7401166558651977\n",
      "f1 score = 0.714762137831447\n",
      "precision = 0.7160665370905518\n",
      "recall =  0.7157862473399251\n",
      "---------------------------------\n",
      "---------------------------------\n",
      "---------------------------------\n",
      "---------------------------------\n",
      "average = 0.7361633182112769\n"
     ]
    },
    {
     "data": {
      "image/png": "[encoded data removed]",
      "text/plain": [
       "<Figure size 640x480 with 2 Axes>"
      ]
     },
     "metadata": {},
     "output_type": "display_data"
    }
   ],
   "source": [
    "from sklearn.neighbors import KNeighborsClassifier\n",
    "from sklearn import tree\n",
    "from sklearn.model_selection import train_test_split\n",
    "from sklearn.ensemble import RandomForestClassifier\n",
    "import sklearn.metrics as met\n",
    "from sklearn.preprocessing import StandardScaler\n",
    "X = merged_data2.drop('DrivingStyle' , axis = 1)\n",
    "y = merged_data2['DrivingStyle']\n",
    "x_train,x_test,y_train,y_test=train_test_split(X,y,test_size=0.12,random_state=123)\n",
    "avgList = []\n",
    "scaler =StandardScaler()\n",
    "x_train_scaled = scaler.fit_transform(X)\n",
    "for x in range(10):\n",
    "  clf2=RandomForestClassifier(n_estimators=150,max_depth=100,min_samples_split=3,oob_score=True)\n",
    "  clf2.fit(x_train,y_train)\n",
    "  y_pred = clf2.predict(x_test)\n",
    "  print(\"---------------------------------\")\n",
    "  print(\"---------------------------------\")\n",
    "  print(y_pred)\n",
    "  print(\"accuracy =\" ,met.accuracy_score(y_test,y_pred))\n",
    "  print(\"f1 score =\" ,met.f1_score(y_test,y_pred,average='macro'))\n",
    "  print(\"precision =\",met.precision_score(y_test,y_pred,average='macro'))\n",
    "  print(\"recall = \",met.recall_score(y_test,y_pred,average='macro'))\n",
    "  avgList.append(met.accuracy_score(y_test,y_pred))\n",
    "print(\"---------------------------------\")\n",
    "print(\"---------------------------------\")\n",
    "print(\"---------------------------------\")\n",
    "print(\"---------------------------------\")\n",
    "print(\"average =\" ,sum(avgList)/len(avgList))\n",
    "from sklearn.metrics import ConfusionMatrixDisplay\n",
    "import matplotlib.pyplot as plt\n",
    "ConfusionMatrixDisplay.from_predictions(y_test, y_pred)\n",
    "plt.show()"
   ]
  },
  {
   "cell_type": "code",
   "execution_count": 53,
   "id": "1e84d629",
   "metadata": {},
   "outputs": [
    {
     "data": {
      "text/plain": [
       "['vehicle length',\n",
       " 'vehicle weight',\n",
       " 'axles number',\n",
       " 'vehicle speed',\n",
       " 'road condition',\n",
       " 'Air temperature',\n",
       " 'precipitation type',\n",
       " 'precipitation intensity',\n",
       " 'relative humidity',\n",
       " 'wind direction',\n",
       " 'wind speed',\n",
       " 'Lighting condition']"
      ]
     },
     "execution_count": 53,
     "metadata": {},
     "output_type": "execute_result"
    }
   ],
   "source": [
    "column_order = X.columns.tolist()\n",
    "column_order"
   ]
  },
  {
   "cell_type": "code",
   "execution_count": 52,
   "id": "12107ace",
   "metadata": {
    "execution": {
     "iopub.execute_input": "2022-12-28T17:15:36.784317Z",
     "iopub.status.busy": "2022-12-28T17:15:36.783962Z",
     "iopub.status.idle": "2022-12-28T17:15:37.009189Z",
     "shell.execute_reply": "2022-12-28T17:15:37.008024Z"
    },
    "id": "JDxVfVLOtlxN",
    "outputId": "7cc3ca56-f2ad-4d0e-ac1a-e19791785851",
    "papermill": {
     "duration": 0.249122,
     "end_time": "2022-12-28T17:15:37.011371",
     "exception": false,
     "start_time": "2022-12-28T17:15:36.762249",
     "status": "completed"
    },
    "tags": []
   },
   "outputs": [
    {
     "data": {
      "image/png": "[encoded data removed]",
      "text/plain": [
       "<Figure size 640x480 with 1 Axes>"
      ]
     },
     "metadata": {},
     "output_type": "display_data"
    }
   ],
   "source": [
    "import numpy as np\n",
    "importances = clf2.feature_importances_\n",
    "sorted_indices = np.argsort(importances)[::-1]\n",
    "feat_labels = X.columns[1:]\n",
    "\n",
    "plt.title('Feature Importance')\n",
    "plt.bar(range(x_train.shape[1]), importances[sorted_indices], align='center')\n",
    "plt.xticks(range(x_train.shape[1]), x_train.columns[sorted_indices], rotation=90)\n",
    "plt.tight_layout()\n",
    "plt.show()"
   ]
  },
  {
   "cell_type": "code",
   "execution_count": 53,
   "id": "a6ff6b89",
   "metadata": {
    "execution": {
     "iopub.execute_input": "2022-12-28T17:15:37.054790Z",
     "iopub.status.busy": "2022-12-28T17:15:37.054381Z",
     "iopub.status.idle": "2022-12-28T17:15:37.058794Z",
     "shell.execute_reply": "2022-12-28T17:15:37.058129Z"
    },
    "id": "skEOiV9a8Wsg",
    "outputId": "4c3d9f62-f761-4556-ff18-75ed79036df9",
    "papermill": {
     "duration": 0.028976,
     "end_time": "2022-12-28T17:15:37.061090",
     "exception": false,
     "start_time": "2022-12-28T17:15:37.032114",
     "status": "completed"
    },
    "tags": []
   },
   "outputs": [
    {
     "name": "stdout",
     "output_type": "stream",
     "text": [
      "[0.19726136 0.13190595 0.10481534 0.09719429 0.08821373 0.08400239\n",
      " 0.07793205 0.07304067 0.07041378 0.0439382  0.02473499 0.00654726]\n"
     ]
    }
   ],
   "source": [
    "print(importances[sorted_indices])"
   ]
  },
  {
   "cell_type": "code",
   "execution_count": 54,
   "id": "14975c09",
   "metadata": {
    "execution": {
     "iopub.execute_input": "2022-12-28T17:15:37.105683Z",
     "iopub.status.busy": "2022-12-28T17:15:37.104974Z",
     "iopub.status.idle": "2022-12-28T17:16:21.791811Z",
     "shell.execute_reply": "2022-12-28T17:16:21.790384Z"
    },
    "id": "kKyFRbI-uXRs",
    "outputId": "e2c8c1f1-898f-4edc-e8aa-d8e87ae118cf",
    "papermill": {
     "duration": 44.711538,
     "end_time": "2022-12-28T17:16:21.794339",
     "exception": false,
     "start_time": "2022-12-28T17:15:37.082801",
     "status": "completed"
    },
    "tags": []
   },
   "outputs": [
    {
     "name": "stdout",
     "output_type": "stream",
     "text": [
      "---------------------------------\n",
      "---------------------------------\n",
      "[2 1 3 ... 1 2 2]\n",
      "accuracy = 0.7368762151652625\n",
      "f1 score = 0.7111588482060518\n",
      "precision = 0.7107670895440168\n",
      "recall =  0.7136296710139614\n",
      "---------------------------------\n",
      "---------------------------------\n",
      "[2 1 3 ... 1 2 2]\n",
      "accuracy = 0.728451069345431\n",
      "f1 score = 0.6998938076741337\n",
      "precision = 0.7017435734418379\n",
      "recall =  0.7006774097805403\n",
      "---------------------------------\n",
      "---------------------------------\n",
      "[2 1 3 ... 1 2 2]\n",
      "accuracy = 0.7316915100453661\n",
      "f1 score = 0.7035771536060159\n",
      "precision = 0.7056814567334623\n",
      "recall =  0.7043116007394863\n",
      "---------------------------------\n",
      "---------------------------------\n",
      "[2 1 3 ... 1 2 2]\n",
      "accuracy = 0.7355800388852884\n",
      "f1 score = 0.7069503414316904\n",
      "precision = 0.7099893128408493\n",
      "recall =  0.7069975731969204\n",
      "---------------------------------\n",
      "---------------------------------\n",
      "[2 1 3 ... 1 2 2]\n",
      "accuracy = 0.7271548930654569\n",
      "f1 score = 0.6989564605604851\n",
      "precision = 0.7009754580007636\n",
      "recall =  0.6995315164318429\n",
      "---------------------------------\n",
      "---------------------------------\n",
      "[2 1 3 ... 1 2 2]\n",
      "accuracy = 0.7401166558651977\n",
      "f1 score = 0.7132630735823899\n",
      "precision = 0.714382560267274\n",
      "recall =  0.7146409359583933\n",
      "---------------------------------\n",
      "---------------------------------\n",
      "[2 2 3 ... 1 2 2]\n",
      "accuracy = 0.7349319507453014\n",
      "f1 score = 0.7069960400133253\n",
      "precision = 0.7090269245354569\n",
      "recall =  0.707705439259117\n",
      "---------------------------------\n",
      "---------------------------------\n",
      "[2 1 3 ... 1 2 2]\n",
      "accuracy = 0.7401166558651977\n",
      "f1 score = 0.7151056270684872\n",
      "precision = 0.7155084595624058\n",
      "recall =  0.7166605560114299\n",
      "---------------------------------\n",
      "---------------------------------\n",
      "[2 1 3 ... 1 2 2]\n",
      "accuracy = 0.7394685677252106\n",
      "f1 score = 0.7157964298365537\n",
      "precision = 0.716938161930325\n",
      "recall =  0.7167651161121489\n",
      "---------------------------------\n",
      "---------------------------------\n",
      "[2 1 3 ... 1 2 2]\n",
      "accuracy = 0.7342838626053143\n",
      "f1 score = 0.706773049345435\n",
      "precision = 0.707903940261211\n",
      "recall =  0.7081116523405749\n",
      "---------------------------------\n",
      "---------------------------------\n",
      "---------------------------------\n",
      "---------------------------------\n",
      "average = 0.7348671419313026\n"
     ]
    },
    {
     "data": {
      "image/png": "[encoded data removed]",
      "text/plain": [
       "<Figure size 640x480 with 2 Axes>"
      ]
     },
     "metadata": {},
     "output_type": "display_data"
    }
   ],
   "source": [
    "X = merged_data2.drop(['DrivingStyle','precipitation type','precipitation intensity'] , axis = 1)\n",
    "y = merged_data2['DrivingStyle']\n",
    "x_train,x_test,y_train,y_test=train_test_split(X,y,test_size=0.12,random_state=123)\n",
    "avgList = []\n",
    "for x in range(10):\n",
    "  clf2=RandomForestClassifier(n_estimators=150,max_depth=100,min_samples_split=3,oob_score=True)\n",
    "  clf2.fit(x_train,y_train)\n",
    "  y_pred = clf2.predict(x_test)\n",
    "  print(\"---------------------------------\")\n",
    "  print(\"---------------------------------\")\n",
    "  print(y_pred)\n",
    "  print(\"accuracy =\" ,met.accuracy_score(y_test,y_pred))\n",
    "  print(\"f1 score =\" ,met.f1_score(y_test,y_pred,average='macro'))\n",
    "  print(\"precision =\",met.precision_score(y_test,y_pred,average='macro'))\n",
    "  print(\"recall = \",met.recall_score(y_test,y_pred,average='macro'))\n",
    "  avgList.append(met.accuracy_score(y_test,y_pred))\n",
    "print(\"---------------------------------\")\n",
    "print(\"---------------------------------\")\n",
    "print(\"---------------------------------\")\n",
    "print(\"---------------------------------\")\n",
    "print(\"average =\" ,sum(avgList)/len(avgList))\n",
    "from sklearn.metrics import ConfusionMatrixDisplay\n",
    "import matplotlib.pyplot as plt\n",
    "ConfusionMatrixDisplay.from_predictions(y_test, y_pred)\n",
    "plt.show()\n"
   ]
  },
  {
   "cell_type": "code",
   "execution_count": 55,
   "id": "0c6e031b",
   "metadata": {
    "execution": {
     "iopub.execute_input": "2022-12-28T17:16:21.840728Z",
     "iopub.status.busy": "2022-12-28T17:16:21.839606Z",
     "iopub.status.idle": "2022-12-28T17:16:22.866545Z",
     "shell.execute_reply": "2022-12-28T17:16:22.865284Z"
    },
    "id": "ZNWlzgnqdTXl",
    "outputId": "4dda289f-3455-489c-d787-5b37592636df",
    "papermill": {
     "duration": 1.052703,
     "end_time": "2022-12-28T17:16:22.869018",
     "exception": false,
     "start_time": "2022-12-28T17:16:21.816315",
     "status": "completed"
    },
    "tags": []
   },
   "outputs": [
    {
     "name": "stdout",
     "output_type": "stream",
     "text": [
      "---------------------------------\n",
      "---------------------------------\n",
      "[1 3 3 ... 1 2 1]\n",
      "accuracy = 0.7342838626053143\n",
      "f1 score = 0.70238224568853\n",
      "precision = 0.7925732808910378\n",
      "recall =  0.7355812785042667\n",
      "---------------------------------\n",
      "---------------------------------\n",
      "[1 3 3 ... 1 2 1]\n",
      "accuracy = 0.7342838626053143\n",
      "f1 score = 0.70238224568853\n",
      "precision = 0.7925732808910378\n",
      "recall =  0.7355812785042667\n",
      "---------------------------------\n",
      "---------------------------------\n",
      "[1 3 3 ... 1 2 1]\n",
      "accuracy = 0.7342838626053143\n",
      "f1 score = 0.70238224568853\n",
      "precision = 0.7925732808910378\n",
      "recall =  0.7355812785042667\n",
      "---------------------------------\n",
      "---------------------------------\n",
      "[1 3 3 ... 1 2 1]\n",
      "accuracy = 0.7342838626053143\n",
      "f1 score = 0.70238224568853\n",
      "precision = 0.7925732808910378\n",
      "recall =  0.7355812785042667\n",
      "---------------------------------\n",
      "---------------------------------\n",
      "[1 3 3 ... 1 2 1]\n",
      "accuracy = 0.7342838626053143\n",
      "f1 score = 0.70238224568853\n",
      "precision = 0.7925732808910378\n",
      "recall =  0.7355812785042667\n",
      "---------------------------------\n",
      "---------------------------------\n",
      "[1 3 3 ... 1 2 1]\n",
      "accuracy = 0.7342838626053143\n",
      "f1 score = 0.70238224568853\n",
      "precision = 0.7925732808910378\n",
      "recall =  0.7355812785042667\n",
      "---------------------------------\n",
      "---------------------------------\n",
      "[1 3 3 ... 1 2 1]\n",
      "accuracy = 0.7342838626053143\n",
      "f1 score = 0.70238224568853\n",
      "precision = 0.7925732808910378\n",
      "recall =  0.7355812785042667\n",
      "---------------------------------\n",
      "---------------------------------\n",
      "[1 3 3 ... 1 2 1]\n",
      "accuracy = 0.7342838626053143\n",
      "f1 score = 0.70238224568853\n",
      "precision = 0.7925732808910378\n",
      "recall =  0.7355812785042667\n",
      "---------------------------------\n",
      "---------------------------------\n",
      "[1 3 3 ... 1 2 1]\n",
      "accuracy = 0.7342838626053143\n",
      "f1 score = 0.70238224568853\n",
      "precision = 0.7925732808910378\n",
      "recall =  0.7355812785042667\n",
      "---------------------------------\n",
      "---------------------------------\n",
      "[1 3 3 ... 1 2 1]\n",
      "accuracy = 0.7342838626053143\n",
      "f1 score = 0.70238224568853\n",
      "precision = 0.7925732808910378\n",
      "recall =  0.7355812785042667\n",
      "---------------------------------\n",
      "---------------------------------\n",
      "---------------------------------\n",
      "---------------------------------\n"
     ]
    }
   ],
   "source": [
    "for x in range(10):\n",
    "  scaler =StandardScaler()\n",
    "  scaler.fit_transform(X)\n",
    "  neigh = KNeighborsClassifier(n_neighbors=2,leaf_size=30,p=2,algorithm='ball_tree')\n",
    "  neigh.fit(X, y)\n",
    "  y_pred = neigh.predict(x_test)\n",
    "  print(\"---------------------------------\")\n",
    "  print(\"---------------------------------\")\n",
    "  print(y_pred)\n",
    "  print(\"accuracy =\" ,met.accuracy_score(y_test,y_pred))\n",
    "  print(\"f1 score =\" ,met.f1_score(y_test,y_pred,average='macro'))\n",
    "  print(\"precision =\",met.precision_score(y_test,y_pred,average='macro'))\n",
    "  print(\"recall = \",met.recall_score(y_test,y_pred,average='macro'))\n",
    "print(\"---------------------------------\")\n",
    "print(\"---------------------------------\")\n",
    "print(\"---------------------------------\")\n",
    "print(\"---------------------------------\")"
   ]
  },
  {
   "cell_type": "code",
   "execution_count": 56,
   "id": "1e17625a",
   "metadata": {
    "execution": {
     "iopub.execute_input": "2022-12-28T17:16:22.914965Z",
     "iopub.status.busy": "2022-12-28T17:16:22.914625Z",
     "iopub.status.idle": "2022-12-28T17:16:22.920559Z",
     "shell.execute_reply": "2022-12-28T17:16:22.919409Z"
    },
    "id": "oxVoy8Pedicy",
    "outputId": "c560eefd-7dc3-4d77-96d4-61bb4d455db6",
    "papermill": {
     "duration": 0.031057,
     "end_time": "2022-12-28T17:16:22.922584",
     "exception": false,
     "start_time": "2022-12-28T17:16:22.891527",
     "status": "completed"
    },
    "tags": []
   },
   "outputs": [
    {
     "name": "stdout",
     "output_type": "stream",
     "text": [
      "---------------------------------\n",
      "---------------------------------\n",
      "---------------------------------\n",
      "---------------------------------\n"
     ]
    }
   ],
   "source": [
    "#from sklearn.pipeline import make_pipeline\n",
    "#from sklearn.svm import SVC\n",
    "#for x in range(10):\n",
    "  #clf2 = make_pipeline(StandardScaler(), SVC(gamma='auto'))\n",
    "  #clf2.fit(X, y)\n",
    "  #y_pred = clf2.predict(x_test)\n",
    "  #print(\"---------------------------------\")\n",
    "  #print(\"---------------------------------\")\n",
    "  #print(y_pred)\n",
    "  #print(\"accuracy =\" ,met.accuracy_score(y_test,y_pred))\n",
    "  #print(\"f1 score =\" ,met.f1_score(y_test,y_pred,average='macro'))\n",
    "  #print(\"precision =\",met.precision_score(y_test,y_pred,average='macro'))\n",
    "  #print(\"recall = \",met.recall_score(y_test,y_pred,average='macro'))\n",
    "print(\"---------------------------------\")\n",
    "print(\"---------------------------------\")\n",
    "print(\"---------------------------------\")\n",
    "print(\"---------------------------------\")"
   ]
  },
  {
   "cell_type": "code",
   "execution_count": 57,
   "id": "d01b14b7",
   "metadata": {
    "execution": {
     "iopub.execute_input": "2022-12-28T17:16:22.967899Z",
     "iopub.status.busy": "2022-12-28T17:16:22.967563Z",
     "iopub.status.idle": "2022-12-28T17:16:28.205570Z",
     "shell.execute_reply": "2022-12-28T17:16:28.204845Z"
    },
    "id": "oCbG9NcDeNNW",
    "outputId": "76c7f4d3-41c3-49ce-c59d-9a77307ab160",
    "papermill": {
     "duration": 5.265104,
     "end_time": "2022-12-28T17:16:28.209803",
     "exception": false,
     "start_time": "2022-12-28T17:16:22.944699",
     "status": "completed"
    },
    "tags": []
   },
   "outputs": [
    {
     "name": "stdout",
     "output_type": "stream",
     "text": [
      "---------------------------------\n",
      "---------------------------------\n",
      "[1 1 2 ... 2 2 2]\n",
      "accuracy = 0.5119896305897602\n",
      "f1 score = 0.36038101853053944\n",
      "precision = 0.33072387939450815\n",
      "recall =  0.4205996977650521\n"
     ]
    },
    {
     "name": "stderr",
     "output_type": "stream",
     "text": [
      "/home/p.kuznetsov/.local/lib/python3.9/site-packages/sklearn/linear_model/_logistic.py:469: ConvergenceWarning: lbfgs failed to converge (status=1):\n",
      "STOP: TOTAL NO. of ITERATIONS REACHED LIMIT.\n",
      "\n",
      "Increase the number of iterations (max_iter) or scale the data as shown in:\n",
      "    https://scikit-learn.org/stable/modules/preprocessing.html\n",
      "Please also refer to the documentation for alternative solver options:\n",
      "    https://scikit-learn.org/stable/modules/linear_model.html#logistic-regression\n",
      "  n_iter_i = _check_optimize_result(\n",
      "/home/p.kuznetsov/.local/lib/python3.9/site-packages/sklearn/metrics/_classification.py:1497: UndefinedMetricWarning: Precision is ill-defined and being set to 0.0 in labels with no predicted samples. Use `zero_division` parameter to control this behavior.\n",
      "  _warn_prf(average, modifier, f\"{metric.capitalize()} is\", len(result))\n",
      "/home/p.kuznetsov/.local/lib/python3.9/site-packages/sklearn/linear_model/_logistic.py:469: ConvergenceWarning: lbfgs failed to converge (status=1):\n",
      "STOP: TOTAL NO. of ITERATIONS REACHED LIMIT.\n",
      "\n",
      "Increase the number of iterations (max_iter) or scale the data as shown in:\n",
      "    https://scikit-learn.org/stable/modules/preprocessing.html\n",
      "Please also refer to the documentation for alternative solver options:\n",
      "    https://scikit-learn.org/stable/modules/linear_model.html#logistic-regression\n",
      "  n_iter_i = _check_optimize_result(\n",
      "/home/p.kuznetsov/.local/lib/python3.9/site-packages/sklearn/metrics/_classification.py:1497: UndefinedMetricWarning: Precision is ill-defined and being set to 0.0 in labels with no predicted samples. Use `zero_division` parameter to control this behavior.\n",
      "  _warn_prf(average, modifier, f\"{metric.capitalize()} is\", len(result))\n"
     ]
    },
    {
     "name": "stdout",
     "output_type": "stream",
     "text": [
      "---------------------------------\n",
      "---------------------------------\n",
      "[1 1 2 ... 2 2 2]\n",
      "accuracy = 0.5119896305897602\n",
      "f1 score = 0.36038101853053944\n",
      "precision = 0.33072387939450815\n",
      "recall =  0.4205996977650521\n",
      "---------------------------------\n",
      "---------------------------------\n",
      "[1 1 2 ... 2 2 2]\n",
      "accuracy = 0.5119896305897602\n",
      "f1 score = 0.36038101853053944\n",
      "precision = 0.33072387939450815\n",
      "recall =  0.4205996977650521\n"
     ]
    },
    {
     "name": "stderr",
     "output_type": "stream",
     "text": [
      "/home/p.kuznetsov/.local/lib/python3.9/site-packages/sklearn/linear_model/_logistic.py:469: ConvergenceWarning: lbfgs failed to converge (status=1):\n",
      "STOP: TOTAL NO. of ITERATIONS REACHED LIMIT.\n",
      "\n",
      "Increase the number of iterations (max_iter) or scale the data as shown in:\n",
      "    https://scikit-learn.org/stable/modules/preprocessing.html\n",
      "Please also refer to the documentation for alternative solver options:\n",
      "    https://scikit-learn.org/stable/modules/linear_model.html#logistic-regression\n",
      "  n_iter_i = _check_optimize_result(\n",
      "/home/p.kuznetsov/.local/lib/python3.9/site-packages/sklearn/metrics/_classification.py:1497: UndefinedMetricWarning: Precision is ill-defined and being set to 0.0 in labels with no predicted samples. Use `zero_division` parameter to control this behavior.\n",
      "  _warn_prf(average, modifier, f\"{metric.capitalize()} is\", len(result))\n",
      "/home/p.kuznetsov/.local/lib/python3.9/site-packages/sklearn/linear_model/_logistic.py:469: ConvergenceWarning: lbfgs failed to converge (status=1):\n",
      "STOP: TOTAL NO. of ITERATIONS REACHED LIMIT.\n",
      "\n",
      "Increase the number of iterations (max_iter) or scale the data as shown in:\n",
      "    https://scikit-learn.org/stable/modules/preprocessing.html\n",
      "Please also refer to the documentation for alternative solver options:\n",
      "    https://scikit-learn.org/stable/modules/linear_model.html#logistic-regression\n",
      "  n_iter_i = _check_optimize_result(\n",
      "/home/p.kuznetsov/.local/lib/python3.9/site-packages/sklearn/metrics/_classification.py:1497: UndefinedMetricWarning: Precision is ill-defined and being set to 0.0 in labels with no predicted samples. Use `zero_division` parameter to control this behavior.\n",
      "  _warn_prf(average, modifier, f\"{metric.capitalize()} is\", len(result))\n"
     ]
    },
    {
     "name": "stdout",
     "output_type": "stream",
     "text": [
      "---------------------------------\n",
      "---------------------------------\n",
      "[1 1 2 ... 2 2 2]\n",
      "accuracy = 0.5119896305897602\n",
      "f1 score = 0.36038101853053944\n",
      "precision = 0.33072387939450815\n",
      "recall =  0.4205996977650521\n",
      "---------------------------------\n",
      "---------------------------------\n",
      "[1 1 2 ... 2 2 2]\n",
      "accuracy = 0.5119896305897602\n",
      "f1 score = 0.36038101853053944\n",
      "precision = 0.33072387939450815\n",
      "recall =  0.4205996977650521\n"
     ]
    },
    {
     "name": "stderr",
     "output_type": "stream",
     "text": [
      "/home/p.kuznetsov/.local/lib/python3.9/site-packages/sklearn/linear_model/_logistic.py:469: ConvergenceWarning: lbfgs failed to converge (status=1):\n",
      "STOP: TOTAL NO. of ITERATIONS REACHED LIMIT.\n",
      "\n",
      "Increase the number of iterations (max_iter) or scale the data as shown in:\n",
      "    https://scikit-learn.org/stable/modules/preprocessing.html\n",
      "Please also refer to the documentation for alternative solver options:\n",
      "    https://scikit-learn.org/stable/modules/linear_model.html#logistic-regression\n",
      "  n_iter_i = _check_optimize_result(\n",
      "/home/p.kuznetsov/.local/lib/python3.9/site-packages/sklearn/metrics/_classification.py:1497: UndefinedMetricWarning: Precision is ill-defined and being set to 0.0 in labels with no predicted samples. Use `zero_division` parameter to control this behavior.\n",
      "  _warn_prf(average, modifier, f\"{metric.capitalize()} is\", len(result))\n",
      "/home/p.kuznetsov/.local/lib/python3.9/site-packages/sklearn/linear_model/_logistic.py:469: ConvergenceWarning: lbfgs failed to converge (status=1):\n",
      "STOP: TOTAL NO. of ITERATIONS REACHED LIMIT.\n",
      "\n",
      "Increase the number of iterations (max_iter) or scale the data as shown in:\n",
      "    https://scikit-learn.org/stable/modules/preprocessing.html\n",
      "Please also refer to the documentation for alternative solver options:\n",
      "    https://scikit-learn.org/stable/modules/linear_model.html#logistic-regression\n",
      "  n_iter_i = _check_optimize_result(\n",
      "/home/p.kuznetsov/.local/lib/python3.9/site-packages/sklearn/metrics/_classification.py:1497: UndefinedMetricWarning: Precision is ill-defined and being set to 0.0 in labels with no predicted samples. Use `zero_division` parameter to control this behavior.\n",
      "  _warn_prf(average, modifier, f\"{metric.capitalize()} is\", len(result))\n"
     ]
    },
    {
     "name": "stdout",
     "output_type": "stream",
     "text": [
      "---------------------------------\n",
      "---------------------------------\n",
      "[1 1 2 ... 2 2 2]\n",
      "accuracy = 0.5119896305897602\n",
      "f1 score = 0.36038101853053944\n",
      "precision = 0.33072387939450815\n",
      "recall =  0.4205996977650521\n",
      "---------------------------------\n",
      "---------------------------------\n",
      "[1 1 2 ... 2 2 2]\n",
      "accuracy = 0.5119896305897602\n",
      "f1 score = 0.36038101853053944\n",
      "precision = 0.33072387939450815\n",
      "recall =  0.4205996977650521\n"
     ]
    },
    {
     "name": "stderr",
     "output_type": "stream",
     "text": [
      "/home/p.kuznetsov/.local/lib/python3.9/site-packages/sklearn/linear_model/_logistic.py:469: ConvergenceWarning: lbfgs failed to converge (status=1):\n",
      "STOP: TOTAL NO. of ITERATIONS REACHED LIMIT.\n",
      "\n",
      "Increase the number of iterations (max_iter) or scale the data as shown in:\n",
      "    https://scikit-learn.org/stable/modules/preprocessing.html\n",
      "Please also refer to the documentation for alternative solver options:\n",
      "    https://scikit-learn.org/stable/modules/linear_model.html#logistic-regression\n",
      "  n_iter_i = _check_optimize_result(\n",
      "/home/p.kuznetsov/.local/lib/python3.9/site-packages/sklearn/metrics/_classification.py:1497: UndefinedMetricWarning: Precision is ill-defined and being set to 0.0 in labels with no predicted samples. Use `zero_division` parameter to control this behavior.\n",
      "  _warn_prf(average, modifier, f\"{metric.capitalize()} is\", len(result))\n",
      "/home/p.kuznetsov/.local/lib/python3.9/site-packages/sklearn/linear_model/_logistic.py:469: ConvergenceWarning: lbfgs failed to converge (status=1):\n",
      "STOP: TOTAL NO. of ITERATIONS REACHED LIMIT.\n",
      "\n",
      "Increase the number of iterations (max_iter) or scale the data as shown in:\n",
      "    https://scikit-learn.org/stable/modules/preprocessing.html\n",
      "Please also refer to the documentation for alternative solver options:\n",
      "    https://scikit-learn.org/stable/modules/linear_model.html#logistic-regression\n",
      "  n_iter_i = _check_optimize_result(\n",
      "/home/p.kuznetsov/.local/lib/python3.9/site-packages/sklearn/metrics/_classification.py:1497: UndefinedMetricWarning: Precision is ill-defined and being set to 0.0 in labels with no predicted samples. Use `zero_division` parameter to control this behavior.\n",
      "  _warn_prf(average, modifier, f\"{metric.capitalize()} is\", len(result))\n"
     ]
    },
    {
     "name": "stdout",
     "output_type": "stream",
     "text": [
      "---------------------------------\n",
      "---------------------------------\n",
      "[1 1 2 ... 2 2 2]\n",
      "accuracy = 0.5119896305897602\n",
      "f1 score = 0.36038101853053944\n",
      "precision = 0.33072387939450815\n",
      "recall =  0.4205996977650521\n",
      "---------------------------------\n",
      "---------------------------------\n",
      "[1 1 2 ... 2 2 2]\n",
      "accuracy = 0.5119896305897602\n",
      "f1 score = 0.36038101853053944\n",
      "precision = 0.33072387939450815\n",
      "recall =  0.4205996977650521\n",
      "---------------------------------\n",
      "---------------------------------\n",
      "[1 1 2 ... 2 2 2]\n",
      "accuracy = 0.5119896305897602\n",
      "f1 score = 0.36038101853053944\n",
      "precision = 0.33072387939450815\n",
      "recall =  0.4205996977650521\n",
      "---------------------------------\n",
      "---------------------------------\n",
      "---------------------------------\n",
      "---------------------------------\n"
     ]
    },
    {
     "name": "stderr",
     "output_type": "stream",
     "text": [
      "/home/p.kuznetsov/.local/lib/python3.9/site-packages/sklearn/linear_model/_logistic.py:469: ConvergenceWarning: lbfgs failed to converge (status=1):\n",
      "STOP: TOTAL NO. of ITERATIONS REACHED LIMIT.\n",
      "\n",
      "Increase the number of iterations (max_iter) or scale the data as shown in:\n",
      "    https://scikit-learn.org/stable/modules/preprocessing.html\n",
      "Please also refer to the documentation for alternative solver options:\n",
      "    https://scikit-learn.org/stable/modules/linear_model.html#logistic-regression\n",
      "  n_iter_i = _check_optimize_result(\n",
      "/home/p.kuznetsov/.local/lib/python3.9/site-packages/sklearn/metrics/_classification.py:1497: UndefinedMetricWarning: Precision is ill-defined and being set to 0.0 in labels with no predicted samples. Use `zero_division` parameter to control this behavior.\n",
      "  _warn_prf(average, modifier, f\"{metric.capitalize()} is\", len(result))\n",
      "/home/p.kuznetsov/.local/lib/python3.9/site-packages/sklearn/linear_model/_logistic.py:469: ConvergenceWarning: lbfgs failed to converge (status=1):\n",
      "STOP: TOTAL NO. of ITERATIONS REACHED LIMIT.\n",
      "\n",
      "Increase the number of iterations (max_iter) or scale the data as shown in:\n",
      "    https://scikit-learn.org/stable/modules/preprocessing.html\n",
      "Please also refer to the documentation for alternative solver options:\n",
      "    https://scikit-learn.org/stable/modules/linear_model.html#logistic-regression\n",
      "  n_iter_i = _check_optimize_result(\n",
      "/home/p.kuznetsov/.local/lib/python3.9/site-packages/sklearn/metrics/_classification.py:1497: UndefinedMetricWarning: Precision is ill-defined and being set to 0.0 in labels with no predicted samples. Use `zero_division` parameter to control this behavior.\n",
      "  _warn_prf(average, modifier, f\"{metric.capitalize()} is\", len(result))\n"
     ]
    }
   ],
   "source": [
    "from sklearn.linear_model import LogisticRegression\n",
    "for x in range(10):\n",
    "  clf = LogisticRegression(multi_class='multinomial').fit(X, y)\n",
    "  y_pred = clf.predict(x_test)\n",
    "  print(\"---------------------------------\")\n",
    "  print(\"---------------------------------\")\n",
    "  print(y_pred)\n",
    "  print(\"accuracy =\" ,met.accuracy_score(y_test,y_pred))\n",
    "  print(\"f1 score =\" ,met.f1_score(y_test,y_pred,average='macro'))\n",
    "  print(\"precision =\",met.precision_score(y_test,y_pred,average='macro'))\n",
    "  print(\"recall = \",met.recall_score(y_test,y_pred,average='macro'))\n",
    "print(\"---------------------------------\")\n",
    "print(\"---------------------------------\")\n",
    "print(\"---------------------------------\")\n",
    "print(\"---------------------------------\")"
   ]
  },
  {
   "cell_type": "code",
   "execution_count": 58,
   "id": "29e92399",
   "metadata": {
    "execution": {
     "iopub.execute_input": "2022-12-28T17:16:28.271239Z",
     "iopub.status.busy": "2022-12-28T17:16:28.270887Z",
     "iopub.status.idle": "2022-12-28T17:16:28.274549Z",
     "shell.execute_reply": "2022-12-28T17:16:28.273849Z"
    },
    "id": "qBX6cTYpWLn0",
    "papermill": {
     "duration": 0.037714,
     "end_time": "2022-12-28T17:16:28.277681",
     "exception": false,
     "start_time": "2022-12-28T17:16:28.239967",
     "status": "completed"
    },
    "tags": []
   },
   "outputs": [],
   "source": [
    "#merged_data2.corr()"
   ]
  },
  {
   "cell_type": "code",
   "execution_count": 59,
   "id": "c4941051",
   "metadata": {
    "execution": {
     "iopub.execute_input": "2022-12-28T17:16:28.335410Z",
     "iopub.status.busy": "2022-12-28T17:16:28.334993Z",
     "iopub.status.idle": "2022-12-28T17:16:28.338867Z",
     "shell.execute_reply": "2022-12-28T17:16:28.337925Z"
    },
    "id": "-dioghCSYdLo",
    "papermill": {
     "duration": 0.033578,
     "end_time": "2022-12-28T17:16:28.340711",
     "exception": false,
     "start_time": "2022-12-28T17:16:28.307133",
     "status": "completed"
    },
    "tags": []
   },
   "outputs": [],
   "source": [
    "#plt.figure(figsize=(17,17))\n",
    "#import seaborn as sns\n",
    "#sns.heatmap(merged_data2.corr(), annot = True, fmt='.2g')\n"
   ]
  },
  {
   "cell_type": "markdown",
   "id": "cb601f2b",
   "metadata": {
    "id": "6tZnrDTLM5fe",
    "papermill": {
     "duration": 0.022574,
     "end_time": "2022-12-28T17:16:28.386354",
     "exception": false,
     "start_time": "2022-12-28T17:16:28.363780",
     "status": "completed"
    },
    "tags": []
   },
   "source": [
    "# **Feature selection and dimensionility reduction**\n"
   ]
  },
  {
   "cell_type": "code",
   "execution_count": 60,
   "id": "decaa894",
   "metadata": {
    "execution": {
     "iopub.execute_input": "2022-12-28T17:16:28.434463Z",
     "iopub.status.busy": "2022-12-28T17:16:28.433849Z",
     "iopub.status.idle": "2022-12-28T17:16:30.055975Z",
     "shell.execute_reply": "2022-12-28T17:16:30.054537Z"
    },
    "id": "_efQjE2n98wp",
    "outputId": "021d6022-8e77-4bfa-bc0d-a208895cf7c5",
    "papermill": {
     "duration": 1.649071,
     "end_time": "2022-12-28T17:16:30.058686",
     "exception": false,
     "start_time": "2022-12-28T17:16:28.409615",
     "status": "completed"
    },
    "tags": []
   },
   "outputs": [
    {
     "name": "stdout",
     "output_type": "stream",
     "text": [
      "All features:\n",
      "['vehicle length' 'vehicle weight' 'axles number' 'vehicle speed'\n",
      " 'road condition' 'Air temperature' 'precipitation type'\n",
      " 'precipitation intensity' 'relative humidity' 'wind direction'\n",
      " 'wind speed' 'Lighting condition']\n",
      "[ True  True  True  True  True  True False  True  True  True  True  True]\n",
      "Selected best\n",
      "['vehicle length' 'vehicle weight' 'axles number' 'vehicle speed'\n",
      " 'road condition' 'Air temperature' 'precipitation intensity'\n",
      " 'relative humidity' 'wind direction' 'wind speed' 'Lighting condition']\n",
      "[[1.26500000e+03 1.02430000e+04 2.00000000e+00 ... 1.25157895e+02\n",
      "  5.26315789e-02 0.00000000e+00]\n",
      " [1.68000000e+03 3.08710000e+04 6.00000000e+00 ... 1.57818182e+02\n",
      "  6.00000000e+00 0.00000000e+00]\n",
      " [9.36000000e+02 3.22400000e+03 4.00000000e+00 ... 6.44545455e+01\n",
      "  0.00000000e+00 0.00000000e+00]\n",
      " ...\n",
      " [1.74700000e+03 3.18640000e+04 6.00000000e+00 ... 2.85000000e+02\n",
      "  5.57894737e+00 2.00000000e+00]\n",
      " [7.10000000e+02 3.24400000e+03 2.00000000e+00 ... 3.08466667e+02\n",
      "  3.66666667e+00 2.00000000e+00]\n",
      " [2.00100000e+03 2.78120000e+04 6.00000000e+00 ... 4.50000000e+01\n",
      "  8.00000000e+00 2.00000000e+00]]\n"
     ]
    },
    {
     "name": "stderr",
     "output_type": "stream",
     "text": [
      "/home/p.kuznetsov/.local/lib/python3.9/site-packages/sklearn/svm/_base.py:1237: ConvergenceWarning: Liblinear failed to converge, increase the number of iterations.\n",
      "  warnings.warn(\n",
      "/home/p.kuznetsov/.local/lib/python3.9/site-packages/sklearn/base.py:486: UserWarning: X has feature names, but SelectFromModel was fitted without feature names\n",
      "  warnings.warn(\n"
     ]
    }
   ],
   "source": [
    "from sklearn.feature_selection import SelectKBest\n",
    "from sklearn.svm import LinearSVC\n",
    "from sklearn.feature_selection import SelectFromModel, f_classif\n",
    "X = merged_data2.drop('DrivingStyle' , axis = 1)\n",
    "lsvc = LinearSVC(C=0.01, penalty=\"l1\", dual=False).fit(X, y)\n",
    "model = SelectFromModel(lsvc, prefit=True)\n",
    "X_new = model.transform(X)\n",
    "X_new.shape\n",
    "features = np.array(X.columns)\n",
    "filter = model.get_support()\n",
    "print(\"All features:\")\n",
    "print(features)\n",
    "print(filter)\n",
    "print(\"Selected best\")\n",
    "print(features[filter])\n",
    "print(X_new)"
   ]
  },
  {
   "cell_type": "code",
   "execution_count": 61,
   "id": "2ca5d106",
   "metadata": {
    "execution": {
     "iopub.execute_input": "2022-12-28T17:16:30.107368Z",
     "iopub.status.busy": "2022-12-28T17:16:30.107043Z",
     "iopub.status.idle": "2022-12-28T17:16:30.122286Z",
     "shell.execute_reply": "2022-12-28T17:16:30.120793Z"
    },
    "id": "Ioo1e2ZA-ztf",
    "outputId": "e3e56065-5082-409b-b6f2-694c692099c0",
    "papermill": {
     "duration": 0.04241,
     "end_time": "2022-12-28T17:16:30.124636",
     "exception": false,
     "start_time": "2022-12-28T17:16:30.082226",
     "status": "completed"
    },
    "tags": []
   },
   "outputs": [
    {
     "name": "stdout",
     "output_type": "stream",
     "text": [
      "All features:\n",
      "['vehicle length' 'vehicle weight' 'axles number' 'vehicle speed'\n",
      " 'road condition' 'Air temperature' 'precipitation type'\n",
      " 'precipitation intensity' 'relative humidity' 'wind direction'\n",
      " 'wind speed' 'Lighting condition']\n",
      "[ True  True  True False False False False  True False False False  True]\n",
      "Selected best 4:\n",
      "['vehicle length' 'vehicle weight' 'axles number'\n",
      " 'precipitation intensity' 'Lighting condition']\n",
      "[[1.2650e+03 1.0243e+04 2.0000e+00 0.0000e+00 0.0000e+00]\n",
      " [1.6800e+03 3.0871e+04 6.0000e+00 0.0000e+00 0.0000e+00]\n",
      " [9.3600e+02 3.2240e+03 4.0000e+00 0.0000e+00 0.0000e+00]\n",
      " ...\n",
      " [1.7470e+03 3.1864e+04 6.0000e+00 2.0000e+00 2.0000e+00]\n",
      " [7.1000e+02 3.2440e+03 2.0000e+00 2.0000e+00 2.0000e+00]\n",
      " [2.0010e+03 2.7812e+04 6.0000e+00 2.0000e+00 2.0000e+00]]\n"
     ]
    }
   ],
   "source": [
    "\n",
    "select = SelectKBest(score_func= f_classif, k=5)\n",
    "z = select.fit_transform(X, y)\n",
    "filter = select.get_support()\n",
    "print(\"All features:\")\n",
    "print(features)\n",
    "print(filter)\n",
    "print(\"Selected best 4:\")\n",
    "print(features[filter])\n",
    "print(z)"
   ]
  },
  {
   "cell_type": "code",
   "execution_count": 62,
   "id": "7d255076",
   "metadata": {
    "execution": {
     "iopub.execute_input": "2022-12-28T17:16:30.174317Z",
     "iopub.status.busy": "2022-12-28T17:16:30.173959Z",
     "iopub.status.idle": "2022-12-28T17:17:16.866438Z",
     "shell.execute_reply": "2022-12-28T17:17:16.864707Z"
    },
    "id": "fqbPVQ7LBVFE",
    "outputId": "d5c7ed79-cecb-473b-8d4e-ef57b2b1adee",
    "papermill": {
     "duration": 46.72073,
     "end_time": "2022-12-28T17:17:16.869040",
     "exception": false,
     "start_time": "2022-12-28T17:16:30.148310",
     "status": "completed"
    },
    "tags": []
   },
   "outputs": [
    {
     "name": "stdout",
     "output_type": "stream",
     "text": [
      "---------------------------------\n",
      "---------------------------------\n",
      "[2 1 3 ... 2 2 2]\n",
      "accuracy = 0.7342838626053143\n",
      "f1 score = 0.704848864337872\n",
      "precision = 0.7070023974068448\n",
      "recall =  0.7058823301189346\n",
      "---------------------------------\n",
      "---------------------------------\n",
      "[3 1 3 ... 1 2 2]\n",
      "accuracy = 0.7310434219053791\n",
      "f1 score = 0.7015785366468515\n",
      "precision = 0.70285283127761\n",
      "recall =  0.7031224478314932\n",
      "---------------------------------\n",
      "---------------------------------\n",
      "[2 1 3 ... 1 2 2]\n",
      "accuracy = 0.7362281270252754\n",
      "f1 score = 0.7073326095081546\n",
      "precision = 0.710271767240784\n",
      "recall =  0.708038324477733\n",
      "---------------------------------\n",
      "---------------------------------\n",
      "[2 1 3 ... 1 2 2]\n",
      "accuracy = 0.7440051847051199\n",
      "f1 score = 0.7174170512250605\n",
      "precision = 0.7207187465364301\n",
      "recall =  0.7170252554350883\n",
      "---------------------------------\n",
      "---------------------------------\n",
      "[2 1 3 ... 1 2 2]\n",
      "accuracy = 0.7342838626053143\n",
      "f1 score = 0.7053613983248321\n",
      "precision = 0.7077369696091157\n",
      "recall =  0.7055193765967726\n",
      "---------------------------------\n",
      "---------------------------------\n",
      "[2 1 3 ... 1 2 2]\n",
      "accuracy = 0.7375243033052495\n",
      "f1 score = 0.708490927239359\n",
      "precision = 0.7118626731988044\n",
      "recall =  0.7092455183678537\n",
      "---------------------------------\n",
      "---------------------------------\n",
      "[2 1 3 ... 1 2 2]\n",
      "accuracy = 0.7368762151652625\n",
      "f1 score = 0.7100143691746105\n",
      "precision = 0.712786669300181\n",
      "recall =  0.7094678298250412\n",
      "---------------------------------\n",
      "---------------------------------\n",
      "[2 1 3 ... 1 2 2]\n",
      "accuracy = 0.7342838626053143\n",
      "f1 score = 0.7080577756539927\n",
      "precision = 0.7091326359743318\n",
      "recall =  0.7095279664321339\n",
      "---------------------------------\n",
      "---------------------------------\n",
      "[2 1 3 ... 1 2 2]\n",
      "accuracy = 0.7388204795852236\n",
      "f1 score = 0.7116459238020498\n",
      "precision = 0.7124564953542345\n",
      "recall =  0.7135256928804076\n",
      "---------------------------------\n",
      "---------------------------------\n",
      "[2 1 3 ... 1 2 2]\n",
      "accuracy = 0.7394685677252106\n",
      "f1 score = 0.7136801849428919\n",
      "precision = 0.7154253892446664\n",
      "recall =  0.7145051436197969\n",
      "---------------------------------\n",
      "---------------------------------\n",
      "---------------------------------\n",
      "---------------------------------\n",
      "average = 0.7366817887232663\n"
     ]
    },
    {
     "data": {
      "image/png": "[encoded data removed]",
      "text/plain": [
       "<Figure size 640x480 with 2 Axes>"
      ]
     },
     "metadata": {},
     "output_type": "display_data"
    }
   ],
   "source": [
    "#X = merged_data2[['vehicle length','veincle weight','axles number','veincle speed','Lighting condition']]\n",
    "y = merged_data2['DrivingStyle']\n",
    "x_train,x_test,y_train,y_test=train_test_split(X,y,test_size=0.12,random_state=123)\n",
    "avgList = []\n",
    "for x in range(10):\n",
    "  clf2=RandomForestClassifier(n_estimators=150,max_depth=100,min_samples_split=3)\n",
    "  clf2.fit(x_train,y_train)\n",
    "  y_pred = clf2.predict(x_test)\n",
    "  print(\"---------------------------------\")\n",
    "  print(\"---------------------------------\")\n",
    "  print(y_pred)\n",
    "  print(\"accuracy =\" ,met.accuracy_score(y_test,y_pred))\n",
    "  print(\"f1 score =\" ,met.f1_score(y_test,y_pred,average='macro'))\n",
    "  print(\"precision =\",met.precision_score(y_test,y_pred,average='macro'))\n",
    "  print(\"recall = \",met.recall_score(y_test,y_pred,average='macro'))\n",
    "  avgList.append(met.accuracy_score(y_test,y_pred))\n",
    "print(\"---------------------------------\")\n",
    "print(\"---------------------------------\")\n",
    "print(\"---------------------------------\")\n",
    "print(\"---------------------------------\")\n",
    "print(\"average =\" ,sum(avgList)/len(avgList))\n",
    "from sklearn.metrics import ConfusionMatrixDisplay\n",
    "import matplotlib.pyplot as plt\n",
    "ConfusionMatrixDisplay.from_predictions(y_test, y_pred)\n",
    "plt.show()"
   ]
  },
  {
   "cell_type": "code",
   "execution_count": 63,
   "id": "65aa543f",
   "metadata": {
    "execution": {
     "iopub.execute_input": "2022-12-28T17:17:16.920805Z",
     "iopub.status.busy": "2022-12-28T17:17:16.920162Z",
     "iopub.status.idle": "2022-12-28T17:17:52.266917Z",
     "shell.execute_reply": "2022-12-28T17:17:52.265788Z"
    },
    "id": "VAK-2Szh_2fu",
    "papermill": {
     "duration": 35.375328,
     "end_time": "2022-12-28T17:17:52.269548",
     "exception": false,
     "start_time": "2022-12-28T17:17:16.894220",
     "status": "completed"
    },
    "tags": []
   },
   "outputs": [],
   "source": [
    "from sklearn.feature_selection import SequentialFeatureSelector\n",
    "from sklearn.neighbors import KNeighborsClassifier\n",
    "X = merged_data2.drop('DrivingStyle' , axis = 1)\n",
    "knn = KNeighborsClassifier(n_neighbors=3)\n",
    "sfs = SequentialFeatureSelector(knn, n_features_to_select=7)\n",
    "fit6 = sfs.fit(X, y)\n",
    "filter = sfs.get_support(True)\n"
   ]
  },
  {
   "cell_type": "code",
   "execution_count": 64,
   "id": "262a0ecb",
   "metadata": {
    "execution": {
     "iopub.execute_input": "2022-12-28T17:17:52.321285Z",
     "iopub.status.busy": "2022-12-28T17:17:52.320340Z",
     "iopub.status.idle": "2022-12-28T17:17:52.331004Z",
     "shell.execute_reply": "2022-12-28T17:17:52.330129Z"
    },
    "id": "TZOVpfpmIxAV",
    "outputId": "dececbc4-5fb4-4096-ff0e-fdd308989809",
    "papermill": {
     "duration": 0.038256,
     "end_time": "2022-12-28T17:17:52.332900",
     "exception": false,
     "start_time": "2022-12-28T17:17:52.294644",
     "status": "completed"
    },
    "tags": []
   },
   "outputs": [
    {
     "name": "stdout",
     "output_type": "stream",
     "text": [
      "All features:\n",
      "['vehicle length' 'vehicle weight' 'axles number' 'vehicle speed'\n",
      " 'road condition' 'Air temperature' 'precipitation type'\n",
      " 'precipitation intensity' 'relative humidity' 'wind direction'\n",
      " 'wind speed' 'Lighting condition']\n",
      "[ 2  3  4  6  7 10 11]\n",
      "Selected best 4:\n",
      "Index(['axles number', 'DrivingStyle', 'vehicle speed', 'Air temperature',\n",
      "       'precipitation type', 'wind direction', 'wind speed'],\n",
      "      dtype='object')\n",
      "SequentialFeatureSelector(estimator=KNeighborsClassifier(n_neighbors=3),\n",
      "                          n_features_to_select=7)\n"
     ]
    }
   ],
   "source": [
    "print(\"All features:\")\n",
    "print(features)\n",
    "print(filter)\n",
    "print(\"Selected best 4:\")\n",
    "print(merged_data2.iloc[:,filter].columns)\n",
    "print(fit6)"
   ]
  },
  {
   "cell_type": "code",
   "execution_count": 65,
   "id": "7fe878ab",
   "metadata": {
    "execution": {
     "iopub.execute_input": "2022-12-28T17:17:52.385124Z",
     "iopub.status.busy": "2022-12-28T17:17:52.384417Z",
     "iopub.status.idle": "2022-12-28T17:18:21.394612Z",
     "shell.execute_reply": "2022-12-28T17:18:21.393551Z"
    },
    "id": "sGXEmbOCDyqS",
    "outputId": "da4274ca-7cd9-4622-cdd8-d4bf60f99b47",
    "papermill": {
     "duration": 29.038925,
     "end_time": "2022-12-28T17:18:21.396464",
     "exception": false,
     "start_time": "2022-12-28T17:17:52.357539",
     "status": "completed"
    },
    "tags": []
   },
   "outputs": [
    {
     "name": "stdout",
     "output_type": "stream",
     "text": [
      "---------------------------------\n",
      "---------------------------------\n",
      "[3 2 2 ... 1 1 3]\n",
      "accuracy = 0.43810758263123784\n",
      "f1 score = 0.3940639354749648\n",
      "precision = 0.399675513174269\n",
      "recall =  0.3927048475924988\n",
      "---------------------------------\n",
      "---------------------------------\n",
      "[3 2 2 ... 1 1 2]\n",
      "accuracy = 0.4458846403110823\n",
      "f1 score = 0.39984388504313867\n",
      "precision = 0.4070408433852548\n",
      "recall =  0.398496196844574\n",
      "---------------------------------\n",
      "---------------------------------\n",
      "[3 2 2 ... 1 1 2]\n",
      "accuracy = 0.4426441996111471\n",
      "f1 score = 0.3984296798044919\n",
      "precision = 0.40394958803505077\n",
      "recall =  0.39748493190014217\n",
      "---------------------------------\n",
      "---------------------------------\n",
      "[3 2 2 ... 1 1 2]\n",
      "accuracy = 0.44653272845106934\n",
      "f1 score = 0.4027206863577031\n",
      "precision = 0.40867401322252367\n",
      "recall =  0.4010452130290809\n",
      "---------------------------------\n",
      "---------------------------------\n",
      "[3 2 2 ... 1 1 3]\n",
      "accuracy = 0.4439403758911212\n",
      "f1 score = 0.3986504380684362\n",
      "precision = 0.4048716040589581\n",
      "recall =  0.397275811698704\n",
      "---------------------------------\n",
      "---------------------------------\n",
      "[3 2 2 ... 1 1 2]\n",
      "accuracy = 0.45171743357096567\n",
      "f1 score = 0.40918686980310864\n",
      "precision = 0.41450964259056217\n",
      "recall =  0.40801135999906885\n",
      "---------------------------------\n",
      "---------------------------------\n",
      "[3 2 2 ... 1 1 2]\n",
      "accuracy = 0.4471808165910564\n",
      "f1 score = 0.4039216992367682\n",
      "precision = 0.40988832416373916\n",
      "recall =  0.4028683221692632\n",
      "---------------------------------\n",
      "---------------------------------\n",
      "[3 2 2 ... 1 1 3]\n",
      "accuracy = 0.4504212572909916\n",
      "f1 score = 0.4066198813485918\n",
      "precision = 0.4116271226563102\n",
      "recall =  0.4056588547274163\n",
      "---------------------------------\n",
      "---------------------------------\n",
      "[3 2 2 ... 1 1 2]\n",
      "accuracy = 0.44523655217109526\n",
      "f1 score = 0.4014963036557899\n",
      "precision = 0.4074591256297741\n",
      "recall =  0.39989931968038367\n",
      "---------------------------------\n",
      "---------------------------------\n",
      "[3 2 2 ... 1 1 3]\n",
      "accuracy = 0.44329228775113416\n",
      "f1 score = 0.3986545202060996\n",
      "precision = 0.40402503561053194\n",
      "recall =  0.3981627296587926\n",
      "---------------------------------\n",
      "---------------------------------\n",
      "---------------------------------\n",
      "---------------------------------\n",
      "average = 0.4454957874270901\n"
     ]
    },
    {
     "data": {
      "image/png": "[encoded data removed]",
      "text/plain": [
       "<Figure size 640x480 with 2 Axes>"
      ]
     },
     "metadata": {},
     "output_type": "display_data"
    }
   ],
   "source": [
    "X = merged_data2[['axles number', 'precipitation type', 'wind direction',\n",
    "       'wind speed']]\n",
    "y = merged_data2['DrivingStyle']\n",
    "x_train,x_test,y_train,y_test=train_test_split(X,y,test_size=0.12,random_state=123)\n",
    "avgList = []\n",
    "for x in range(10):\n",
    "  clf2=RandomForestClassifier(n_estimators=150,max_depth=100,min_samples_split=3)\n",
    "  clf2.fit(x_train,y_train)\n",
    "  y_pred = clf2.predict(x_test)\n",
    "  print(\"---------------------------------\")\n",
    "  print(\"---------------------------------\")\n",
    "  print(y_pred)\n",
    "  print(\"accuracy =\" ,met.accuracy_score(y_test,y_pred))\n",
    "  print(\"f1 score =\" ,met.f1_score(y_test,y_pred,average='macro'))\n",
    "  print(\"precision =\",met.precision_score(y_test,y_pred,average='macro'))\n",
    "  print(\"recall = \",met.recall_score(y_test,y_pred,average='macro'))\n",
    "  avgList.append(met.accuracy_score(y_test,y_pred))\n",
    "print(\"---------------------------------\")\n",
    "print(\"---------------------------------\")\n",
    "print(\"---------------------------------\")\n",
    "print(\"---------------------------------\")\n",
    "print(\"average =\" ,sum(avgList)/len(avgList))\n",
    "from sklearn.metrics import ConfusionMatrixDisplay\n",
    "import matplotlib.pyplot as plt\n",
    "ConfusionMatrixDisplay.from_predictions(y_test, y_pred)\n",
    "plt.show()"
   ]
  },
  {
   "cell_type": "code",
   "execution_count": 66,
   "id": "3a787b94",
   "metadata": {
    "execution": {
     "iopub.execute_input": "2022-12-28T17:18:21.447878Z",
     "iopub.status.busy": "2022-12-28T17:18:21.447090Z",
     "iopub.status.idle": "2022-12-28T17:18:21.525190Z",
     "shell.execute_reply": "2022-12-28T17:18:21.524376Z"
    },
    "id": "kKticwDVLDSk",
    "outputId": "a3fd692c-9e24-4e0b-9104-52f6c051d348",
    "papermill": {
     "duration": 0.105607,
     "end_time": "2022-12-28T17:18:21.527201",
     "exception": false,
     "start_time": "2022-12-28T17:18:21.421594",
     "status": "completed"
    },
    "tags": []
   },
   "outputs": [
    {
     "data": {
      "text/html": [
       "<div>\n",
       "<style scoped>\n",
       "    .dataframe tbody tr th:only-of-type {\n",
       "        vertical-align: middle;\n",
       "    }\n",
       "\n",
       "    .dataframe tbody tr th {\n",
       "        vertical-align: top;\n",
       "    }\n",
       "\n",
       "    .dataframe thead th {\n",
       "        text-align: right;\n",
       "    }\n",
       "</style>\n",
       "<table border=\"1\" class=\"dataframe\">\n",
       "  <thead>\n",
       "    <tr style=\"text-align: right;\">\n",
       "      <th></th>\n",
       "      <th>PC1</th>\n",
       "      <th>PC2</th>\n",
       "      <th>DrivingStyle</th>\n",
       "    </tr>\n",
       "  </thead>\n",
       "  <tbody>\n",
       "    <tr>\n",
       "      <th>0</th>\n",
       "      <td>-0.907135</td>\n",
       "      <td>0.058783</td>\n",
       "      <td>2.0</td>\n",
       "    </tr>\n",
       "    <tr>\n",
       "      <th>1</th>\n",
       "      <td>1.875031</td>\n",
       "      <td>-0.808129</td>\n",
       "      <td>2.0</td>\n",
       "    </tr>\n",
       "    <tr>\n",
       "      <th>2</th>\n",
       "      <td>-0.903210</td>\n",
       "      <td>1.351104</td>\n",
       "      <td>2.0</td>\n",
       "    </tr>\n",
       "    <tr>\n",
       "      <th>3</th>\n",
       "      <td>-0.418808</td>\n",
       "      <td>0.124760</td>\n",
       "      <td>2.0</td>\n",
       "    </tr>\n",
       "    <tr>\n",
       "      <th>4</th>\n",
       "      <td>-0.996469</td>\n",
       "      <td>0.120402</td>\n",
       "      <td>2.0</td>\n",
       "    </tr>\n",
       "  </tbody>\n",
       "</table>\n",
       "</div>"
      ],
      "text/plain": [
       "        PC1       PC2  DrivingStyle\n",
       "0 -0.907135  0.058783           2.0\n",
       "1  1.875031 -0.808129           2.0\n",
       "2 -0.903210  1.351104           2.0\n",
       "3 -0.418808  0.124760           2.0\n",
       "4 -0.996469  0.120402           2.0"
      ]
     },
     "execution_count": 66,
     "metadata": {},
     "output_type": "execute_result"
    }
   ],
   "source": [
    "X = merged_data2.drop('DrivingStyle' , axis = 1)\n",
    "scaler = StandardScaler()\n",
    "scaler.fit(X)\n",
    "scaled_data = scaler.transform(X)\n",
    "from sklearn.decomposition import PCA\n",
    "pca = PCA(n_components=2)\n",
    "pca.fit(scaled_data)\n",
    "principalComponents = pca.transform(scaled_data)\n",
    "principalDataframe = pd.DataFrame(data = principalComponents, columns = ['PC1', 'PC2'])\n",
    "newDataframe = pd.concat([principalDataframe, y],axis = 1)\n",
    "newDataframe.head(5)"
   ]
  },
  {
   "cell_type": "code",
   "execution_count": 67,
   "id": "9edfb01d",
   "metadata": {
    "execution": {
     "iopub.execute_input": "2022-12-28T17:18:21.627665Z",
     "iopub.status.busy": "2022-12-28T17:18:21.627310Z",
     "iopub.status.idle": "2022-12-28T17:18:21.637885Z",
     "shell.execute_reply": "2022-12-28T17:18:21.636472Z"
    },
    "id": "NqjpKHBtQClA",
    "outputId": "ba282224-e424-4ec6-fcfd-86141b3215a5",
    "papermill": {
     "duration": 0.053956,
     "end_time": "2022-12-28T17:18:21.640824",
     "exception": false,
     "start_time": "2022-12-28T17:18:21.586868",
     "status": "completed"
    },
    "tags": []
   },
   "outputs": [
    {
     "data": {
      "text/html": [
       "<div>\n",
       "<style scoped>\n",
       "    .dataframe tbody tr th:only-of-type {\n",
       "        vertical-align: middle;\n",
       "    }\n",
       "\n",
       "    .dataframe tbody tr th {\n",
       "        vertical-align: top;\n",
       "    }\n",
       "\n",
       "    .dataframe thead th {\n",
       "        text-align: right;\n",
       "    }\n",
       "</style>\n",
       "<table border=\"1\" class=\"dataframe\">\n",
       "  <thead>\n",
       "    <tr style=\"text-align: right;\">\n",
       "      <th></th>\n",
       "      <th>PC1</th>\n",
       "      <th>PC2</th>\n",
       "    </tr>\n",
       "  </thead>\n",
       "  <tbody>\n",
       "    <tr>\n",
       "      <th>0</th>\n",
       "      <td>-0.907135</td>\n",
       "      <td>0.058783</td>\n",
       "    </tr>\n",
       "    <tr>\n",
       "      <th>1</th>\n",
       "      <td>1.875031</td>\n",
       "      <td>-0.808129</td>\n",
       "    </tr>\n",
       "    <tr>\n",
       "      <th>2</th>\n",
       "      <td>-0.903210</td>\n",
       "      <td>1.351104</td>\n",
       "    </tr>\n",
       "    <tr>\n",
       "      <th>3</th>\n",
       "      <td>-0.418808</td>\n",
       "      <td>0.124760</td>\n",
       "    </tr>\n",
       "    <tr>\n",
       "      <th>4</th>\n",
       "      <td>-0.996469</td>\n",
       "      <td>0.120402</td>\n",
       "    </tr>\n",
       "    <tr>\n",
       "      <th>...</th>\n",
       "      <td>...</td>\n",
       "      <td>...</td>\n",
       "    </tr>\n",
       "    <tr>\n",
       "      <th>12852</th>\n",
       "      <td>-0.331731</td>\n",
       "      <td>2.763111</td>\n",
       "    </tr>\n",
       "    <tr>\n",
       "      <th>12853</th>\n",
       "      <td>-0.622429</td>\n",
       "      <td>3.413463</td>\n",
       "    </tr>\n",
       "    <tr>\n",
       "      <th>12854</th>\n",
       "      <td>3.348716</td>\n",
       "      <td>2.165830</td>\n",
       "    </tr>\n",
       "    <tr>\n",
       "      <th>12855</th>\n",
       "      <td>-0.483455</td>\n",
       "      <td>1.991316</td>\n",
       "    </tr>\n",
       "    <tr>\n",
       "      <th>12856</th>\n",
       "      <td>3.474448</td>\n",
       "      <td>2.193988</td>\n",
       "    </tr>\n",
       "  </tbody>\n",
       "</table>\n",
       "<p>12857 rows × 2 columns</p>\n",
       "</div>"
      ],
      "text/plain": [
       "            PC1       PC2\n",
       "0     -0.907135  0.058783\n",
       "1      1.875031 -0.808129\n",
       "2     -0.903210  1.351104\n",
       "3     -0.418808  0.124760\n",
       "4     -0.996469  0.120402\n",
       "...         ...       ...\n",
       "12852 -0.331731  2.763111\n",
       "12853 -0.622429  3.413463\n",
       "12854  3.348716  2.165830\n",
       "12855 -0.483455  1.991316\n",
       "12856  3.474448  2.193988\n",
       "\n",
       "[12857 rows x 2 columns]"
      ]
     },
     "execution_count": 67,
     "metadata": {},
     "output_type": "execute_result"
    }
   ],
   "source": [
    "principalDataframe"
   ]
  },
  {
   "cell_type": "code",
   "execution_count": 68,
   "id": "0e1914aa",
   "metadata": {
    "execution": {
     "iopub.execute_input": "2022-12-28T17:18:21.696273Z",
     "iopub.status.busy": "2022-12-28T17:18:21.695903Z",
     "iopub.status.idle": "2022-12-28T17:18:48.510989Z",
     "shell.execute_reply": "2022-12-28T17:18:48.509713Z"
    },
    "id": "9v7H1UbyLTrt",
    "outputId": "d1dacb15-d8e9-4776-f978-dfb3c7afd041",
    "papermill": {
     "duration": 26.845455,
     "end_time": "2022-12-28T17:18:48.513229",
     "exception": false,
     "start_time": "2022-12-28T17:18:21.667774",
     "status": "completed"
    },
    "tags": []
   },
   "outputs": [
    {
     "name": "stdout",
     "output_type": "stream",
     "text": [
      "---------------------------------\n",
      "---------------------------------\n",
      "[1 2 3 ... 1 3 2]\n",
      "accuracy = 0.5430978613091381\n",
      "f1 score = 0.5020729884620458\n",
      "precision = 0.507543102012296\n",
      "recall =  0.49888533888917985\n",
      "---------------------------------\n",
      "---------------------------------\n",
      "[1 2 3 ... 1 3 2]\n",
      "accuracy = 0.5437459494491251\n",
      "f1 score = 0.5052438211771134\n",
      "precision = 0.5119826933840478\n",
      "recall =  0.5012811037201281\n",
      "---------------------------------\n",
      "---------------------------------\n",
      "[1 2 3 ... 1 3 2]\n",
      "accuracy = 0.5482825664290344\n",
      "f1 score = 0.5089164169414283\n",
      "precision = 0.5138274892478109\n",
      "recall =  0.5058821361298795\n",
      "---------------------------------\n",
      "---------------------------------\n",
      "[1 2 3 ... 1 3 2]\n",
      "accuracy = 0.5385612443292288\n",
      "f1 score = 0.5014645578009634\n",
      "precision = 0.5069076150585153\n",
      "recall =  0.49796059306333934\n",
      "---------------------------------\n",
      "---------------------------------\n",
      "[1 2 3 ... 1 3 2]\n",
      "accuracy = 0.542449773169151\n",
      "f1 score = 0.5025748488530238\n",
      "precision = 0.5086762079626301\n",
      "recall =  0.49895924871918734\n",
      "---------------------------------\n",
      "---------------------------------\n",
      "[1 2 3 ... 1 2 2]\n",
      "accuracy = 0.5489306545690213\n",
      "f1 score = 0.5093141218592022\n",
      "precision = 0.5167999532406312\n",
      "recall =  0.5050823192555476\n",
      "---------------------------------\n",
      "---------------------------------\n",
      "[1 2 3 ... 1 3 2]\n",
      "accuracy = 0.5418016850291639\n",
      "f1 score = 0.5030516013001977\n",
      "precision = 0.5079940270106262\n",
      "recall =  0.49987681694998765\n",
      "---------------------------------\n",
      "---------------------------------\n",
      "[1 2 3 ... 1 3 2]\n",
      "accuracy = 0.5450421257290992\n",
      "f1 score = 0.508800453744274\n",
      "precision = 0.513578886150074\n",
      "recall =  0.505561278232682\n",
      "---------------------------------\n",
      "---------------------------------\n",
      "[1 2 3 ... 1 3 2]\n",
      "accuracy = 0.5405055087491899\n",
      "f1 score = 0.501617298627906\n",
      "precision = 0.5078316028133495\n",
      "recall =  0.4978566149297856\n",
      "---------------------------------\n",
      "---------------------------------\n",
      "[1 2 3 ... 1 3 2]\n",
      "accuracy = 0.5450421257290992\n",
      "f1 score = 0.5026606086869594\n",
      "precision = 0.509311991943175\n",
      "recall =  0.49899106292422984\n",
      "---------------------------------\n",
      "---------------------------------\n",
      "---------------------------------\n",
      "---------------------------------\n",
      "average = 0.543745949449125\n"
     ]
    },
    {
     "data": {
      "image/png": "[encoded data removed]",
      "text/plain": [
       "<Figure size 640x480 with 2 Axes>"
      ]
     },
     "metadata": {},
     "output_type": "display_data"
    }
   ],
   "source": [
    "X = principalDataframe\n",
    "x_train,x_test,y_train,y_test=train_test_split(X,y,test_size=0.12,random_state=123)\n",
    "avgList = []\n",
    "for x in range(10):\n",
    "  clf2=RandomForestClassifier(n_estimators=150,max_depth=100,min_samples_split=3)\n",
    "  clf2.fit(x_train,y_train)\n",
    "  y_pred = clf2.predict(x_test)\n",
    "  print(\"---------------------------------\")\n",
    "  print(\"---------------------------------\")\n",
    "  print(y_pred)\n",
    "  print(\"accuracy =\" ,met.accuracy_score(y_test,y_pred))\n",
    "  print(\"f1 score =\" ,met.f1_score(y_test,y_pred,average='macro'))\n",
    "  print(\"precision =\",met.precision_score(y_test,y_pred,average='macro'))\n",
    "  print(\"recall = \",met.recall_score(y_test,y_pred,average='macro'))\n",
    "  avgList.append(met.accuracy_score(y_test,y_pred))\n",
    "print(\"---------------------------------\")\n",
    "print(\"---------------------------------\")\n",
    "print(\"---------------------------------\")\n",
    "print(\"---------------------------------\")\n",
    "print(\"average =\" ,sum(avgList)/len(avgList))\n",
    "from sklearn.metrics import ConfusionMatrixDisplay\n",
    "import matplotlib.pyplot as plt\n",
    "ConfusionMatrixDisplay.from_predictions(y_test, y_pred)\n",
    "plt.show()"
   ]
  },
  {
   "cell_type": "markdown",
   "id": "27bbec03",
   "metadata": {
    "id": "Z2s9aRyEQSVl",
    "papermill": {
     "duration": 0.026157,
     "end_time": "2022-12-28T17:18:48.566152",
     "exception": false,
     "start_time": "2022-12-28T17:18:48.539995",
     "status": "completed"
    },
    "tags": []
   },
   "source": [
    "# **Oversampling and Undersampling**"
   ]
  },
  {
   "cell_type": "code",
   "execution_count": 69,
   "id": "e1cc6c7c",
   "metadata": {
    "execution": {
     "iopub.execute_input": "2022-12-28T17:18:48.621970Z",
     "iopub.status.busy": "2022-12-28T17:18:48.620887Z",
     "iopub.status.idle": "2022-12-28T17:18:48.626252Z",
     "shell.execute_reply": "2022-12-28T17:18:48.625612Z"
    },
    "id": "feqgVsL3XDR5",
    "papermill": {
     "duration": 0.035812,
     "end_time": "2022-12-28T17:18:48.628546",
     "exception": false,
     "start_time": "2022-12-28T17:18:48.592734",
     "status": "completed"
    },
    "tags": []
   },
   "outputs": [],
   "source": [
    "from collections import Counter\n",
    "X = merged_data2.drop(['DrivingStyle'] , axis = 1)"
   ]
  },
  {
   "cell_type": "code",
   "execution_count": 70,
   "id": "ac363dcc",
   "metadata": {
    "execution": {
     "iopub.execute_input": "2022-12-28T17:18:48.683570Z",
     "iopub.status.busy": "2022-12-28T17:18:48.683200Z",
     "iopub.status.idle": "2022-12-28T17:18:48.822788Z",
     "shell.execute_reply": "2022-12-28T17:18:48.821049Z"
    },
    "id": "mf3g0xFASA6I",
    "outputId": "1123f09a-ae8f-44d3-8250-03d6f07349ee",
    "papermill": {
     "duration": 0.170841,
     "end_time": "2022-12-28T17:18:48.825830",
     "exception": false,
     "start_time": "2022-12-28T17:18:48.654989",
     "status": "completed"
    },
    "tags": []
   },
   "outputs": [
    {
     "name": "stdout",
     "output_type": "stream",
     "text": [
      "[(1, 6346), (2, 6346), (3, 6346)]\n",
      "[('Air temperature', 1), ('Lighting condition', 1), ('axles number', 1), ('precipitation intensity', 1), ('precipitation type', 1), ('relative humidity', 1), ('road condition', 1), ('vehicle length', 1), ('vehicle speed', 1), ('vehicle weight', 1), ('wind direction', 1), ('wind speed', 1)]\n"
     ]
    }
   ],
   "source": [
    "from imblearn.over_sampling import RandomOverSampler\n",
    "ros = RandomOverSampler(random_state=0)\n",
    "X_resampled, y_resampled = ros.fit_resample(X, y)\n",
    "print(sorted(Counter(y_resampled).items()))\n",
    "print(sorted(Counter(X_resampled).items()))"
   ]
  },
  {
   "cell_type": "code",
   "execution_count": 71,
   "id": "91088876",
   "metadata": {
    "execution": {
     "iopub.execute_input": "2022-12-28T17:18:48.881318Z",
     "iopub.status.busy": "2022-12-28T17:18:48.880965Z",
     "iopub.status.idle": "2022-12-28T17:18:48.964890Z",
     "shell.execute_reply": "2022-12-28T17:18:48.963573Z"
    },
    "id": "9hOOUFJOSax1",
    "outputId": "bec74769-2f07-4789-e51c-a9696f9bd4f3",
    "papermill": {
     "duration": 0.114499,
     "end_time": "2022-12-28T17:18:48.967435",
     "exception": false,
     "start_time": "2022-12-28T17:18:48.852936",
     "status": "completed"
    },
    "tags": []
   },
   "outputs": [
    {
     "name": "stdout",
     "output_type": "stream",
     "text": [
      "dict_items([(2, 6346), (1, 2741), (3, 3770)])\n",
      "dict_items([(2, 6346), (1, 6346), (3, 6346)])\n",
      "2    6346\n",
      "3    3770\n",
      "1    2741\n",
      "Name: DrivingStyle, dtype: int64\n"
     ]
    },
    {
     "data": {
      "text/plain": [
       "([<matplotlib.patches.Wedge at 0x7f79e5d830a0>,\n",
       "  <matplotlib.patches.Wedge at 0x7f79e5d74fa0>,\n",
       "  <matplotlib.patches.Wedge at 0x7f79e5d83970>],\n",
       " [Text(0.02217315292679917, 1.0997765006078666, ''),\n",
       "  Text(-0.7001221014856635, -0.8484273940717018, ''),\n",
       "  Text(0.8623676270282761, -0.6828777898376988, '')])"
      ]
     },
     "execution_count": 71,
     "metadata": {},
     "output_type": "execute_result"
    },
    {
     "data": {
      "image/png": "[encoded data removed]",
      "text/plain": [
       "<Figure size 640x480 with 1 Axes>"
      ]
     },
     "metadata": {},
     "output_type": "display_data"
    }
   ],
   "source": [
    "z = Counter(y).items()\n",
    "v = Counter(y_resampled).items()\n",
    "u = y.value_counts()\n",
    "print(z)\n",
    "print(v)\n",
    "print(u)\n",
    "d = merged_data2.DrivingStyle.values\n",
    "plt.pie(u)"
   ]
  },
  {
   "cell_type": "code",
   "execution_count": 72,
   "id": "e0c0a220",
   "metadata": {
    "execution": {
     "iopub.execute_input": "2022-12-28T17:18:49.039039Z",
     "iopub.status.busy": "2022-12-28T17:18:49.038676Z",
     "iopub.status.idle": "2022-12-28T17:19:59.252296Z",
     "shell.execute_reply": "2022-12-28T17:19:59.251547Z"
    },
    "id": "nPA-tasNRMg2",
    "outputId": "b3320b08-889a-4c3b-ea5b-7e4aef2499e3",
    "papermill": {
     "duration": 70.277472,
     "end_time": "2022-12-28T17:19:59.280161",
     "exception": false,
     "start_time": "2022-12-28T17:18:49.002689",
     "status": "completed"
    },
    "tags": []
   },
   "outputs": [
    {
     "name": "stdout",
     "output_type": "stream",
     "text": [
      "---------------------------------\n",
      "---------------------------------\n",
      "[2 2 1 ... 3 3 1]\n",
      "accuracy = 0.8665966386554622\n",
      "f1 score = 0.8637871345578455\n",
      "precision = 0.8714826597827926\n",
      "recall =  0.8669008545133886\n",
      "---------------------------------\n",
      "---------------------------------\n",
      "[2 2 1 ... 3 3 1]\n",
      "accuracy = 0.8650210084033614\n",
      "f1 score = 0.8619268184729837\n",
      "precision = 0.8712003045575498\n",
      "recall =  0.8654011677949148\n",
      "---------------------------------\n",
      "---------------------------------\n",
      "[2 2 1 ... 3 3 1]\n",
      "accuracy = 0.868172268907563\n",
      "f1 score = 0.8653313183057639\n",
      "precision = 0.8735532974009929\n",
      "recall =  0.8684885438148052\n",
      "---------------------------------\n",
      "---------------------------------\n",
      "[2 2 1 ... 3 3 1]\n",
      "accuracy = 0.865546218487395\n",
      "f1 score = 0.8625796259403433\n",
      "precision = 0.8708341810093034\n",
      "recall =  0.865848594144358\n",
      "---------------------------------\n",
      "---------------------------------\n",
      "[2 2 1 ... 3 3 1]\n",
      "accuracy = 0.868172268907563\n",
      "f1 score = 0.8655003319808504\n",
      "precision = 0.8738224404961222\n",
      "recall =  0.868517366737759\n",
      "---------------------------------\n",
      "---------------------------------\n",
      "[2 2 1 ... 3 3 1]\n",
      "accuracy = 0.865546218487395\n",
      "f1 score = 0.8624574871855216\n",
      "precision = 0.8711062119050706\n",
      "recall =  0.865889559762126\n",
      "---------------------------------\n",
      "---------------------------------\n",
      "[2 2 1 ... 3 3 1]\n",
      "accuracy = 0.8665966386554622\n",
      "f1 score = 0.8634978311648256\n",
      "precision = 0.8727575584801998\n",
      "recall =  0.8669247564494965\n",
      "---------------------------------\n",
      "---------------------------------\n",
      "[2 2 1 ... 3 3 1]\n",
      "accuracy = 0.8692226890756303\n",
      "f1 score = 0.866340369187412\n",
      "precision = 0.8756612024915101\n",
      "recall =  0.8695529468786499\n",
      "---------------------------------\n",
      "---------------------------------\n",
      "[2 2 1 ... 3 3 1]\n",
      "accuracy = 0.8665966386554622\n",
      "f1 score = 0.8636759378381367\n",
      "precision = 0.8720239447746142\n",
      "recall =  0.866924372995976\n",
      "---------------------------------\n",
      "---------------------------------\n",
      "[2 2 1 ... 3 3 1]\n",
      "accuracy = 0.8618697478991597\n",
      "f1 score = 0.8590078502050869\n",
      "precision = 0.8675165472445864\n",
      "recall =  0.8621499293039525\n",
      "---------------------------------\n",
      "---------------------------------\n",
      "---------------------------------\n",
      "---------------------------------\n",
      "average = 0.8663340336134453\n"
     ]
    },
    {
     "data": {
      "image/png": "[encoded data removed]",
      "text/plain": [
       "<Figure size 640x480 with 2 Axes>"
      ]
     },
     "metadata": {},
     "output_type": "display_data"
    }
   ],
   "source": [
    "x_train,x_test,y_train,y_test=train_test_split(X_resampled,y_resampled,test_size=0.1,random_state=123)\n",
    "avgList = []\n",
    "for x in range(10):\n",
    "  clf2=RandomForestClassifier(n_estimators=150,max_depth=100,min_samples_split=3)\n",
    "  clf2.fit(x_train,y_train)\n",
    "  y_pred = clf2.predict(x_test)\n",
    "  print(\"---------------------------------\")\n",
    "  print(\"---------------------------------\")\n",
    "  print(y_pred)\n",
    "  print(\"accuracy =\" ,met.accuracy_score(y_test,y_pred))\n",
    "  print(\"f1 score =\" ,met.f1_score(y_test,y_pred,average='macro'))\n",
    "  print(\"precision =\",met.precision_score(y_test,y_pred,average='macro'))\n",
    "  print(\"recall = \",met.recall_score(y_test,y_pred,average='macro'))\n",
    "  avgList.append(met.accuracy_score(y_test,y_pred))\n",
    "print(\"---------------------------------\")\n",
    "print(\"---------------------------------\")\n",
    "print(\"---------------------------------\")\n",
    "print(\"---------------------------------\")\n",
    "print(\"average =\" ,sum(avgList)/len(avgList))\n",
    "from sklearn.metrics import ConfusionMatrixDisplay\n",
    "import matplotlib.pyplot as plt\n",
    "ConfusionMatrixDisplay.from_predictions(y_test, y_pred)\n",
    "plt.show()"
   ]
  },
  {
   "cell_type": "code",
   "execution_count": 73,
   "id": "d7272c09",
   "metadata": {
    "execution": {
     "iopub.execute_input": "2022-12-28T17:19:59.339239Z",
     "iopub.status.busy": "2022-12-28T17:19:59.338768Z",
     "iopub.status.idle": "2022-12-28T17:19:59.701000Z",
     "shell.execute_reply": "2022-12-28T17:19:59.699629Z"
    },
    "id": "YYu9Q4cPXblT",
    "outputId": "9bf772d1-3ce8-45b1-a22c-c0d2664610b9",
    "papermill": {
     "duration": 0.39497,
     "end_time": "2022-12-28T17:19:59.703708",
     "exception": false,
     "start_time": "2022-12-28T17:19:59.308738",
     "status": "completed"
    },
    "tags": []
   },
   "outputs": [
    {
     "data": {
      "image/png": "[encoded data removed]",
      "text/plain": [
       "<Figure size 640x480 with 1 Axes>"
      ]
     },
     "metadata": {},
     "output_type": "display_data"
    }
   ],
   "source": [
    "importances = clf2.feature_importances_\n",
    "sorted_indices = np.argsort(importances)[::-1]\n",
    "feat_labels = X.columns[1:]\n",
    "\n",
    "plt.title('Feature Importance')\n",
    "plt.bar(range(x_train.shape[1]), importances[sorted_indices], align='center')\n",
    "plt.xticks(range(x_train.shape[1]), x_train.columns[sorted_indices], rotation=90)\n",
    "plt.tight_layout()\n",
    "plt.show()"
   ]
  },
  {
   "cell_type": "code",
   "execution_count": 74,
   "id": "a3a19aea",
   "metadata": {
    "execution": {
     "iopub.execute_input": "2022-12-28T17:19:59.763153Z",
     "iopub.status.busy": "2022-12-28T17:19:59.762368Z",
     "iopub.status.idle": "2022-12-28T17:20:30.377364Z",
     "shell.execute_reply": "2022-12-28T17:20:30.376450Z"
    },
    "id": "TesUQ-vRWM3s",
    "outputId": "9b7a0b19-cde2-4767-ce5d-344fce7bec4c",
    "papermill": {
     "duration": 30.67408,
     "end_time": "2022-12-28T17:20:30.406659",
     "exception": false,
     "start_time": "2022-12-28T17:19:59.732579",
     "status": "completed"
    },
    "tags": []
   },
   "outputs": [
    {
     "name": "stdout",
     "output_type": "stream",
     "text": [
      "Cross Validation Scores:  [0.80357143 0.79017857 0.78308824 0.90018387 1.        ]\n",
      "Average CV Score:  0.855404421421839\n",
      "Number of CV Scores used in Average:  5\n"
     ]
    }
   ],
   "source": [
    "from sklearn.model_selection import KFold, cross_val_score\n",
    "k_folds = KFold(n_splits = 5)\n",
    "scores = cross_val_score(clf2, X_resampled, y_resampled, cv = k_folds)\n",
    "print(\"Cross Validation Scores: \", scores)\n",
    "print(\"Average CV Score: \", scores.mean())\n",
    "print(\"Number of CV Scores used in Average: \", len(scores))\n"
   ]
  },
  {
   "cell_type": "code",
   "execution_count": 75,
   "id": "843545d0",
   "metadata": {},
   "outputs": [],
   "source": [
    "# import pickle\n",
    "\n",
    "# with open('model.pkl', 'wb') as f:\n",
    "#     pickle.dump(clf2, f)"
   ]
  }
 ],
 "metadata": {
  "kernelspec": {
   "display_name": "myenv",
   "language": "python",
   "name": "myenv"
  },
  "language_info": {
   "codemirror_mode": {
    "name": "ipython",
    "version": 3
   },
   "file_extension": ".py",
   "mimetype": "text/x-python",
   "name": "python",
   "nbconvert_exporter": "python",
   "pygments_lexer": "ipython3",
   "version": "3.9.7"
  },
  "papermill": {
   "default_parameters": {},
   "duration": 355.935477,
   "end_time": "2022-12-28T17:20:31.256773",
   "environment_variables": {},
   "exception": null,
   "input_path": "__notebook__.ipynb",
   "output_path": "__notebook__.ipynb",
   "parameters": {},
   "start_time": "2022-12-28T17:14:35.321296",
   "version": "2.3.4"
  }
 },
 "nbformat": 4,
 "nbformat_minor": 5
}
